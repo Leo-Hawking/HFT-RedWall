{
 "cells": [
  {
   "cell_type": "code",
   "execution_count": 10,
   "metadata": {},
   "outputs": [],
   "source": [
    "import pandas as pd\n",
    "import numpy as np\n",
    "import os\n",
    "import sys\n",
    "from tqdm.notebook import tqdm"
   ]
  },
  {
   "cell_type": "code",
   "execution_count": 1,
   "metadata": {},
   "outputs": [
    {
     "ename": "NameError",
     "evalue": "name 'os' is not defined",
     "output_type": "error",
     "traceback": [
      "\u001b[0;31m---------------------------------------------------------------------------\u001b[0m",
      "\u001b[0;31mNameError\u001b[0m                                 Traceback (most recent call last)",
      "Cell \u001b[0;32mIn[1], line 3\u001b[0m\n\u001b[1;32m      1\u001b[0m source_path \u001b[38;5;241m=\u001b[39m \u001b[38;5;124mr\u001b[39m\u001b[38;5;124m'\u001b[39m\u001b[38;5;124m/home/datamake94/data_nb7/sec_score_output/dcn_bert_multiperiod_5m_final_0323_wccc_all\u001b[39m\u001b[38;5;124m'\u001b[39m\n\u001b[1;32m      2\u001b[0m output_path \u001b[38;5;241m=\u001b[39m \u001b[38;5;124mr\u001b[39m\u001b[38;5;124m'\u001b[39m\u001b[38;5;124m/home/datamake94/data_nb7/zs_score_output/dcn_bert_multiperiod_5m_final_wccc_citic2_test\u001b[39m\u001b[38;5;124m'\u001b[39m\n\u001b[0;32m----> 3\u001b[0m \u001b[43mos\u001b[49m\u001b[38;5;241m.\u001b[39mmakedirs(output_path, exist_ok\u001b[38;5;241m=\u001b[39m\u001b[38;5;28;01mTrue\u001b[39;00m)\n\u001b[1;32m      5\u001b[0m date_list \u001b[38;5;241m=\u001b[39m \u001b[38;5;28msorted\u001b[39m(os\u001b[38;5;241m.\u001b[39mlistdir(source_path))\n\u001b[1;32m      6\u001b[0m date_list \u001b[38;5;241m=\u001b[39m [x[:\u001b[38;5;241m8\u001b[39m] \u001b[38;5;28;01mfor\u001b[39;00m x \u001b[38;5;129;01min\u001b[39;00m date_list]\n",
      "\u001b[0;31mNameError\u001b[0m: name 'os' is not defined"
     ]
    }
   ],
   "source": [
    "source_path = r'/home/datamake94/data_nb7/sec_score_output/dcn_bert_multiperiod_5m_final_0323_wccc_all'\n",
    "output_path = r'/home/datamake94/data_nb7/zs_score_output/dcn_bert_multiperiod_5m_final_wccc_citic2_test'\n",
    "os.makedirs(output_path, exist_ok=True)\n",
    "\n",
    "date_list = sorted(os.listdir(source_path))\n",
    "date_list = [x[:8] for x in date_list]\n",
    "\n",
    "for date in tqdm(date_list):\n",
    "    file = pd.read_feather(os.path.join(source_path, date+'.fea')).set_index('second')\n",
    "    file['minute'] = file.index // 100\n",
    "    file = file.groupby('minute').mean()\n",
    "    file.reset_index().to_feather(os.path.join(output_path, date+'.fea'))"
   ]
  },
  {
   "cell_type": "code",
   "execution_count": null,
   "metadata": {},
   "outputs": [],
   "source": []
  }
 ],
 "metadata": {
  "kernelspec": {
   "display_name": "Python 3 (ipykernel)",
   "language": "python",
   "name": "python3"
  },
  "language_info": {
   "codemirror_mode": {
    "name": "ipython",
    "version": 3
   },
   "file_extension": ".py",
   "mimetype": "text/x-python",
   "name": "python",
   "nbconvert_exporter": "python",
   "pygments_lexer": "ipython3",
   "version": "3.8.0"
  }
 },
 "nbformat": 4,
 "nbformat_minor": 2
}
