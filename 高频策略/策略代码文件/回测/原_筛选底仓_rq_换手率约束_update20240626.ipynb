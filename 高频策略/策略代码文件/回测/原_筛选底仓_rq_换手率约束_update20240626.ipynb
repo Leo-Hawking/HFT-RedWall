{
 "cells": [
  {
   "cell_type": "code",
   "execution_count": 18,
   "metadata": {},
   "outputs": [],
   "source": [
    "import pandas as pd\n",
    "import numpy as np\n",
    "import os\n",
    "import datetime\n",
    "import pickle as pkl\n",
    "import sys\n",
    "sys.path.append(r'/home/datamake8/hqth_sec_strategy')\n",
    "sys.path.append(r'/home/datamake8/common_code')\n",
    "from sec_support import *\n",
    "from tonglian_config import *\n",
    "\n",
    "ohlc_path = r'/home/datamake8/basic_data/tonglian_data2/ohlc_fea'\n",
    "support_path = r'/home/datamake8/data0/trade_support'\n",
    "\n",
    "TURNOVER_RATE = pd.read_feather(os.path.join(ohlc_path, 'TURNOVER_RATE.fea'))\n",
    "TURNOVER_VALUE = pd.read_feather(os.path.join(ohlc_path, 'TURNOVER_VALUE.fea'))\n",
    "MARKET_VALUE = pd.read_feather(os.path.join(ohlc_path, 'NEG_MARKET_VALUE.fea'))\n",
    "\n",
    "TURNOVER_VALUE = TURNOVER_VALUE.set_index('TRADE_DATE')\n",
    "TURNOVER_VALUE.index = pd.to_datetime(TURNOVER_VALUE.index).strftime('%Y%m%d')\n",
    "TURNOVER_VALUE = TURNOVER_VALUE.rolling(5).mean().shift(1)\n",
    "MARKET_VALUE = MARKET_VALUE.set_index('TRADE_DATE')\n",
    "MARKET_VALUE.index = pd.to_datetime(MARKET_VALUE.index).strftime('%Y%m%d')\n",
    "MARKET_VALUE = MARKET_VALUE.rolling(5).mean().shift(1)\n",
    "\n",
    "class params:\n",
    "    citic_share_limit = 0.002\n",
    "    cmvg_share_limit = 0.002\n",
    "    turnover_limit = 0.4\n",
    "    hold_limit_ratio_long = 0.01\n",
    "    hold_limit_ratio_short = 0.01\n",
    "    t0_score_ratio = 0.15\n",
    "    assume_rq_time = 5  # 假设每只股票最多能融5天"
   ]
  },
  {
   "cell_type": "code",
   "execution_count": 19,
   "metadata": {},
   "outputs": [],
   "source": [
    "import cvxpy as cp\n",
    "def get_target_stock_ratio(date, pre_amt_dict):\n",
    "    pre_date = date_list_all[date_list_all.index(date) - 1]\n",
    "    pre_amt_se = pd.Series(pre_amt_dict)\n",
    "\n",
    "    # 读取trade_support信息\n",
    "    td_support = pd.read_csv(os.path.join(support_path, f'{pre_date}_trade_support.csv'),index_col=0)\n",
    "    valid_code = [x for x in td_support.index if x//10000 in [0,30,60,68]]\n",
    "    td_support = td_support.loc[valid_code]\n",
    "    stock_list = td_support.index.tolist()\n",
    "    td_black = pd.read_csv(r'/home/datamake8/ITdev/sample_data/black_list/%s_black_list.csv'%pre_date,index_col=0)\n",
    "    td_black = td_black[td_black['black']==True].index.tolist()\n",
    "    td_black = [int(x) for x in td_black]\n",
    "    stock_list = [x for x in stock_list if x not in td_black]\n",
    "    # 根据昨日股票名单求并集\n",
    "    pre_stock_list = pre_amt_se.index.tolist()\n",
    "    stock_list = sorted(list(set(stock_list) | set(pre_stock_list)))\n",
    "    pre_amt_se = pre_amt_se.reindex(stock_list).fillna(0)\n",
    "    pre_amt_hold = pre_amt_se[pre_amt_se>0].reindex(stock_list).fillna(0)\n",
    "    pre_amt_rq = pre_amt_se[pre_amt_se<0].reindex(stock_list).fillna(0)\n",
    "\n",
    "    #筛选融券名单\n",
    "    period_date_list = date_list_all[date_list_all.index(date)-params.assume_rq_time:date_list_all.index(date)]\n",
    "    total_rq_stock = []\n",
    "    for dt in period_date_list:\n",
    "        daily_rq_stock_df = pd.read_pickle(r'/home/datamake8/data0/海通券单_新/%s.pkl'%dt)\n",
    "        daily_rq_stock_df = daily_rq_stock_df[~pd.isnull(daily_rq_stock_df['code'])].copy()\n",
    "        daily_rq_stock_df['code'] = daily_rq_stock_df['code'].astype(int)\n",
    "        daily_rq_stock = sorted(daily_rq_stock_df['code'].drop_duplicates().tolist())\n",
    "        daily_rq_stock = [x for x in daily_rq_stock if x in stock_list]\n",
    "        total_rq_stock.extend(daily_rq_stock)\n",
    "    total_rq_stock = sorted(list(set(total_rq_stock)))\n",
    "\n",
    "    cmvg_mtx = pd.get_dummies(td_support.reindex(index=stock_list)['cmv_group']).T.astype(int).fillna(0)\n",
    "    cmvg_mtx = cmvg_mtx.values\n",
    "    citic_mtx = pd.get_dummies(td_support.reindex(index=stock_list)['citic1_code']).T.astype(int).fillna(0)\n",
    "    citic_mtx = citic_mtx.values\n",
    "\n",
    "    #根据过去5日的股票打分情况筛选股票\n",
    "    period_date_list = date_list_all[date_list_all.index(date)-5-1:date_list_all.index(date)-1]\n",
    "    score_dict = {}\n",
    "    for dt in period_date_list:\n",
    "        if dt <= '20230630': score_path = r'/home/datamake8/datamake94/second_score/dcn_bert_multiperiod_5m_final_0323_wccc_all'\n",
    "        # else: score_path = r'/home/datamake8/datamake94/second_score/dcn_bert_multiperiod_5m_final_0323_wccc_all_sota2'\n",
    "        else: score_path = r'/home/datamake8/datamake94/second_score/dcn_bert_multiperiod_5m_final_0529_factor1057_wccc_all_sota2_final'\n",
    "        score_data = pd.read_feather(os.path.join(score_path, f'{dt}.fea')).set_index('second')\n",
    "        # score_data = get_alpha_dict(stock_list,dt,score_ratio_1m=0.2,score_ratio_15s=0.2, score_ratio_5m=0.6)['sec_300s']\n",
    "        score_data.columns = score_data.columns.astype(int)\n",
    "        score_std = score_data.std(axis=0)\n",
    "        score_range = score_data.max(axis=0) - score_data.min(axis=0)\n",
    "        score_dict[dt] = score_std.rank(pct=True) + score_range.rank(pct=True)\n",
    "    score_mean = pd.DataFrame(score_dict).mean(axis=1).reindex(stock_list).fillna(0)\n",
    "    score_select_stock_long = score_mean[score_mean.rank(pct=True)>(1-params.t0_score_ratio)].index.tolist()\n",
    "    score_select_stock_short = score_mean[score_mean.rank(pct=True)>(1-params.t0_score_ratio)].index.tolist()\n",
    "\n",
    "    #根据过去1日的长周期股票打分情况筛选股票\n",
    "    period_date_list = date_list_all[date_list_all.index(date)-1-1:date_list_all.index(date)-1]\n",
    "    score_dict_short = {}\n",
    "    model_ratio = {'norm':1}\n",
    "    score_path_dict = {\n",
    "        'norm':r'/home/datamake8/database_00/min_score_period30/min_score_period1d_allstock_adj_transformer_final_select3_doublenorm_ver2_0618_wpcc_pwtrain',\n",
    "        'tabnet':r'/home/datamake8/database_00/min_score_period30/min_score_period1d_allstock_adj_tabnet_final_select3_doublenorm_ver2_0618_wpcc_pwtrain',\n",
    "    }\n",
    "    for dt in period_date_list:\n",
    "        score_model_list = []\n",
    "        for model_tag in list(model_ratio.keys()):\n",
    "            score_data = pd.read_feather(os.path.join(score_path_dict[model_tag], f'{dt}.fea')).set_index('index').loc[1440:]\n",
    "            # score_data = get_alpha_dict(stock_list,dt,score_ratio_1m=0.2,score_ratio_15s=0.2, score_ratio_5m=0.6)['sec_300s']\n",
    "            score_data.columns = score_data.columns.astype(int)\n",
    "            # score_model_list.append(score_data.mean(axis=0).rank(pct=True).reindex(stock_list).fillna(0.5) * model_ratio[model_tag])\n",
    "            score_data = score_data.mean(axis=0)#.rank(pct=True)\n",
    "            score_model_list.append(score_data * model_ratio[model_tag])\n",
    "\n",
    "        score_dict_short[dt] = sum(score_model_list)\n",
    "    score_mean_short = pd.DataFrame(score_dict_short).mean(axis=1).reindex(stock_list).fillna(0)\n",
    "\n",
    "    # 开始组合优化，多空+T0双打分优化\n",
    "\n",
    "    def make_parameter(param_s,fill=0):\n",
    "        return param_s.reindex(stock_list).replace([np.inf,-np.inf],np.nan).fillna(fill).values #cp.Parameter(\n",
    "    \n",
    "    n = len(stock_list)\n",
    "    for i in range(30):\n",
    "        cons = []\n",
    "        zeros = np.repeat(0, n).T\n",
    "        ones = np.repeat(1, n).T\n",
    "        allhold_amt = cp.Variable(n)\n",
    "        prehold_amt = make_parameter(pre_amt_se)\n",
    "        citic_share_limit, cmvg_share_limit = (i+1)*params.citic_share_limit, (i+1)*params.cmvg_share_limit\n",
    "\n",
    "        # 市值约束\n",
    "        all_cmvg = cmvg_mtx @ allhold_amt\n",
    "        mv_value = MARKET_VALUE.loc[date_list[date_list.index(date)-2]]\n",
    "        mv_value.index = [int(x) for x in mv_value.index]\n",
    "        mv_value = np.log(mv_value.reindex(index=stock_list).fillna(mv_value.mean()))\n",
    "        # mv_value_mean = mv_value.mean()\n",
    "        mv_value_std = mv_value.std()\n",
    "        cons.extend([all_cmvg + cmvg_share_limit >= 0,\n",
    "                     all_cmvg - cmvg_share_limit <= 0,\n",
    "                     mv_value.values @ allhold_amt >= -0.15*mv_value_std,\n",
    "                     mv_value.values @ allhold_amt <= 0.15*mv_value_std,\n",
    "                     ])\n",
    "        #行业约束\n",
    "        all_citic = citic_mtx @ allhold_amt\n",
    "        cons.extend([all_citic + citic_share_limit >= 0,\n",
    "                     all_citic - citic_share_limit <= 0,\n",
    "                     ])\n",
    "\n",
    "        #个股持仓约束\n",
    "        hold_limit_up = pd.Series({stock: params.hold_limit_ratio_long if stock in score_select_stock_long and stock not in td_black else 0 for stock in stock_list}).values\n",
    "        hold_limit_down = pd.Series({stock: -params.hold_limit_ratio_short if stock in total_rq_stock and stock not in td_black and stock in score_select_stock_short else 0 for stock in stock_list}).values\n",
    "        today_new_rq_limit = pd.Series({stock: params.hold_limit_ratio_short if stock in daily_rq_stock and stock not in td_black and stock in score_select_stock_short else 0 for stock in stock_list}).values\n",
    "        cons.extend([\n",
    "            allhold_amt >= hold_limit_down,\n",
    "            allhold_amt <= hold_limit_up,\n",
    "            cp.neg(allhold_amt) - cp.neg(prehold_amt) <= today_new_rq_limit,\n",
    "        ])\n",
    "\n",
    "        # #换手率约束，只约束卖出\n",
    "        # if pre_amt_se[pre_amt_se>0].sum() > 0.95:\n",
    "        #     cons.extend([\n",
    "        #         0.5*(cp.sum(cp.abs(allhold_amt - prehold_amt)) - cp.sum(allhold_amt - prehold_amt)) <= params.turnover_limit,\n",
    "        #     ])\n",
    "\n",
    "        #其他约束\n",
    "        cons.extend([\n",
    "            cp.sum(allhold_amt) <= 0.005,\n",
    "            cp.sum(allhold_amt) >= -0.005,\n",
    "            cp.sum(cp.pos(allhold_amt)) <= 1,\n",
    "        ])\n",
    "\n",
    "        # 定义问题，仓位打分差最小化\n",
    "        obj = cp.Maximize(score_mean_short.values @ allhold_amt)\n",
    "        # obj = cp.Maximize(score_mean.values @ pos_amt)\n",
    "        # obj = cp.Maximize(score_mean.values @ allhold_amt)\n",
    "\n",
    "        prob = cp.Problem(obj, cons)\n",
    "        # 求解\n",
    "        ans = prob.solve(solver='SCIPY',verbose=False)\n",
    "        # output = pd.Series(pre_amt_se + buy_amt.value - sell_amt.value,index=stock_list)\n",
    "        if allhold_amt.value is not None:\n",
    "            break\n",
    "\n",
    "        if (allhold_amt.value is None) and i==29:\n",
    "            print(date, '组合优化始终无解')\n",
    "            return date, {}\n",
    "\n",
    "    output = pd.Series(allhold_amt.value,index=stock_list)\n",
    "    print(i,output[output>0].sum(),output[output<0].sum())\n",
    "    output = output[output!=0].copy()\n",
    "\n",
    "    return date, output.to_dict()"
   ]
  },
  {
   "cell_type": "code",
   "execution_count": 20,
   "metadata": {},
   "outputs": [
    {
     "name": "stderr",
     "output_type": "stream",
     "text": [
      "  0%|                                                                         | 0/314 [00:00<?, ?it/s]"
     ]
    },
    {
     "name": "stderr",
     "output_type": "stream",
     "text": [
      "  0%|▏                                                                | 1/314 [00:03<17:30,  3.36s/it]"
     ]
    },
    {
     "name": "stdout",
     "output_type": "stream",
     "text": [
      "0 0.9999999999999991 -1.0005335365450676\n"
     ]
    },
    {
     "name": "stderr",
     "output_type": "stream",
     "text": [
      "  1%|▍                                                                | 2/314 [00:06<17:29,  3.36s/it]"
     ]
    },
    {
     "name": "stdout",
     "output_type": "stream",
     "text": [
      "0 0.9999999999999991 -1.003371149061759\n"
     ]
    },
    {
     "name": "stderr",
     "output_type": "stream",
     "text": [
      "  1%|▌                                                                | 3/314 [00:09<17:10,  3.31s/it]"
     ]
    },
    {
     "name": "stdout",
     "output_type": "stream",
     "text": [
      "0 0.9999999999999991 -1.0039999999999998\n"
     ]
    },
    {
     "name": "stderr",
     "output_type": "stream",
     "text": [
      "  1%|▊                                                                | 4/314 [00:13<16:39,  3.22s/it]"
     ]
    },
    {
     "name": "stdout",
     "output_type": "stream",
     "text": [
      "0 0.9999999999999991 -0.998989349408957\n"
     ]
    },
    {
     "name": "stderr",
     "output_type": "stream",
     "text": [
      "  2%|█                                                                | 5/314 [00:16<16:17,  3.16s/it]"
     ]
    },
    {
     "name": "stdout",
     "output_type": "stream",
     "text": [
      "0 0.9999999999999993 -1.0030718642603798\n"
     ]
    },
    {
     "name": "stderr",
     "output_type": "stream",
     "text": [
      "  2%|█▏                                                               | 6/314 [00:19<16:14,  3.16s/it]"
     ]
    },
    {
     "name": "stdout",
     "output_type": "stream",
     "text": [
      "0 0.9999999999999992 -1.0038196186880506\n"
     ]
    },
    {
     "name": "stderr",
     "output_type": "stream",
     "text": [
      "  2%|█▍                                                               | 7/314 [00:22<16:23,  3.20s/it]"
     ]
    },
    {
     "name": "stdout",
     "output_type": "stream",
     "text": [
      "0 0.9999999999999991 -1.004999999999999\n"
     ]
    },
    {
     "name": "stderr",
     "output_type": "stream",
     "text": [
      "  3%|█▋                                                               | 8/314 [00:26<16:45,  3.29s/it]"
     ]
    },
    {
     "name": "stdout",
     "output_type": "stream",
     "text": [
      "0 0.9999999999999992 -1.00165329260702\n"
     ]
    },
    {
     "name": "stderr",
     "output_type": "stream",
     "text": [
      "  3%|█▊                                                               | 9/314 [00:29<17:24,  3.43s/it]"
     ]
    },
    {
     "name": "stdout",
     "output_type": "stream",
     "text": [
      "0 0.9999999999999991 -1.004999999999999\n"
     ]
    },
    {
     "name": "stderr",
     "output_type": "stream",
     "text": [
      "  3%|██                                                              | 10/314 [00:33<17:41,  3.49s/it]"
     ]
    },
    {
     "name": "stdout",
     "output_type": "stream",
     "text": [
      "0 0.9999999999999991 -1.000325514470797\n"
     ]
    },
    {
     "name": "stderr",
     "output_type": "stream",
     "text": [
      "  4%|██▏                                                             | 11/314 [00:37<17:58,  3.56s/it]"
     ]
    },
    {
     "name": "stdout",
     "output_type": "stream",
     "text": [
      "0 0.9999999999999991 -0.9972245944052949\n"
     ]
    },
    {
     "name": "stderr",
     "output_type": "stream",
     "text": [
      "  4%|██▍                                                             | 12/314 [00:40<18:11,  3.61s/it]"
     ]
    },
    {
     "name": "stdout",
     "output_type": "stream",
     "text": [
      "0 0.9999999999999991 -1.0038286289640865\n"
     ]
    },
    {
     "name": "stderr",
     "output_type": "stream",
     "text": [
      "  4%|██▋                                                             | 13/314 [00:44<18:25,  3.67s/it]"
     ]
    },
    {
     "name": "stdout",
     "output_type": "stream",
     "text": [
      "0 0.9999999999999992 -0.997999999999999\n"
     ]
    },
    {
     "name": "stderr",
     "output_type": "stream",
     "text": [
      "  4%|██▊                                                             | 14/314 [00:48<18:27,  3.69s/it]"
     ]
    },
    {
     "name": "stdout",
     "output_type": "stream",
     "text": [
      "0 0.9999999999999991 -1.0049259142010625\n"
     ]
    },
    {
     "name": "stderr",
     "output_type": "stream",
     "text": [
      "  5%|███                                                             | 15/314 [00:51<17:57,  3.60s/it]"
     ]
    },
    {
     "name": "stdout",
     "output_type": "stream",
     "text": [
      "0 0.9999999999999991 -1.0022670264334728\n"
     ]
    },
    {
     "name": "stderr",
     "output_type": "stream",
     "text": [
      "  5%|███▎                                                            | 16/314 [00:55<17:49,  3.59s/it]"
     ]
    },
    {
     "name": "stdout",
     "output_type": "stream",
     "text": [
      "0 1.0 -1.005\n"
     ]
    },
    {
     "name": "stderr",
     "output_type": "stream",
     "text": [
      "  5%|███▍                                                            | 17/314 [00:59<18:03,  3.65s/it]"
     ]
    },
    {
     "name": "stdout",
     "output_type": "stream",
     "text": [
      "0 0.9999999999999991 -1.004188334530348\n"
     ]
    },
    {
     "name": "stderr",
     "output_type": "stream",
     "text": [
      "  6%|███▋                                                            | 18/314 [01:02<17:41,  3.59s/it]"
     ]
    },
    {
     "name": "stdout",
     "output_type": "stream",
     "text": [
      "0 0.9999999999999991 -1.004999999999999\n"
     ]
    },
    {
     "name": "stderr",
     "output_type": "stream",
     "text": [
      "  6%|███▊                                                            | 19/314 [01:06<17:27,  3.55s/it]"
     ]
    },
    {
     "name": "stdout",
     "output_type": "stream",
     "text": [
      "0 0.9999999999999991 -1.0045515291654041\n"
     ]
    },
    {
     "name": "stderr",
     "output_type": "stream",
     "text": [
      "  6%|████                                                            | 20/314 [01:09<17:11,  3.51s/it]"
     ]
    },
    {
     "name": "stdout",
     "output_type": "stream",
     "text": [
      "0 0.9999999999999991 -1.003988853595208\n"
     ]
    },
    {
     "name": "stderr",
     "output_type": "stream",
     "text": [
      "  7%|████▎                                                           | 21/314 [01:12<17:09,  3.51s/it]"
     ]
    },
    {
     "name": "stdout",
     "output_type": "stream",
     "text": [
      "0 0.9999999999999991 -1.004999999999999\n"
     ]
    },
    {
     "name": "stderr",
     "output_type": "stream",
     "text": [
      "  7%|████▍                                                           | 22/314 [01:16<16:39,  3.42s/it]"
     ]
    },
    {
     "name": "stdout",
     "output_type": "stream",
     "text": [
      "0 0.999999999999999 -1.0049999999999994\n"
     ]
    },
    {
     "name": "stderr",
     "output_type": "stream",
     "text": [
      "  7%|████▋                                                           | 23/314 [01:19<16:59,  3.50s/it]"
     ]
    },
    {
     "name": "stdout",
     "output_type": "stream",
     "text": [
      "0 0.9999999999999992 -1.0005670255004577\n"
     ]
    },
    {
     "name": "stderr",
     "output_type": "stream",
     "text": [
      "  8%|████▉                                                           | 24/314 [01:23<16:25,  3.40s/it]"
     ]
    },
    {
     "name": "stdout",
     "output_type": "stream",
     "text": [
      "0 0.9999999999999992 -1.004999999999999\n"
     ]
    },
    {
     "name": "stderr",
     "output_type": "stream",
     "text": [
      "  8%|█████                                                           | 25/314 [01:26<16:12,  3.37s/it]"
     ]
    },
    {
     "name": "stdout",
     "output_type": "stream",
     "text": [
      "0 0.9999999999999991 -1.0026051044868345\n"
     ]
    },
    {
     "name": "stderr",
     "output_type": "stream",
     "text": [
      "  8%|█████▎                                                          | 26/314 [01:29<16:18,  3.40s/it]"
     ]
    },
    {
     "name": "stdout",
     "output_type": "stream",
     "text": [
      "0 0.9999999999999991 -1.0033107223330073\n"
     ]
    },
    {
     "name": "stderr",
     "output_type": "stream",
     "text": [
      "  9%|█████▌                                                          | 27/314 [01:33<16:03,  3.36s/it]"
     ]
    },
    {
     "name": "stdout",
     "output_type": "stream",
     "text": [
      "0 0.9999999999999991 -1.003052877787054\n"
     ]
    },
    {
     "name": "stderr",
     "output_type": "stream",
     "text": [
      "  9%|█████▋                                                          | 28/314 [01:36<16:00,  3.36s/it]"
     ]
    },
    {
     "name": "stdout",
     "output_type": "stream",
     "text": [
      "0 0.9999999999999992 -1.004509924245655\n"
     ]
    },
    {
     "name": "stderr",
     "output_type": "stream",
     "text": [
      "  9%|█████▉                                                          | 29/314 [01:39<15:52,  3.34s/it]"
     ]
    },
    {
     "name": "stdout",
     "output_type": "stream",
     "text": [
      "0 0.9999999999999991 -1.0029283392954818\n"
     ]
    },
    {
     "name": "stderr",
     "output_type": "stream",
     "text": [
      " 10%|██████                                                          | 30/314 [01:43<15:53,  3.36s/it]"
     ]
    },
    {
     "name": "stdout",
     "output_type": "stream",
     "text": [
      "0 0.9999999999999991 -1.0009659047534976\n"
     ]
    },
    {
     "name": "stderr",
     "output_type": "stream",
     "text": [
      " 10%|██████▎                                                         | 31/314 [01:46<16:05,  3.41s/it]"
     ]
    },
    {
     "name": "stdout",
     "output_type": "stream",
     "text": [
      "0 0.9999999999999991 -1.004136877404425\n"
     ]
    },
    {
     "name": "stderr",
     "output_type": "stream",
     "text": [
      " 10%|██████▌                                                         | 32/314 [01:49<15:41,  3.34s/it]"
     ]
    },
    {
     "name": "stdout",
     "output_type": "stream",
     "text": [
      "0 0.9999999999999992 -0.9989240188144686\n"
     ]
    },
    {
     "name": "stderr",
     "output_type": "stream",
     "text": [
      " 11%|██████▋                                                         | 33/314 [01:52<15:20,  3.28s/it]"
     ]
    },
    {
     "name": "stdout",
     "output_type": "stream",
     "text": [
      "0 0.9999999999999991 -0.9996838145432869\n"
     ]
    },
    {
     "name": "stderr",
     "output_type": "stream",
     "text": [
      " 11%|██████▉                                                         | 34/314 [01:56<15:01,  3.22s/it]"
     ]
    },
    {
     "name": "stdout",
     "output_type": "stream",
     "text": [
      "0 0.9999999999999991 -1.004999999999999\n"
     ]
    },
    {
     "name": "stderr",
     "output_type": "stream",
     "text": [
      " 11%|███████▏                                                        | 35/314 [01:59<14:47,  3.18s/it]"
     ]
    },
    {
     "name": "stdout",
     "output_type": "stream",
     "text": [
      "0 0.9999999999999991 -1.0035994153515326\n"
     ]
    },
    {
     "name": "stderr",
     "output_type": "stream",
     "text": [
      " 11%|███████▎                                                        | 36/314 [02:02<14:33,  3.14s/it]"
     ]
    },
    {
     "name": "stdout",
     "output_type": "stream",
     "text": [
      "0 0.9999999999999992 -1.0016935300697214\n"
     ]
    },
    {
     "name": "stderr",
     "output_type": "stream",
     "text": [
      " 12%|███████▌                                                        | 37/314 [02:05<14:23,  3.12s/it]"
     ]
    },
    {
     "name": "stdout",
     "output_type": "stream",
     "text": [
      "0 0.9999999999999991 -1.004999999999999\n"
     ]
    },
    {
     "name": "stderr",
     "output_type": "stream",
     "text": [
      " 12%|███████▋                                                        | 38/314 [02:08<14:16,  3.10s/it]"
     ]
    },
    {
     "name": "stdout",
     "output_type": "stream",
     "text": [
      "0 0.9999999999999992 -1.004999999999999\n"
     ]
    },
    {
     "name": "stderr",
     "output_type": "stream",
     "text": [
      " 12%|███████▉                                                        | 39/314 [02:11<14:16,  3.11s/it]"
     ]
    },
    {
     "name": "stdout",
     "output_type": "stream",
     "text": [
      "0 0.9999999999999991 -1.004999999999999\n"
     ]
    },
    {
     "name": "stderr",
     "output_type": "stream",
     "text": [
      " 13%|████████▏                                                       | 40/314 [02:14<14:15,  3.12s/it]"
     ]
    },
    {
     "name": "stdout",
     "output_type": "stream",
     "text": [
      "0 0.9999999999999992 -1.0049999999999992\n"
     ]
    },
    {
     "name": "stderr",
     "output_type": "stream",
     "text": [
      " 13%|████████▎                                                       | 41/314 [02:17<14:09,  3.11s/it]"
     ]
    },
    {
     "name": "stdout",
     "output_type": "stream",
     "text": [
      "0 0.9999999999999992 -1.0049999999999992\n"
     ]
    },
    {
     "name": "stderr",
     "output_type": "stream",
     "text": [
      " 13%|████████▌                                                       | 42/314 [02:20<14:06,  3.11s/it]"
     ]
    },
    {
     "name": "stdout",
     "output_type": "stream",
     "text": [
      "0 0.9999999999999996 -1.004999999999999\n"
     ]
    },
    {
     "name": "stderr",
     "output_type": "stream",
     "text": [
      " 14%|████████▊                                                       | 43/314 [02:23<14:04,  3.12s/it]"
     ]
    },
    {
     "name": "stdout",
     "output_type": "stream",
     "text": [
      "0 0.9999999999999991 -1.004909648294379\n"
     ]
    },
    {
     "name": "stderr",
     "output_type": "stream",
     "text": [
      " 14%|████████▉                                                       | 44/314 [02:27<14:01,  3.12s/it]"
     ]
    },
    {
     "name": "stdout",
     "output_type": "stream",
     "text": [
      "0 0.9999999999999992 -1.004999999999999\n"
     ]
    },
    {
     "name": "stderr",
     "output_type": "stream",
     "text": [
      " 14%|█████████▏                                                      | 45/314 [02:30<13:59,  3.12s/it]"
     ]
    },
    {
     "name": "stdout",
     "output_type": "stream",
     "text": [
      "0 0.9999999999999991 -1.0014164264736722\n"
     ]
    },
    {
     "name": "stderr",
     "output_type": "stream",
     "text": [
      " 15%|█████████▍                                                      | 46/314 [02:33<13:52,  3.11s/it]"
     ]
    },
    {
     "name": "stdout",
     "output_type": "stream",
     "text": [
      "0 0.9999999999999991 -1.004999999999999\n"
     ]
    },
    {
     "name": "stderr",
     "output_type": "stream",
     "text": [
      " 15%|█████████▌                                                      | 47/314 [02:36<13:45,  3.09s/it]"
     ]
    },
    {
     "name": "stdout",
     "output_type": "stream",
     "text": [
      "0 0.9999999999999991 -1.0049999999999992\n"
     ]
    },
    {
     "name": "stderr",
     "output_type": "stream",
     "text": [
      " 15%|█████████▊                                                      | 48/314 [02:39<13:40,  3.08s/it]"
     ]
    },
    {
     "name": "stdout",
     "output_type": "stream",
     "text": [
      "0 0.9999999999999991 -1.004458527204961\n"
     ]
    },
    {
     "name": "stderr",
     "output_type": "stream",
     "text": [
      " 16%|█████████▉                                                      | 49/314 [02:42<13:35,  3.08s/it]"
     ]
    },
    {
     "name": "stdout",
     "output_type": "stream",
     "text": [
      "0 0.9999999999999991 -1.005\n"
     ]
    },
    {
     "name": "stderr",
     "output_type": "stream",
     "text": [
      " 16%|██████████▏                                                     | 50/314 [02:45<13:30,  3.07s/it]"
     ]
    },
    {
     "name": "stdout",
     "output_type": "stream",
     "text": [
      "0 0.9999999999999991 -1.0049999999999988\n"
     ]
    },
    {
     "name": "stderr",
     "output_type": "stream",
     "text": [
      " 16%|██████████▍                                                     | 51/314 [02:48<13:28,  3.07s/it]"
     ]
    },
    {
     "name": "stdout",
     "output_type": "stream",
     "text": [
      "0 0.9999999999999992 -1.0006112279084773\n"
     ]
    },
    {
     "name": "stderr",
     "output_type": "stream",
     "text": [
      " 17%|██████████▌                                                     | 52/314 [02:51<13:28,  3.09s/it]"
     ]
    },
    {
     "name": "stdout",
     "output_type": "stream",
     "text": [
      "0 0.9999999999999991 -1.0045309454168696\n"
     ]
    },
    {
     "name": "stderr",
     "output_type": "stream",
     "text": [
      " 17%|██████████▊                                                     | 53/314 [02:54<13:33,  3.12s/it]"
     ]
    },
    {
     "name": "stdout",
     "output_type": "stream",
     "text": [
      "0 0.9999999999999992 -1.004999999999999\n"
     ]
    },
    {
     "name": "stderr",
     "output_type": "stream",
     "text": [
      " 17%|███████████                                                     | 54/314 [02:58<13:32,  3.13s/it]"
     ]
    },
    {
     "name": "stdout",
     "output_type": "stream",
     "text": [
      "0 0.9999999999999991 -1.004999999999999\n"
     ]
    },
    {
     "name": "stderr",
     "output_type": "stream",
     "text": [
      " 18%|███████████▏                                                    | 55/314 [03:01<13:33,  3.14s/it]"
     ]
    },
    {
     "name": "stdout",
     "output_type": "stream",
     "text": [
      "0 0.9999999999999992 -0.9979999999999992\n"
     ]
    },
    {
     "name": "stderr",
     "output_type": "stream",
     "text": [
      " 18%|███████████▍                                                    | 56/314 [03:04<13:32,  3.15s/it]"
     ]
    },
    {
     "name": "stdout",
     "output_type": "stream",
     "text": [
      "0 0.9999999999999992 -0.9979090826241653\n"
     ]
    },
    {
     "name": "stderr",
     "output_type": "stream",
     "text": [
      " 18%|███████████▌                                                    | 57/314 [03:07<13:31,  3.16s/it]"
     ]
    },
    {
     "name": "stdout",
     "output_type": "stream",
     "text": [
      "0 0.9999999999999991 -1.0025300582977568\n"
     ]
    },
    {
     "name": "stderr",
     "output_type": "stream",
     "text": [
      " 18%|███████████▊                                                    | 58/314 [03:10<13:29,  3.16s/it]"
     ]
    },
    {
     "name": "stdout",
     "output_type": "stream",
     "text": [
      "0 0.9999999999999991 -1.0014166125846318\n"
     ]
    },
    {
     "name": "stderr",
     "output_type": "stream",
     "text": [
      " 19%|████████████                                                    | 59/314 [03:13<13:26,  3.16s/it]"
     ]
    },
    {
     "name": "stdout",
     "output_type": "stream",
     "text": [
      "0 0.9999999999999998 -1.0005698122154456\n"
     ]
    },
    {
     "name": "stderr",
     "output_type": "stream",
     "text": [
      " 19%|████████████▏                                                   | 60/314 [03:17<13:24,  3.17s/it]"
     ]
    },
    {
     "name": "stdout",
     "output_type": "stream",
     "text": [
      "0 0.9999999999999992 -1.004999999999999\n"
     ]
    },
    {
     "name": "stderr",
     "output_type": "stream",
     "text": [
      " 19%|████████████▍                                                   | 61/314 [03:20<13:23,  3.18s/it]"
     ]
    },
    {
     "name": "stdout",
     "output_type": "stream",
     "text": [
      "0 0.9999999999999991 -1.0047605886513729\n"
     ]
    },
    {
     "name": "stderr",
     "output_type": "stream",
     "text": [
      " 20%|████████████▋                                                   | 62/314 [03:23<13:19,  3.17s/it]"
     ]
    },
    {
     "name": "stdout",
     "output_type": "stream",
     "text": [
      "0 0.9999999999999991 -1.004999999999999\n"
     ]
    },
    {
     "name": "stderr",
     "output_type": "stream",
     "text": [
      " 20%|████████████▊                                                   | 63/314 [03:26<13:15,  3.17s/it]"
     ]
    },
    {
     "name": "stdout",
     "output_type": "stream",
     "text": [
      "0 0.999999999999999 -1.0043036622310277\n"
     ]
    },
    {
     "name": "stderr",
     "output_type": "stream",
     "text": [
      " 20%|█████████████                                                   | 64/314 [03:29<13:12,  3.17s/it]"
     ]
    },
    {
     "name": "stdout",
     "output_type": "stream",
     "text": [
      "0 0.9999999999999991 -1.0042662326039613\n"
     ]
    },
    {
     "name": "stderr",
     "output_type": "stream",
     "text": [
      " 21%|█████████████▏                                                  | 65/314 [03:32<13:08,  3.17s/it]"
     ]
    },
    {
     "name": "stdout",
     "output_type": "stream",
     "text": [
      "0 0.9999999999999991 -1.004999999999999\n"
     ]
    },
    {
     "name": "stderr",
     "output_type": "stream",
     "text": [
      " 21%|█████████████▍                                                  | 66/314 [03:36<13:05,  3.17s/it]"
     ]
    },
    {
     "name": "stdout",
     "output_type": "stream",
     "text": [
      "0 0.9999999999999991 -1.004999999999999\n"
     ]
    },
    {
     "name": "stderr",
     "output_type": "stream",
     "text": [
      " 21%|█████████████▋                                                  | 67/314 [03:39<13:04,  3.18s/it]"
     ]
    },
    {
     "name": "stdout",
     "output_type": "stream",
     "text": [
      "0 0.9999999999999991 -1.0039999999999982\n"
     ]
    },
    {
     "name": "stderr",
     "output_type": "stream",
     "text": [
      " 22%|█████████████▊                                                  | 68/314 [03:42<13:02,  3.18s/it]"
     ]
    },
    {
     "name": "stdout",
     "output_type": "stream",
     "text": [
      "0 0.9999999999999992 -1.0034321924005898\n"
     ]
    },
    {
     "name": "stderr",
     "output_type": "stream",
     "text": [
      " 22%|██████████████                                                  | 69/314 [03:45<12:57,  3.17s/it]"
     ]
    },
    {
     "name": "stdout",
     "output_type": "stream",
     "text": [
      "0 0.9999999999999992 -1.004999999999999\n"
     ]
    },
    {
     "name": "stderr",
     "output_type": "stream",
     "text": [
      " 22%|██████████████▎                                                 | 70/314 [03:48<12:53,  3.17s/it]"
     ]
    },
    {
     "name": "stdout",
     "output_type": "stream",
     "text": [
      "0 0.9999999999999992 -1.0045995493560258\n"
     ]
    },
    {
     "name": "stderr",
     "output_type": "stream",
     "text": [
      " 23%|██████████████▍                                                 | 71/314 [03:51<12:45,  3.15s/it]"
     ]
    },
    {
     "name": "stdout",
     "output_type": "stream",
     "text": [
      "0 0.9999999999999991 -1.0006206767840182\n"
     ]
    },
    {
     "name": "stderr",
     "output_type": "stream",
     "text": [
      " 23%|██████████████▋                                                 | 72/314 [03:55<12:41,  3.15s/it]"
     ]
    },
    {
     "name": "stdout",
     "output_type": "stream",
     "text": [
      "0 0.9999999999999991 -1.0042885705454663\n"
     ]
    },
    {
     "name": "stderr",
     "output_type": "stream",
     "text": [
      " 23%|██████████████▉                                                 | 73/314 [03:58<12:37,  3.14s/it]"
     ]
    },
    {
     "name": "stdout",
     "output_type": "stream",
     "text": [
      "0 0.9999999999999991 -1.004999999999999\n"
     ]
    },
    {
     "name": "stderr",
     "output_type": "stream",
     "text": [
      " 24%|███████████████                                                 | 74/314 [04:01<12:34,  3.15s/it]"
     ]
    },
    {
     "name": "stdout",
     "output_type": "stream",
     "text": [
      "0 0.9999999999999991 -0.9984998394220063\n"
     ]
    },
    {
     "name": "stderr",
     "output_type": "stream",
     "text": [
      " 24%|███████████████▎                                                | 75/314 [04:04<12:35,  3.16s/it]"
     ]
    },
    {
     "name": "stdout",
     "output_type": "stream",
     "text": [
      "0 0.9999999999999992 -0.9991066609987315\n"
     ]
    },
    {
     "name": "stderr",
     "output_type": "stream",
     "text": [
      " 24%|███████████████▍                                                | 76/314 [04:07<12:32,  3.16s/it]"
     ]
    },
    {
     "name": "stdout",
     "output_type": "stream",
     "text": [
      "0 0.9999999999999991 -1.0049463351376604\n"
     ]
    },
    {
     "name": "stderr",
     "output_type": "stream",
     "text": [
      " 25%|███████████████▋                                                | 77/314 [04:10<12:31,  3.17s/it]"
     ]
    },
    {
     "name": "stdout",
     "output_type": "stream",
     "text": [
      "0 0.9999999999999991 -0.9979999999999991\n"
     ]
    },
    {
     "name": "stderr",
     "output_type": "stream",
     "text": [
      " 25%|███████████████▉                                                | 78/314 [04:13<12:20,  3.14s/it]"
     ]
    },
    {
     "name": "stdout",
     "output_type": "stream",
     "text": [
      "0 0.9999999999999991 -1.0035998824152763\n"
     ]
    },
    {
     "name": "stderr",
     "output_type": "stream",
     "text": [
      " 25%|████████████████                                                | 79/314 [04:16<12:09,  3.10s/it]"
     ]
    },
    {
     "name": "stdout",
     "output_type": "stream",
     "text": [
      "0 0.9999999999999992 -0.9972881184622338\n"
     ]
    },
    {
     "name": "stderr",
     "output_type": "stream",
     "text": [
      " 25%|████████████████▎                                               | 80/314 [04:20<12:02,  3.09s/it]"
     ]
    },
    {
     "name": "stdout",
     "output_type": "stream",
     "text": [
      "0 0.9999999999999991 -0.9980364049176413\n"
     ]
    },
    {
     "name": "stderr",
     "output_type": "stream",
     "text": [
      " 26%|████████████████▌                                               | 81/314 [04:23<11:58,  3.08s/it]"
     ]
    },
    {
     "name": "stdout",
     "output_type": "stream",
     "text": [
      "0 0.9999999999999992 -1.0026180926096182\n"
     ]
    },
    {
     "name": "stderr",
     "output_type": "stream",
     "text": [
      " 26%|████████████████▋                                               | 82/314 [04:26<11:57,  3.09s/it]"
     ]
    },
    {
     "name": "stdout",
     "output_type": "stream",
     "text": [
      "0 0.9999999999999991 -1.0010085330446499\n"
     ]
    },
    {
     "name": "stderr",
     "output_type": "stream",
     "text": [
      " 26%|████████████████▉                                               | 83/314 [04:29<11:56,  3.10s/it]"
     ]
    },
    {
     "name": "stdout",
     "output_type": "stream",
     "text": [
      "0 0.9999999999999992 -1.004999999999999\n"
     ]
    },
    {
     "name": "stderr",
     "output_type": "stream",
     "text": [
      " 27%|█████████████████                                               | 84/314 [04:32<11:53,  3.10s/it]"
     ]
    },
    {
     "name": "stdout",
     "output_type": "stream",
     "text": [
      "0 1.0 -0.9996123125973913\n"
     ]
    },
    {
     "name": "stderr",
     "output_type": "stream",
     "text": [
      " 27%|█████████████████▎                                              | 85/314 [04:35<11:44,  3.08s/it]"
     ]
    },
    {
     "name": "stdout",
     "output_type": "stream",
     "text": [
      "0 0.999999999999999 -0.9996622564299252\n"
     ]
    },
    {
     "name": "stderr",
     "output_type": "stream",
     "text": [
      " 27%|█████████████████▌                                              | 86/314 [04:38<11:38,  3.06s/it]"
     ]
    },
    {
     "name": "stdout",
     "output_type": "stream",
     "text": [
      "0 0.9999999999999991 -0.9965737025486552\n"
     ]
    },
    {
     "name": "stderr",
     "output_type": "stream",
     "text": [
      " 28%|█████████████████▋                                              | 87/314 [04:41<11:47,  3.12s/it]"
     ]
    },
    {
     "name": "stdout",
     "output_type": "stream",
     "text": [
      "0 0.9999999999999991 -1.004584349976033\n"
     ]
    },
    {
     "name": "stderr",
     "output_type": "stream",
     "text": [
      " 28%|█████████████████▉                                              | 88/314 [04:44<11:36,  3.08s/it]"
     ]
    },
    {
     "name": "stdout",
     "output_type": "stream",
     "text": [
      "0 0.9999999999999991 -1.0019999999999991\n"
     ]
    },
    {
     "name": "stderr",
     "output_type": "stream",
     "text": [
      " 28%|██████████████████▏                                             | 89/314 [04:47<11:30,  3.07s/it]"
     ]
    },
    {
     "name": "stdout",
     "output_type": "stream",
     "text": [
      "0 0.9999999999999999 -0.9979999999999998\n"
     ]
    },
    {
     "name": "stderr",
     "output_type": "stream",
     "text": [
      " 29%|██████████████████▎                                             | 90/314 [04:50<11:29,  3.08s/it]"
     ]
    },
    {
     "name": "stdout",
     "output_type": "stream",
     "text": [
      "0 0.9999999999999992 -1.0019999999999991\n"
     ]
    },
    {
     "name": "stderr",
     "output_type": "stream",
     "text": [
      " 29%|██████████████████▌                                             | 91/314 [04:53<11:29,  3.09s/it]"
     ]
    },
    {
     "name": "stdout",
     "output_type": "stream",
     "text": [
      "0 0.9999999999999991 -0.9999999999999991\n"
     ]
    },
    {
     "name": "stderr",
     "output_type": "stream",
     "text": [
      " 29%|██████████████████▊                                             | 92/314 [04:57<11:25,  3.09s/it]"
     ]
    },
    {
     "name": "stdout",
     "output_type": "stream",
     "text": [
      "0 0.9999999999999991 -1.0039999999999991\n"
     ]
    },
    {
     "name": "stderr",
     "output_type": "stream",
     "text": [
      " 30%|██████████████████▉                                             | 93/314 [05:00<11:21,  3.08s/it]"
     ]
    },
    {
     "name": "stdout",
     "output_type": "stream",
     "text": [
      "0 0.9999999999999991 -1.0021251275391283\n"
     ]
    },
    {
     "name": "stderr",
     "output_type": "stream",
     "text": [
      " 30%|███████████████████▏                                            | 94/314 [05:03<11:18,  3.08s/it]"
     ]
    },
    {
     "name": "stdout",
     "output_type": "stream",
     "text": [
      "0 0.9999999999999991 -1.0008661929298317\n"
     ]
    },
    {
     "name": "stderr",
     "output_type": "stream",
     "text": [
      " 30%|███████████████████▎                                            | 95/314 [05:06<11:20,  3.11s/it]"
     ]
    },
    {
     "name": "stdout",
     "output_type": "stream",
     "text": [
      "0 0.9999999999999991 -0.9999999999999991\n"
     ]
    },
    {
     "name": "stderr",
     "output_type": "stream",
     "text": [
      " 31%|███████████████████▌                                            | 96/314 [05:09<11:26,  3.15s/it]"
     ]
    },
    {
     "name": "stdout",
     "output_type": "stream",
     "text": [
      "0 0.9999999999999991 -1.0008106284434761\n"
     ]
    },
    {
     "name": "stderr",
     "output_type": "stream",
     "text": [
      " 31%|███████████████████▊                                            | 97/314 [05:12<11:34,  3.20s/it]"
     ]
    },
    {
     "name": "stdout",
     "output_type": "stream",
     "text": [
      "0 0.9999999999999992 -0.9987943615956179\n"
     ]
    },
    {
     "name": "stderr",
     "output_type": "stream",
     "text": [
      " 31%|███████████████████▉                                            | 98/314 [05:16<11:39,  3.24s/it]"
     ]
    },
    {
     "name": "stdout",
     "output_type": "stream",
     "text": [
      "0 0.9999999999999991 -1.001999999999999\n"
     ]
    },
    {
     "name": "stderr",
     "output_type": "stream",
     "text": [
      " 32%|████████████████████▏                                           | 99/314 [05:19<11:32,  3.22s/it]"
     ]
    },
    {
     "name": "stdout",
     "output_type": "stream",
     "text": [
      "0 0.9999999999999991 -1.0009999999999994\n"
     ]
    },
    {
     "name": "stderr",
     "output_type": "stream",
     "text": [
      " 32%|████████████████████                                           | 100/314 [05:22<11:24,  3.20s/it]"
     ]
    },
    {
     "name": "stdout",
     "output_type": "stream",
     "text": [
      "0 0.9999999999999991 -1.001999999999999\n"
     ]
    },
    {
     "name": "stderr",
     "output_type": "stream",
     "text": [
      " 32%|████████████████████▎                                          | 101/314 [05:25<11:24,  3.21s/it]"
     ]
    },
    {
     "name": "stdout",
     "output_type": "stream",
     "text": [
      "0 0.9999999999999991 -0.9979999999999999\n"
     ]
    },
    {
     "name": "stderr",
     "output_type": "stream",
     "text": [
      " 32%|████████████████████▍                                          | 102/314 [05:29<11:30,  3.26s/it]"
     ]
    },
    {
     "name": "stdout",
     "output_type": "stream",
     "text": [
      "0 0.9999999999999991 -0.9983706078203032\n"
     ]
    },
    {
     "name": "stderr",
     "output_type": "stream",
     "text": [
      " 33%|████████████████████▋                                          | 103/314 [05:32<11:20,  3.22s/it]"
     ]
    },
    {
     "name": "stdout",
     "output_type": "stream",
     "text": [
      "0 0.956 -0.958\n"
     ]
    },
    {
     "name": "stderr",
     "output_type": "stream",
     "text": [
      " 33%|████████████████████▊                                          | 104/314 [05:35<11:13,  3.21s/it]"
     ]
    },
    {
     "name": "stdout",
     "output_type": "stream",
     "text": [
      "0 0.9999999999999992 -0.9956373087981395\n"
     ]
    },
    {
     "name": "stderr",
     "output_type": "stream",
     "text": [
      " 33%|█████████████████████                                          | 105/314 [05:38<11:04,  3.18s/it]"
     ]
    },
    {
     "name": "stdout",
     "output_type": "stream",
     "text": [
      "0 0.9999999999999991 -0.9989679135731524\n"
     ]
    },
    {
     "name": "stderr",
     "output_type": "stream",
     "text": [
      " 34%|█████████████████████▎                                         | 106/314 [05:41<10:55,  3.15s/it]"
     ]
    },
    {
     "name": "stdout",
     "output_type": "stream",
     "text": [
      "0 0.9999999999999991 -0.9999566594331084\n"
     ]
    },
    {
     "name": "stderr",
     "output_type": "stream",
     "text": [
      " 34%|█████████████████████▍                                         | 107/314 [05:44<10:44,  3.11s/it]"
     ]
    },
    {
     "name": "stdout",
     "output_type": "stream",
     "text": [
      "0 0.9999999999999991 -0.994999999999999\n"
     ]
    },
    {
     "name": "stderr",
     "output_type": "stream",
     "text": [
      " 34%|█████████████████████▋                                         | 108/314 [05:47<10:37,  3.10s/it]"
     ]
    },
    {
     "name": "stdout",
     "output_type": "stream",
     "text": [
      "0 0.999999999999999 -0.9999104180012528\n"
     ]
    },
    {
     "name": "stderr",
     "output_type": "stream",
     "text": [
      " 35%|█████████████████████▊                                         | 109/314 [05:50<10:36,  3.11s/it]"
     ]
    },
    {
     "name": "stdout",
     "output_type": "stream",
     "text": [
      "0 0.9999999999999991 -0.997999999999999\n"
     ]
    },
    {
     "name": "stderr",
     "output_type": "stream",
     "text": [
      " 35%|██████████████████████                                         | 110/314 [05:54<10:39,  3.13s/it]"
     ]
    },
    {
     "name": "stdout",
     "output_type": "stream",
     "text": [
      "0 1.0 -0.9959999999999999\n"
     ]
    },
    {
     "name": "stderr",
     "output_type": "stream",
     "text": [
      " 35%|██████████████████████▎                                        | 111/314 [05:57<10:40,  3.16s/it]"
     ]
    },
    {
     "name": "stdout",
     "output_type": "stream",
     "text": [
      "0 0.9999999999999991 -1.0024483868919984\n"
     ]
    },
    {
     "name": "stderr",
     "output_type": "stream",
     "text": [
      " 36%|██████████████████████▍                                        | 112/314 [06:00<10:44,  3.19s/it]"
     ]
    },
    {
     "name": "stdout",
     "output_type": "stream",
     "text": [
      "0 0.9999999999999992 -0.994999999999999\n"
     ]
    },
    {
     "name": "stderr",
     "output_type": "stream",
     "text": [
      " 36%|██████████████████████▋                                        | 113/314 [06:03<10:43,  3.20s/it]"
     ]
    },
    {
     "name": "stdout",
     "output_type": "stream",
     "text": [
      "0 0.9999999999999991 -1.0039999999999991\n"
     ]
    },
    {
     "name": "stderr",
     "output_type": "stream",
     "text": [
      " 36%|██████████████████████▊                                        | 114/314 [06:07<10:41,  3.21s/it]"
     ]
    },
    {
     "name": "stdout",
     "output_type": "stream",
     "text": [
      "0 0.9999999999999991 -1.001877931571559\n"
     ]
    },
    {
     "name": "stderr",
     "output_type": "stream",
     "text": [
      " 37%|███████████████████████                                        | 115/314 [06:10<10:39,  3.21s/it]"
     ]
    },
    {
     "name": "stdout",
     "output_type": "stream",
     "text": [
      "0 0.9999999999999991 -0.9995545854572023\n"
     ]
    },
    {
     "name": "stderr",
     "output_type": "stream",
     "text": [
      " 37%|███████████████████████▎                                       | 116/314 [06:13<10:37,  3.22s/it]"
     ]
    },
    {
     "name": "stdout",
     "output_type": "stream",
     "text": [
      "0 0.9999999999999991 -0.9982729375847892\n"
     ]
    },
    {
     "name": "stderr",
     "output_type": "stream",
     "text": [
      " 37%|███████████████████████▍                                       | 117/314 [06:16<10:33,  3.21s/it]"
     ]
    },
    {
     "name": "stdout",
     "output_type": "stream",
     "text": [
      "0 0.9999999999999991 -1.004999999999999\n"
     ]
    },
    {
     "name": "stderr",
     "output_type": "stream",
     "text": [
      " 38%|███████████████████████▋                                       | 118/314 [06:19<10:32,  3.23s/it]"
     ]
    },
    {
     "name": "stdout",
     "output_type": "stream",
     "text": [
      "0 0.9999999999999991 -1.003984878358572\n"
     ]
    },
    {
     "name": "stderr",
     "output_type": "stream",
     "text": [
      " 38%|███████████████████████▉                                       | 119/314 [06:23<10:32,  3.24s/it]"
     ]
    },
    {
     "name": "stdout",
     "output_type": "stream",
     "text": [
      "0 0.9999999999999991 -1.0047226056619274\n"
     ]
    },
    {
     "name": "stderr",
     "output_type": "stream",
     "text": [
      " 38%|████████████████████████                                       | 120/314 [06:26<10:33,  3.26s/it]"
     ]
    },
    {
     "name": "stdout",
     "output_type": "stream",
     "text": [
      "0 0.9999999999999991 -1.0032904372269649\n"
     ]
    },
    {
     "name": "stderr",
     "output_type": "stream",
     "text": [
      " 39%|████████████████████████▎                                      | 121/314 [06:29<10:32,  3.28s/it]"
     ]
    },
    {
     "name": "stdout",
     "output_type": "stream",
     "text": [
      "0 0.9999999999999991 -0.9987279954284325\n"
     ]
    },
    {
     "name": "stderr",
     "output_type": "stream",
     "text": [
      " 39%|████████████████████████▍                                      | 122/314 [06:33<10:26,  3.26s/it]"
     ]
    },
    {
     "name": "stdout",
     "output_type": "stream",
     "text": [
      "0 0.9999999999999991 -1.00351647092969\n"
     ]
    },
    {
     "name": "stderr",
     "output_type": "stream",
     "text": [
      " 39%|████████████████████████▋                                      | 123/314 [06:36<10:22,  3.26s/it]"
     ]
    },
    {
     "name": "stdout",
     "output_type": "stream",
     "text": [
      "0 0.9999999999999991 -0.9986693364725014\n"
     ]
    },
    {
     "name": "stderr",
     "output_type": "stream",
     "text": [
      " 39%|████████████████████████▉                                      | 124/314 [06:39<10:22,  3.28s/it]"
     ]
    },
    {
     "name": "stdout",
     "output_type": "stream",
     "text": [
      "0 0.9999999999999991 -1.0001744240777783\n"
     ]
    },
    {
     "name": "stderr",
     "output_type": "stream",
     "text": [
      " 40%|█████████████████████████                                      | 125/314 [06:42<10:18,  3.27s/it]"
     ]
    },
    {
     "name": "stdout",
     "output_type": "stream",
     "text": [
      "0 0.9999999999999992 -0.9984599779329799\n"
     ]
    },
    {
     "name": "stderr",
     "output_type": "stream",
     "text": [
      " 40%|█████████████████████████▎                                     | 126/314 [06:46<10:14,  3.27s/it]"
     ]
    },
    {
     "name": "stdout",
     "output_type": "stream",
     "text": [
      "0 0.9999999999999991 -1.0006591891917602\n"
     ]
    },
    {
     "name": "stderr",
     "output_type": "stream",
     "text": [
      " 40%|█████████████████████████▍                                     | 127/314 [06:49<10:08,  3.25s/it]"
     ]
    },
    {
     "name": "stdout",
     "output_type": "stream",
     "text": [
      "0 0.9999999999999991 -1.0049999999999992\n"
     ]
    },
    {
     "name": "stderr",
     "output_type": "stream",
     "text": [
      " 41%|█████████████████████████▋                                     | 128/314 [06:52<10:03,  3.24s/it]"
     ]
    },
    {
     "name": "stdout",
     "output_type": "stream",
     "text": [
      "0 0.9999999999999991 -0.998\n"
     ]
    },
    {
     "name": "stderr",
     "output_type": "stream",
     "text": [
      " 41%|█████████████████████████▉                                     | 129/314 [06:55<10:06,  3.28s/it]"
     ]
    },
    {
     "name": "stdout",
     "output_type": "stream",
     "text": [
      "0 0.9999999999999991 -1.0039999999999987\n"
     ]
    },
    {
     "name": "stderr",
     "output_type": "stream",
     "text": [
      " 41%|██████████████████████████                                     | 130/314 [06:59<10:09,  3.31s/it]"
     ]
    },
    {
     "name": "stdout",
     "output_type": "stream",
     "text": [
      "0 0.9999999999999991 -1.004999999999999\n"
     ]
    },
    {
     "name": "stderr",
     "output_type": "stream",
     "text": [
      " 42%|██████████████████████████▎                                    | 131/314 [07:02<10:04,  3.31s/it]"
     ]
    },
    {
     "name": "stdout",
     "output_type": "stream",
     "text": [
      "0 0.9999999999999991 -1.0025974676529454\n"
     ]
    },
    {
     "name": "stderr",
     "output_type": "stream",
     "text": [
      " 42%|██████████████████████████▍                                    | 132/314 [07:05<09:59,  3.30s/it]"
     ]
    },
    {
     "name": "stdout",
     "output_type": "stream",
     "text": [
      "0 0.9999999999999991 -1.0036019670968739\n"
     ]
    },
    {
     "name": "stderr",
     "output_type": "stream",
     "text": [
      " 42%|██████████████████████████▋                                    | 133/314 [07:09<09:55,  3.29s/it]"
     ]
    },
    {
     "name": "stdout",
     "output_type": "stream",
     "text": [
      "0 0.9999999999999991 -1.0019999999999991\n"
     ]
    },
    {
     "name": "stderr",
     "output_type": "stream",
     "text": [
      " 43%|██████████████████████████▉                                    | 134/314 [07:12<09:53,  3.29s/it]"
     ]
    },
    {
     "name": "stdout",
     "output_type": "stream",
     "text": [
      "0 0.9999999999999991 -1.0003358240709217\n"
     ]
    },
    {
     "name": "stderr",
     "output_type": "stream",
     "text": [
      " 43%|███████████████████████████                                    | 135/314 [07:15<09:48,  3.29s/it]"
     ]
    },
    {
     "name": "stdout",
     "output_type": "stream",
     "text": [
      "0 0.9999999999999991 -1.0037222041188143\n"
     ]
    },
    {
     "name": "stderr",
     "output_type": "stream",
     "text": [
      " 43%|███████████████████████████▎                                   | 136/314 [07:19<09:45,  3.29s/it]"
     ]
    },
    {
     "name": "stdout",
     "output_type": "stream",
     "text": [
      "0 0.9999999999999991 -1.0003071866878994\n"
     ]
    },
    {
     "name": "stderr",
     "output_type": "stream",
     "text": [
      " 44%|███████████████████████████▍                                   | 137/314 [07:22<09:43,  3.30s/it]"
     ]
    },
    {
     "name": "stdout",
     "output_type": "stream",
     "text": [
      "0 0.9999999999999991 -0.9967310832328655\n"
     ]
    },
    {
     "name": "stderr",
     "output_type": "stream",
     "text": [
      " 44%|███████████████████████████▋                                   | 138/314 [07:25<09:38,  3.29s/it]"
     ]
    },
    {
     "name": "stdout",
     "output_type": "stream",
     "text": [
      "0 0.9999999999999992 -1.0035483252226807\n"
     ]
    },
    {
     "name": "stderr",
     "output_type": "stream",
     "text": [
      " 44%|███████████████████████████▉                                   | 139/314 [07:28<09:31,  3.27s/it]"
     ]
    },
    {
     "name": "stdout",
     "output_type": "stream",
     "text": [
      "0 0.9999999999999991 -0.9970540569197974\n"
     ]
    },
    {
     "name": "stderr",
     "output_type": "stream",
     "text": [
      " 45%|████████████████████████████                                   | 140/314 [07:32<09:25,  3.25s/it]"
     ]
    },
    {
     "name": "stdout",
     "output_type": "stream",
     "text": [
      "0 0.9999999999999992 -0.9959999999999991\n"
     ]
    },
    {
     "name": "stderr",
     "output_type": "stream",
     "text": [
      " 45%|████████████████████████████▎                                  | 141/314 [07:35<09:15,  3.21s/it]"
     ]
    },
    {
     "name": "stdout",
     "output_type": "stream",
     "text": [
      "0 0.9999999999999991 -1.0001500304442255\n"
     ]
    },
    {
     "name": "stderr",
     "output_type": "stream",
     "text": [
      " 45%|████████████████████████████▍                                  | 142/314 [07:38<09:14,  3.23s/it]"
     ]
    },
    {
     "name": "stdout",
     "output_type": "stream",
     "text": [
      "0 0.9999999999999991 -1.0019999999999991\n"
     ]
    },
    {
     "name": "stderr",
     "output_type": "stream",
     "text": [
      " 46%|████████████████████████████▋                                  | 143/314 [07:41<09:03,  3.18s/it]"
     ]
    },
    {
     "name": "stdout",
     "output_type": "stream",
     "text": [
      "0 0.9999999999999992 -0.9987575546159508\n"
     ]
    },
    {
     "name": "stderr",
     "output_type": "stream",
     "text": [
      " 46%|████████████████████████████▉                                  | 144/314 [07:44<08:58,  3.17s/it]"
     ]
    },
    {
     "name": "stdout",
     "output_type": "stream",
     "text": [
      "0 0.9999999999999991 -1.004999999999999\n"
     ]
    },
    {
     "name": "stderr",
     "output_type": "stream",
     "text": [
      " 46%|█████████████████████████████                                  | 145/314 [07:47<09:02,  3.21s/it]"
     ]
    },
    {
     "name": "stdout",
     "output_type": "stream",
     "text": [
      "0 0.9999999999999991 -1.0019999999999991\n"
     ]
    },
    {
     "name": "stderr",
     "output_type": "stream",
     "text": [
      " 46%|█████████████████████████████▎                                 | 146/314 [07:51<09:04,  3.24s/it]"
     ]
    },
    {
     "name": "stdout",
     "output_type": "stream",
     "text": [
      "0 0.9999999999999991 -1.0034070592737818\n"
     ]
    },
    {
     "name": "stderr",
     "output_type": "stream",
     "text": [
      " 47%|█████████████████████████████▍                                 | 147/314 [07:54<09:09,  3.29s/it]"
     ]
    },
    {
     "name": "stdout",
     "output_type": "stream",
     "text": [
      "0 0.9999999999999991 -1.004999999999999\n"
     ]
    },
    {
     "name": "stderr",
     "output_type": "stream",
     "text": [
      " 47%|█████████████████████████████▋                                 | 148/314 [07:58<09:16,  3.35s/it]"
     ]
    },
    {
     "name": "stdout",
     "output_type": "stream",
     "text": [
      "0 0.9999999999999991 -1.0017250929325723\n"
     ]
    },
    {
     "name": "stderr",
     "output_type": "stream",
     "text": [
      " 47%|█████████████████████████████▉                                 | 149/314 [08:01<09:10,  3.34s/it]"
     ]
    },
    {
     "name": "stdout",
     "output_type": "stream",
     "text": [
      "0 0.9999999999999991 -1.0008252976204424\n"
     ]
    },
    {
     "name": "stderr",
     "output_type": "stream",
     "text": [
      " 48%|██████████████████████████████                                 | 150/314 [08:05<09:18,  3.40s/it]"
     ]
    },
    {
     "name": "stdout",
     "output_type": "stream",
     "text": [
      "0 0.9999999999999991 -0.9979999999999991\n"
     ]
    },
    {
     "name": "stderr",
     "output_type": "stream",
     "text": [
      " 48%|██████████████████████████████▎                                | 151/314 [08:08<09:08,  3.37s/it]"
     ]
    },
    {
     "name": "stdout",
     "output_type": "stream",
     "text": [
      "0 0.9999999999999992 -0.9955258751339593\n"
     ]
    },
    {
     "name": "stderr",
     "output_type": "stream",
     "text": [
      " 48%|██████████████████████████████▍                                | 152/314 [08:11<09:01,  3.34s/it]"
     ]
    },
    {
     "name": "stdout",
     "output_type": "stream",
     "text": [
      "0 0.9999999999999992 -0.999707898476425\n"
     ]
    },
    {
     "name": "stderr",
     "output_type": "stream",
     "text": [
      " 49%|██████████████████████████████▋                                | 153/314 [08:15<09:02,  3.37s/it]"
     ]
    },
    {
     "name": "stdout",
     "output_type": "stream",
     "text": [
      "0 0.9999999999999991 -0.9970891458233856\n"
     ]
    },
    {
     "name": "stderr",
     "output_type": "stream",
     "text": [
      " 49%|██████████████████████████████▉                                | 154/314 [08:18<08:57,  3.36s/it]"
     ]
    },
    {
     "name": "stdout",
     "output_type": "stream",
     "text": [
      "0 0.9999999999999991 -0.9969267298825046\n"
     ]
    },
    {
     "name": "stderr",
     "output_type": "stream",
     "text": [
      " 49%|███████████████████████████████                                | 155/314 [08:21<08:54,  3.36s/it]"
     ]
    },
    {
     "name": "stdout",
     "output_type": "stream",
     "text": [
      "0 0.9999999999999983 -1.0009896425498388\n"
     ]
    },
    {
     "name": "stderr",
     "output_type": "stream",
     "text": [
      " 50%|███████████████████████████████▎                               | 156/314 [08:25<08:52,  3.37s/it]"
     ]
    },
    {
     "name": "stdout",
     "output_type": "stream",
     "text": [
      "0 0.9999999999999996 -0.994999999999999\n"
     ]
    },
    {
     "name": "stderr",
     "output_type": "stream",
     "text": [
      " 50%|███████████████████████████████▌                               | 157/314 [08:28<08:53,  3.40s/it]"
     ]
    },
    {
     "name": "stdout",
     "output_type": "stream",
     "text": [
      "0 0.9999999999999992 -0.9959080202767296\n"
     ]
    },
    {
     "name": "stderr",
     "output_type": "stream",
     "text": [
      " 50%|███████████████████████████████▋                               | 158/314 [08:32<09:10,  3.53s/it]"
     ]
    },
    {
     "name": "stdout",
     "output_type": "stream",
     "text": [
      "0 0.9999999999999992 -1.0003780629829808\n"
     ]
    },
    {
     "name": "stderr",
     "output_type": "stream",
     "text": [
      " 51%|███████████████████████████████▉                               | 159/314 [08:36<09:34,  3.71s/it]"
     ]
    },
    {
     "name": "stdout",
     "output_type": "stream",
     "text": [
      "0 0.9999999999999991 -0.9949999999999991\n"
     ]
    },
    {
     "name": "stderr",
     "output_type": "stream",
     "text": [
      " 51%|████████████████████████████████                               | 160/314 [08:40<10:01,  3.90s/it]"
     ]
    },
    {
     "name": "stdout",
     "output_type": "stream",
     "text": [
      "0 0.9999999999999991 -0.997999999999999\n"
     ]
    },
    {
     "name": "stderr",
     "output_type": "stream",
     "text": [
      " 51%|████████████████████████████████▎                              | 161/314 [08:45<10:04,  3.95s/it]"
     ]
    },
    {
     "name": "stdout",
     "output_type": "stream",
     "text": [
      "0 0.9999999999999991 -0.9963146989680748\n"
     ]
    },
    {
     "name": "stderr",
     "output_type": "stream",
     "text": [
      " 52%|████████████████████████████████▌                              | 162/314 [08:49<10:03,  3.97s/it]"
     ]
    },
    {
     "name": "stdout",
     "output_type": "stream",
     "text": [
      "0 0.9999999999999992 -1.0011472547484863\n"
     ]
    },
    {
     "name": "stderr",
     "output_type": "stream",
     "text": [
      " 52%|████████████████████████████████▋                              | 163/314 [08:52<09:21,  3.72s/it]"
     ]
    },
    {
     "name": "stdout",
     "output_type": "stream",
     "text": [
      "0 0.9999999999999992 -1.0025512169779043\n"
     ]
    },
    {
     "name": "stderr",
     "output_type": "stream",
     "text": [
      " 52%|████████████████████████████████▉                              | 164/314 [08:55<08:57,  3.58s/it]"
     ]
    },
    {
     "name": "stdout",
     "output_type": "stream",
     "text": [
      "0 0.9999999999999991 -1.0022838507673577\n"
     ]
    },
    {
     "name": "stderr",
     "output_type": "stream",
     "text": [
      " 53%|█████████████████████████████████                              | 165/314 [08:58<08:41,  3.50s/it]"
     ]
    },
    {
     "name": "stdout",
     "output_type": "stream",
     "text": [
      "0 1.0 -0.9986507643952124\n"
     ]
    },
    {
     "name": "stderr",
     "output_type": "stream",
     "text": [
      " 53%|█████████████████████████████████▎                             | 166/314 [09:02<08:58,  3.64s/it]"
     ]
    },
    {
     "name": "stdout",
     "output_type": "stream",
     "text": [
      "0 0.9999999999999991 -0.9974928219005152\n"
     ]
    },
    {
     "name": "stderr",
     "output_type": "stream",
     "text": [
      " 53%|█████████████████████████████████▌                             | 167/314 [09:06<08:47,  3.59s/it]"
     ]
    },
    {
     "name": "stdout",
     "output_type": "stream",
     "text": [
      "0 0.999999999999999 -0.9978239068019409\n"
     ]
    },
    {
     "name": "stderr",
     "output_type": "stream",
     "text": [
      " 54%|█████████████████████████████████▋                             | 168/314 [09:09<08:41,  3.57s/it]"
     ]
    },
    {
     "name": "stdout",
     "output_type": "stream",
     "text": [
      "0 0.9999999999999992 -0.9975177540845221\n"
     ]
    },
    {
     "name": "stderr",
     "output_type": "stream",
     "text": [
      " 54%|█████████████████████████████████▉                             | 169/314 [09:13<08:40,  3.59s/it]"
     ]
    },
    {
     "name": "stdout",
     "output_type": "stream",
     "text": [
      "0 0.9999999999999992 -0.9972974974593701\n"
     ]
    },
    {
     "name": "stderr",
     "output_type": "stream",
     "text": [
      " 54%|██████████████████████████████████                             | 170/314 [09:16<08:36,  3.59s/it]"
     ]
    },
    {
     "name": "stdout",
     "output_type": "stream",
     "text": [
      "0 0.9999999999999992 -0.9987128595734236\n"
     ]
    },
    {
     "name": "stderr",
     "output_type": "stream",
     "text": [
      " 54%|██████████████████████████████████▎                            | 171/314 [09:20<08:35,  3.60s/it]"
     ]
    },
    {
     "name": "stdout",
     "output_type": "stream",
     "text": [
      "0 0.9999999999999991 -0.9957362697205443\n"
     ]
    },
    {
     "name": "stderr",
     "output_type": "stream",
     "text": [
      " 55%|██████████████████████████████████▌                            | 172/314 [09:24<08:40,  3.67s/it]"
     ]
    },
    {
     "name": "stdout",
     "output_type": "stream",
     "text": [
      "0 0.9999999999999991 -1.0015256132924988\n"
     ]
    },
    {
     "name": "stderr",
     "output_type": "stream",
     "text": [
      " 55%|██████████████████████████████████▋                            | 173/314 [09:27<08:12,  3.50s/it]"
     ]
    },
    {
     "name": "stdout",
     "output_type": "stream",
     "text": [
      "0 0.9999999999999991 -0.9986799853176862\n"
     ]
    },
    {
     "name": "stderr",
     "output_type": "stream",
     "text": [
      " 55%|██████████████████████████████████▉                            | 174/314 [09:30<07:55,  3.40s/it]"
     ]
    },
    {
     "name": "stdout",
     "output_type": "stream",
     "text": [
      "0 0.9999999999999991 -0.9984712881520408\n"
     ]
    },
    {
     "name": "stderr",
     "output_type": "stream",
     "text": [
      " 56%|███████████████████████████████████                            | 175/314 [09:33<07:40,  3.31s/it]"
     ]
    },
    {
     "name": "stdout",
     "output_type": "stream",
     "text": [
      "0 0.9999999999999991 -0.9984261839780544\n"
     ]
    },
    {
     "name": "stderr",
     "output_type": "stream",
     "text": [
      " 56%|███████████████████████████████████▎                           | 176/314 [09:36<07:31,  3.27s/it]"
     ]
    },
    {
     "name": "stdout",
     "output_type": "stream",
     "text": [
      "0 0.9999999999999991 -1.0010055053646438\n"
     ]
    },
    {
     "name": "stderr",
     "output_type": "stream",
     "text": [
      " 56%|███████████████████████████████████▌                           | 177/314 [09:40<07:21,  3.22s/it]"
     ]
    },
    {
     "name": "stdout",
     "output_type": "stream",
     "text": [
      "0 0.9999999999999992 -0.9970141458863192\n"
     ]
    },
    {
     "name": "stderr",
     "output_type": "stream",
     "text": [
      " 57%|███████████████████████████████████▋                           | 178/314 [09:43<07:14,  3.20s/it]"
     ]
    },
    {
     "name": "stdout",
     "output_type": "stream",
     "text": [
      "0 0.9999999999999998 -1.0003061344746835\n"
     ]
    },
    {
     "name": "stderr",
     "output_type": "stream",
     "text": [
      " 57%|███████████████████████████████████▉                           | 179/314 [09:46<07:09,  3.18s/it]"
     ]
    },
    {
     "name": "stdout",
     "output_type": "stream",
     "text": [
      "0 0.9999999999999992 -1.0000124611529473\n"
     ]
    },
    {
     "name": "stderr",
     "output_type": "stream",
     "text": [
      " 57%|████████████████████████████████████                           | 180/314 [09:49<07:05,  3.18s/it]"
     ]
    },
    {
     "name": "stdout",
     "output_type": "stream",
     "text": [
      "0 0.9999999999999992 -0.999671240081133\n"
     ]
    },
    {
     "name": "stderr",
     "output_type": "stream",
     "text": [
      " 58%|████████████████████████████████████▎                          | 181/314 [09:52<07:00,  3.16s/it]"
     ]
    },
    {
     "name": "stdout",
     "output_type": "stream",
     "text": [
      "0 0.9999999999999992 -1.001002579354848\n"
     ]
    },
    {
     "name": "stderr",
     "output_type": "stream",
     "text": [
      " 58%|████████████████████████████████████▌                          | 182/314 [09:55<06:55,  3.14s/it]"
     ]
    },
    {
     "name": "stdout",
     "output_type": "stream",
     "text": [
      "0 0.9999999999999996 -1.0014882793571334\n"
     ]
    },
    {
     "name": "stderr",
     "output_type": "stream",
     "text": [
      " 58%|████████████████████████████████████▋                          | 183/314 [09:58<06:53,  3.15s/it]"
     ]
    },
    {
     "name": "stdout",
     "output_type": "stream",
     "text": [
      "0 0.999999999999999 -1.0018049479480458\n"
     ]
    },
    {
     "name": "stderr",
     "output_type": "stream",
     "text": [
      " 59%|████████████████████████████████████▉                          | 184/314 [10:02<06:50,  3.15s/it]"
     ]
    },
    {
     "name": "stdout",
     "output_type": "stream",
     "text": [
      "0 0.9999999999999991 -1.0019999999999991\n"
     ]
    },
    {
     "name": "stderr",
     "output_type": "stream",
     "text": [
      " 59%|█████████████████████████████████████                          | 185/314 [10:05<06:46,  3.15s/it]"
     ]
    },
    {
     "name": "stdout",
     "output_type": "stream",
     "text": [
      "0 0.999999999999999 -0.9989739062958334\n"
     ]
    },
    {
     "name": "stderr",
     "output_type": "stream",
     "text": [
      " 59%|█████████████████████████████████████▎                         | 186/314 [10:08<06:42,  3.14s/it]"
     ]
    },
    {
     "name": "stdout",
     "output_type": "stream",
     "text": [
      "0 0.9999999999999991 -1.0019999999999998\n"
     ]
    },
    {
     "name": "stderr",
     "output_type": "stream",
     "text": [
      " 60%|█████████████████████████████████████▌                         | 187/314 [10:11<06:39,  3.14s/it]"
     ]
    },
    {
     "name": "stdout",
     "output_type": "stream",
     "text": [
      "0 0.9999999999999991 -0.9997684543653502\n"
     ]
    },
    {
     "name": "stderr",
     "output_type": "stream",
     "text": [
      " 60%|█████████████████████████████████████▋                         | 188/314 [10:14<06:36,  3.15s/it]"
     ]
    },
    {
     "name": "stdout",
     "output_type": "stream",
     "text": [
      "0 0.9999999999999991 -1.004999999999999\n"
     ]
    },
    {
     "name": "stderr",
     "output_type": "stream",
     "text": [
      " 60%|█████████████████████████████████████▉                         | 189/314 [10:17<06:33,  3.15s/it]"
     ]
    },
    {
     "name": "stdout",
     "output_type": "stream",
     "text": [
      "0 0.9999999999999996 -1.0022278885326195\n"
     ]
    },
    {
     "name": "stderr",
     "output_type": "stream",
     "text": [
      " 61%|██████████████████████████████████████                         | 190/314 [10:20<06:29,  3.14s/it]"
     ]
    },
    {
     "name": "stdout",
     "output_type": "stream",
     "text": [
      "0 0.9999999999999991 -0.9986317678051448\n"
     ]
    },
    {
     "name": "stderr",
     "output_type": "stream",
     "text": [
      " 61%|██████████████████████████████████████▎                        | 191/314 [10:23<06:25,  3.13s/it]"
     ]
    },
    {
     "name": "stdout",
     "output_type": "stream",
     "text": [
      "0 0.9999999999999991 -1.0011801508747893\n"
     ]
    },
    {
     "name": "stderr",
     "output_type": "stream",
     "text": [
      " 61%|██████████████████████████████████████▌                        | 192/314 [10:27<06:21,  3.13s/it]"
     ]
    },
    {
     "name": "stdout",
     "output_type": "stream",
     "text": [
      "0 0.9999999999999991 -1.0019823442647207\n"
     ]
    },
    {
     "name": "stderr",
     "output_type": "stream",
     "text": [
      " 61%|██████████████████████████████████████▋                        | 193/314 [10:30<06:17,  3.12s/it]"
     ]
    },
    {
     "name": "stdout",
     "output_type": "stream",
     "text": [
      "0 0.9999999999999991 -1.0005906135799667\n"
     ]
    },
    {
     "name": "stderr",
     "output_type": "stream",
     "text": [
      " 62%|██████████████████████████████████████▉                        | 194/314 [10:33<06:14,  3.12s/it]"
     ]
    },
    {
     "name": "stdout",
     "output_type": "stream",
     "text": [
      "0 0.9999999999999991 -1.0033102907889744\n"
     ]
    },
    {
     "name": "stderr",
     "output_type": "stream",
     "text": [
      " 62%|███████████████████████████████████████                        | 195/314 [10:36<06:11,  3.12s/it]"
     ]
    },
    {
     "name": "stdout",
     "output_type": "stream",
     "text": [
      "0 0.9999999999999991 -1.0037088441494446\n"
     ]
    },
    {
     "name": "stderr",
     "output_type": "stream",
     "text": [
      " 62%|███████████████████████████████████████▎                       | 196/314 [10:39<06:08,  3.13s/it]"
     ]
    },
    {
     "name": "stdout",
     "output_type": "stream",
     "text": [
      "0 0.9999999999999991 -1.0013033249486007\n"
     ]
    },
    {
     "name": "stderr",
     "output_type": "stream",
     "text": [
      " 63%|███████████████████████████████████████▌                       | 197/314 [10:42<06:06,  3.13s/it]"
     ]
    },
    {
     "name": "stdout",
     "output_type": "stream",
     "text": [
      "0 0.9999999999999991 -0.9949999999999991\n"
     ]
    },
    {
     "name": "stderr",
     "output_type": "stream",
     "text": [
      " 63%|███████████████████████████████████████▋                       | 198/314 [10:45<06:02,  3.13s/it]"
     ]
    },
    {
     "name": "stdout",
     "output_type": "stream",
     "text": [
      "0 0.9999999999999992 -0.9955387084068187\n"
     ]
    },
    {
     "name": "stderr",
     "output_type": "stream",
     "text": [
      " 63%|███████████████████████████████████████▉                       | 199/314 [10:48<05:59,  3.13s/it]"
     ]
    },
    {
     "name": "stdout",
     "output_type": "stream",
     "text": [
      "0 0.9999999999999991 -0.9992193278084645\n"
     ]
    },
    {
     "name": "stderr",
     "output_type": "stream",
     "text": [
      " 64%|████████████████████████████████████████▏                      | 200/314 [10:52<05:55,  3.12s/it]"
     ]
    },
    {
     "name": "stdout",
     "output_type": "stream",
     "text": [
      "0 0.9999999999999991 -0.9977053376377423\n"
     ]
    },
    {
     "name": "stderr",
     "output_type": "stream",
     "text": [
      " 64%|████████████████████████████████████████▎                      | 201/314 [10:55<05:52,  3.12s/it]"
     ]
    },
    {
     "name": "stdout",
     "output_type": "stream",
     "text": [
      "0 0.9999999999999991 -1.0019999999999991\n"
     ]
    },
    {
     "name": "stderr",
     "output_type": "stream",
     "text": [
      " 64%|████████████████████████████████████████▌                      | 202/314 [10:58<05:48,  3.12s/it]"
     ]
    },
    {
     "name": "stdout",
     "output_type": "stream",
     "text": [
      "0 0.9999999999999991 -1.0019999999999991\n"
     ]
    },
    {
     "name": "stderr",
     "output_type": "stream",
     "text": [
      " 65%|████████████████████████████████████████▋                      | 203/314 [11:01<05:45,  3.11s/it]"
     ]
    },
    {
     "name": "stdout",
     "output_type": "stream",
     "text": [
      "0 0.9999999999999991 -1.0019999999999991\n"
     ]
    },
    {
     "name": "stderr",
     "output_type": "stream",
     "text": [
      " 65%|████████████████████████████████████████▉                      | 204/314 [11:04<05:42,  3.11s/it]"
     ]
    },
    {
     "name": "stdout",
     "output_type": "stream",
     "text": [
      "0 0.9999999999999992 -1.0019999999999991\n"
     ]
    },
    {
     "name": "stderr",
     "output_type": "stream",
     "text": [
      " 65%|█████████████████████████████████████████▏                     | 205/314 [11:07<05:39,  3.11s/it]"
     ]
    },
    {
     "name": "stdout",
     "output_type": "stream",
     "text": [
      "0 0.9999999999999991 -0.9979999999999991\n"
     ]
    },
    {
     "name": "stderr",
     "output_type": "stream",
     "text": [
      " 66%|█████████████████████████████████████████▎                     | 206/314 [11:10<05:35,  3.11s/it]"
     ]
    },
    {
     "name": "stdout",
     "output_type": "stream",
     "text": [
      "0 0.9999999999999991 -1.0035014426013216\n"
     ]
    },
    {
     "name": "stderr",
     "output_type": "stream",
     "text": [
      " 66%|█████████████████████████████████████████▌                     | 207/314 [11:13<05:33,  3.11s/it]"
     ]
    },
    {
     "name": "stdout",
     "output_type": "stream",
     "text": [
      "0 0.9999999999999991 -0.998\n"
     ]
    },
    {
     "name": "stderr",
     "output_type": "stream",
     "text": [
      " 66%|█████████████████████████████████████████▋                     | 208/314 [11:17<05:32,  3.14s/it]"
     ]
    },
    {
     "name": "stdout",
     "output_type": "stream",
     "text": [
      "0 0.9999999999999991 -1.0010114874998048\n"
     ]
    },
    {
     "name": "stderr",
     "output_type": "stream",
     "text": [
      " 67%|█████████████████████████████████████████▉                     | 209/314 [11:20<05:29,  3.14s/it]"
     ]
    },
    {
     "name": "stdout",
     "output_type": "stream",
     "text": [
      "0 0.9999999999999991 -0.9998546094175729\n"
     ]
    },
    {
     "name": "stderr",
     "output_type": "stream",
     "text": [
      " 67%|██████████████████████████████████████████▏                    | 210/314 [11:23<05:32,  3.19s/it]"
     ]
    },
    {
     "name": "stdout",
     "output_type": "stream",
     "text": [
      "0 0.9999999999999992 -0.9979999999999991\n"
     ]
    },
    {
     "name": "stderr",
     "output_type": "stream",
     "text": [
      " 67%|██████████████████████████████████████████▎                    | 211/314 [11:26<05:27,  3.18s/it]"
     ]
    },
    {
     "name": "stdout",
     "output_type": "stream",
     "text": [
      "0 0.9630000000000001 -0.958\n"
     ]
    },
    {
     "name": "stderr",
     "output_type": "stream",
     "text": [
      " 68%|██████████████████████████████████████████▌                    | 212/314 [11:30<05:28,  3.23s/it]"
     ]
    },
    {
     "name": "stdout",
     "output_type": "stream",
     "text": [
      "0 0.9999999999999991 -0.9979999999999991\n"
     ]
    },
    {
     "name": "stderr",
     "output_type": "stream",
     "text": [
      " 68%|██████████████████████████████████████████▋                    | 213/314 [11:33<05:25,  3.22s/it]"
     ]
    },
    {
     "name": "stdout",
     "output_type": "stream",
     "text": [
      "0 0.9838203728667356 -0.9788203728667355\n"
     ]
    },
    {
     "name": "stderr",
     "output_type": "stream",
     "text": [
      " 68%|██████████████████████████████████████████▉                    | 214/314 [11:36<05:24,  3.25s/it]"
     ]
    },
    {
     "name": "stdout",
     "output_type": "stream",
     "text": [
      "0 0.9839999999999999 -0.9819999999999999\n"
     ]
    },
    {
     "name": "stderr",
     "output_type": "stream",
     "text": [
      " 68%|███████████████████████████████████████████▏                   | 215/314 [11:39<05:24,  3.28s/it]"
     ]
    },
    {
     "name": "stdout",
     "output_type": "stream",
     "text": [
      "0 0.989 -0.984\n"
     ]
    },
    {
     "name": "stderr",
     "output_type": "stream",
     "text": [
      " 69%|███████████████████████████████████████████▎                   | 216/314 [11:43<05:22,  3.30s/it]"
     ]
    },
    {
     "name": "stdout",
     "output_type": "stream",
     "text": [
      "0 0.976 -0.9709999999999999\n"
     ]
    },
    {
     "name": "stderr",
     "output_type": "stream",
     "text": [
      " 69%|███████████████████████████████████████████▌                   | 217/314 [11:46<05:22,  3.32s/it]"
     ]
    },
    {
     "name": "stdout",
     "output_type": "stream",
     "text": [
      "0 0.9999999999999992 -0.9966935568674475\n"
     ]
    },
    {
     "name": "stderr",
     "output_type": "stream",
     "text": [
      " 69%|███████████████████████████████████████████▋                   | 218/314 [11:49<05:16,  3.29s/it]"
     ]
    },
    {
     "name": "stdout",
     "output_type": "stream",
     "text": [
      "0 0.986 -0.9809999999999999\n"
     ]
    },
    {
     "name": "stderr",
     "output_type": "stream",
     "text": [
      " 70%|███████████████████████████████████████████▉                   | 219/314 [11:53<05:12,  3.29s/it]"
     ]
    },
    {
     "name": "stdout",
     "output_type": "stream",
     "text": [
      "0 0.9999999999999991 -0.994999999999999\n"
     ]
    },
    {
     "name": "stderr",
     "output_type": "stream",
     "text": [
      " 70%|████████████████████████████████████████████▏                  | 220/314 [11:56<05:07,  3.27s/it]"
     ]
    },
    {
     "name": "stdout",
     "output_type": "stream",
     "text": [
      "0 0.9999999999999991 -0.994999999999999\n"
     ]
    },
    {
     "name": "stderr",
     "output_type": "stream",
     "text": [
      " 70%|████████████████████████████████████████████▎                  | 221/314 [11:59<05:05,  3.28s/it]"
     ]
    },
    {
     "name": "stdout",
     "output_type": "stream",
     "text": [
      "0 0.9999999999999991 -0.9949999999999991\n"
     ]
    },
    {
     "name": "stderr",
     "output_type": "stream",
     "text": [
      " 71%|████████████████████████████████████████████▌                  | 222/314 [12:02<04:58,  3.24s/it]"
     ]
    },
    {
     "name": "stdout",
     "output_type": "stream",
     "text": [
      "0 0.9999999999999992 -0.9949999999999991\n"
     ]
    },
    {
     "name": "stderr",
     "output_type": "stream",
     "text": [
      " 71%|████████████████████████████████████████████▋                  | 223/314 [12:05<04:52,  3.21s/it]"
     ]
    },
    {
     "name": "stdout",
     "output_type": "stream",
     "text": [
      "0 1.0 -1.0\n"
     ]
    },
    {
     "name": "stderr",
     "output_type": "stream",
     "text": [
      " 71%|████████████████████████████████████████████▉                  | 224/314 [12:09<04:53,  3.26s/it]"
     ]
    },
    {
     "name": "stdout",
     "output_type": "stream",
     "text": [
      "0 0.9999999999999992 -0.997999999999999\n"
     ]
    },
    {
     "name": "stderr",
     "output_type": "stream",
     "text": [
      " 72%|█████████████████████████████████████████████▏                 | 225/314 [12:12<04:59,  3.36s/it]"
     ]
    },
    {
     "name": "stdout",
     "output_type": "stream",
     "text": [
      "0 0.9999999999999991 -0.997999999999999\n"
     ]
    },
    {
     "name": "stderr",
     "output_type": "stream",
     "text": [
      " 72%|█████████████████████████████████████████████▎                 | 226/314 [12:16<04:55,  3.36s/it]"
     ]
    },
    {
     "name": "stdout",
     "output_type": "stream",
     "text": [
      "0 0.9999999999999991 -0.9979999999999991\n"
     ]
    },
    {
     "name": "stderr",
     "output_type": "stream",
     "text": [
      " 72%|█████████████████████████████████████████████▌                 | 227/314 [12:19<04:46,  3.30s/it]"
     ]
    },
    {
     "name": "stdout",
     "output_type": "stream",
     "text": [
      "0 0.9999999999999991 -0.9949999999999991\n"
     ]
    },
    {
     "name": "stderr",
     "output_type": "stream",
     "text": [
      " 73%|█████████████████████████████████████████████▋                 | 228/314 [12:22<04:43,  3.30s/it]"
     ]
    },
    {
     "name": "stdout",
     "output_type": "stream",
     "text": [
      "0 0.9999999999999991 -0.9949999999999991\n"
     ]
    },
    {
     "name": "stderr",
     "output_type": "stream",
     "text": [
      " 73%|█████████████████████████████████████████████▉                 | 229/314 [12:25<04:38,  3.28s/it]"
     ]
    },
    {
     "name": "stdout",
     "output_type": "stream",
     "text": [
      "0 0.9999999999999991 -0.994999999999999\n"
     ]
    },
    {
     "name": "stderr",
     "output_type": "stream",
     "text": [
      " 73%|██████████████████████████████████████████████▏                | 230/314 [12:29<04:37,  3.31s/it]"
     ]
    },
    {
     "name": "stdout",
     "output_type": "stream",
     "text": [
      "0 0.9999999999999992 -0.994999999999999\n"
     ]
    },
    {
     "name": "stderr",
     "output_type": "stream",
     "text": [
      " 74%|██████████████████████████████████████████████▎                | 231/314 [12:32<04:41,  3.39s/it]"
     ]
    },
    {
     "name": "stdout",
     "output_type": "stream",
     "text": [
      "0 0.9999999999999992 -0.9949999999999991\n"
     ]
    },
    {
     "name": "stderr",
     "output_type": "stream",
     "text": [
      " 74%|██████████████████████████████████████████████▌                | 232/314 [12:36<04:39,  3.41s/it]"
     ]
    },
    {
     "name": "stdout",
     "output_type": "stream",
     "text": [
      "0 0.9999999999999991 -0.9979999999999991\n"
     ]
    },
    {
     "name": "stderr",
     "output_type": "stream",
     "text": [
      " 74%|██████████████████████████████████████████████▋                | 233/314 [12:40<04:43,  3.49s/it]"
     ]
    },
    {
     "name": "stdout",
     "output_type": "stream",
     "text": [
      "0 0.9999999999999991 -1.002\n"
     ]
    },
    {
     "name": "stderr",
     "output_type": "stream",
     "text": [
      " 75%|██████████████████████████████████████████████▉                | 234/314 [12:44<04:51,  3.64s/it]"
     ]
    },
    {
     "name": "stdout",
     "output_type": "stream",
     "text": [
      "0 0.9999999999999991 -1.0019999999999991\n"
     ]
    },
    {
     "name": "stderr",
     "output_type": "stream",
     "text": [
      " 75%|███████████████████████████████████████████████▏               | 235/314 [12:47<04:54,  3.73s/it]"
     ]
    },
    {
     "name": "stdout",
     "output_type": "stream",
     "text": [
      "0 0.9999999999999992 -0.9979999999999991\n"
     ]
    },
    {
     "name": "stderr",
     "output_type": "stream",
     "text": [
      " 75%|███████████████████████████████████████████████▎               | 236/314 [12:51<04:49,  3.72s/it]"
     ]
    },
    {
     "name": "stdout",
     "output_type": "stream",
     "text": [
      "0 0.9999999999999991 -1.0021228287729027\n"
     ]
    },
    {
     "name": "stderr",
     "output_type": "stream",
     "text": [
      " 75%|███████████████████████████████████████████████▌               | 237/314 [12:55<04:49,  3.75s/it]"
     ]
    },
    {
     "name": "stdout",
     "output_type": "stream",
     "text": [
      "0 0.9999999999999991 -0.9979999999999991\n"
     ]
    },
    {
     "name": "stderr",
     "output_type": "stream",
     "text": [
      " 76%|███████████████████████████████████████████████▊               | 238/314 [12:59<04:53,  3.86s/it]"
     ]
    },
    {
     "name": "stdout",
     "output_type": "stream",
     "text": [
      "0 0.9999999999999991 -1.0019999999999991\n"
     ]
    },
    {
     "name": "stderr",
     "output_type": "stream",
     "text": [
      " 76%|███████████████████████████████████████████████▉               | 239/314 [13:03<04:51,  3.89s/it]"
     ]
    },
    {
     "name": "stdout",
     "output_type": "stream",
     "text": [
      "0 0.9999999999999991 -1.0032272104726503\n"
     ]
    },
    {
     "name": "stderr",
     "output_type": "stream",
     "text": [
      " 76%|████████████████████████████████████████████████▏              | 240/314 [13:07<04:56,  4.01s/it]"
     ]
    },
    {
     "name": "stdout",
     "output_type": "stream",
     "text": [
      "0 0.999999999999999 -1.001900841557244\n"
     ]
    },
    {
     "name": "stderr",
     "output_type": "stream",
     "text": [
      " 77%|████████████████████████████████████████████████▎              | 241/314 [13:11<04:52,  4.00s/it]"
     ]
    },
    {
     "name": "stdout",
     "output_type": "stream",
     "text": [
      "0 0.9999999999999991 -1.0049999999999988\n"
     ]
    },
    {
     "name": "stderr",
     "output_type": "stream",
     "text": [
      " 77%|████████████████████████████████████████████████▌              | 242/314 [13:16<04:56,  4.11s/it]"
     ]
    },
    {
     "name": "stdout",
     "output_type": "stream",
     "text": [
      "0 0.9999999999999991 -1.004999999999999\n"
     ]
    },
    {
     "name": "stderr",
     "output_type": "stream",
     "text": [
      " 77%|████████████████████████████████████████████████▊              | 243/314 [13:20<04:48,  4.07s/it]"
     ]
    },
    {
     "name": "stdout",
     "output_type": "stream",
     "text": [
      "0 0.9527602263986401 -0.9573801131993199\n"
     ]
    },
    {
     "name": "stderr",
     "output_type": "stream",
     "text": [
      " 78%|████████████████████████████████████████████████▉              | 244/314 [13:23<04:38,  3.98s/it]"
     ]
    },
    {
     "name": "stdout",
     "output_type": "stream",
     "text": [
      "0 0.9106993335604305 -0.9139999999999999\n"
     ]
    },
    {
     "name": "stderr",
     "output_type": "stream",
     "text": [
      " 78%|█████████████████████████████████████████████████▏             | 245/314 [13:28<04:38,  4.03s/it]"
     ]
    },
    {
     "name": "stdout",
     "output_type": "stream",
     "text": [
      "0 0.966 -0.9662559233979064\n"
     ]
    },
    {
     "name": "stderr",
     "output_type": "stream",
     "text": [
      " 78%|█████████████████████████████████████████████████▎             | 246/314 [13:31<04:26,  3.92s/it]"
     ]
    },
    {
     "name": "stdout",
     "output_type": "stream",
     "text": [
      "0 0.9292415915417643 -0.9299999999999999\n"
     ]
    },
    {
     "name": "stderr",
     "output_type": "stream",
     "text": [
      " 79%|█████████████████████████████████████████████████▌             | 247/314 [13:35<04:19,  3.87s/it]"
     ]
    },
    {
     "name": "stdout",
     "output_type": "stream",
     "text": [
      "0 0.9843229130820998 -0.9891614565410499\n"
     ]
    },
    {
     "name": "stderr",
     "output_type": "stream",
     "text": [
      " 79%|█████████████████████████████████████████████████▊             | 248/314 [13:39<04:17,  3.90s/it]"
     ]
    },
    {
     "name": "stdout",
     "output_type": "stream",
     "text": [
      "0 0.9999999999999992 -1.0047258490445827\n"
     ]
    },
    {
     "name": "stderr",
     "output_type": "stream",
     "text": [
      " 79%|█████████████████████████████████████████████████▉             | 249/314 [13:43<04:16,  3.95s/it]"
     ]
    },
    {
     "name": "stdout",
     "output_type": "stream",
     "text": [
      "0 0.9999999999999991 -1.0020501898131107\n"
     ]
    },
    {
     "name": "stderr",
     "output_type": "stream",
     "text": [
      " 80%|██████████████████████████████████████████████████▏            | 250/314 [13:46<04:00,  3.75s/it]"
     ]
    },
    {
     "name": "stdout",
     "output_type": "stream",
     "text": [
      "0 0.9999999999999992 -1.0049190193657602\n"
     ]
    },
    {
     "name": "stderr",
     "output_type": "stream",
     "text": [
      " 80%|██████████████████████████████████████████████████▎            | 251/314 [13:50<03:45,  3.59s/it]"
     ]
    },
    {
     "name": "stdout",
     "output_type": "stream",
     "text": [
      "0 0.9999999999999991 -1.004999999999999\n"
     ]
    },
    {
     "name": "stderr",
     "output_type": "stream",
     "text": [
      " 80%|██████████████████████████████████████████████████▌            | 252/314 [13:53<03:35,  3.48s/it]"
     ]
    },
    {
     "name": "stdout",
     "output_type": "stream",
     "text": [
      "0 0.9999999999999992 -1.0040992131315942\n"
     ]
    },
    {
     "name": "stderr",
     "output_type": "stream",
     "text": [
      " 81%|██████████████████████████████████████████████████▊            | 253/314 [13:56<03:28,  3.42s/it]"
     ]
    },
    {
     "name": "stdout",
     "output_type": "stream",
     "text": [
      "0 0.9999999999999991 -0.9997577554211009\n"
     ]
    },
    {
     "name": "stderr",
     "output_type": "stream",
     "text": [
      " 81%|██████████████████████████████████████████████████▉            | 254/314 [13:59<03:23,  3.40s/it]"
     ]
    },
    {
     "name": "stdout",
     "output_type": "stream",
     "text": [
      "0 0.9999999999999991 -1.0037849246847892\n"
     ]
    },
    {
     "name": "stderr",
     "output_type": "stream",
     "text": [
      " 81%|███████████████████████████████████████████████████▏           | 255/314 [14:03<03:18,  3.36s/it]"
     ]
    },
    {
     "name": "stdout",
     "output_type": "stream",
     "text": [
      "0 0.9999999999999992 -1.0039266656912336\n"
     ]
    },
    {
     "name": "stderr",
     "output_type": "stream",
     "text": [
      " 82%|███████████████████████████████████████████████████▎           | 256/314 [14:06<03:12,  3.31s/it]"
     ]
    },
    {
     "name": "stdout",
     "output_type": "stream",
     "text": [
      "0 0.9999999999999991 -0.9992206845341616\n"
     ]
    },
    {
     "name": "stderr",
     "output_type": "stream",
     "text": [
      " 82%|███████████████████████████████████████████████████▌           | 257/314 [14:09<03:07,  3.28s/it]"
     ]
    },
    {
     "name": "stdout",
     "output_type": "stream",
     "text": [
      "0 0.9999999999999992 -1.0002556037991344\n"
     ]
    },
    {
     "name": "stderr",
     "output_type": "stream",
     "text": [
      " 82%|███████████████████████████████████████████████████▊           | 258/314 [14:12<03:02,  3.25s/it]"
     ]
    },
    {
     "name": "stdout",
     "output_type": "stream",
     "text": [
      "0 0.9999999999999991 -0.9983638916675944\n"
     ]
    },
    {
     "name": "stderr",
     "output_type": "stream",
     "text": [
      " 82%|███████████████████████████████████████████████████▉           | 259/314 [14:15<02:57,  3.22s/it]"
     ]
    },
    {
     "name": "stdout",
     "output_type": "stream",
     "text": [
      "0 0.9999999999999991 -0.9952875466066952\n"
     ]
    },
    {
     "name": "stderr",
     "output_type": "stream",
     "text": [
      " 83%|████████████████████████████████████████████████████▏          | 260/314 [14:19<02:52,  3.20s/it]"
     ]
    },
    {
     "name": "stdout",
     "output_type": "stream",
     "text": [
      "0 0.9999999999999992 -0.9996874482659038\n"
     ]
    },
    {
     "name": "stderr",
     "output_type": "stream",
     "text": [
      " 83%|████████████████████████████████████████████████████▎          | 261/314 [14:22<02:49,  3.20s/it]"
     ]
    },
    {
     "name": "stdout",
     "output_type": "stream",
     "text": [
      "0 0.9999999999999991 -1.0047904045724139\n"
     ]
    },
    {
     "name": "stderr",
     "output_type": "stream",
     "text": [
      " 83%|████████████████████████████████████████████████████▌          | 262/314 [14:25<02:46,  3.20s/it]"
     ]
    },
    {
     "name": "stdout",
     "output_type": "stream",
     "text": [
      "0 0.9999999999999992 -0.9967052856876524\n"
     ]
    },
    {
     "name": "stderr",
     "output_type": "stream",
     "text": [
      " 84%|████████████████████████████████████████████████████▊          | 263/314 [14:28<02:42,  3.18s/it]"
     ]
    },
    {
     "name": "stdout",
     "output_type": "stream",
     "text": [
      "0 0.9999999999999991 -0.9949999999999989\n"
     ]
    },
    {
     "name": "stderr",
     "output_type": "stream",
     "text": [
      " 84%|████████████████████████████████████████████████████▉          | 264/314 [14:31<02:37,  3.15s/it]"
     ]
    },
    {
     "name": "stdout",
     "output_type": "stream",
     "text": [
      "0 0.9999999999999991 -0.994999999999999\n"
     ]
    },
    {
     "name": "stderr",
     "output_type": "stream",
     "text": [
      " 84%|█████████████████████████████████████████████████████▏         | 265/314 [14:34<02:33,  3.13s/it]"
     ]
    },
    {
     "name": "stdout",
     "output_type": "stream",
     "text": [
      "0 0.9999999999999991 -0.9949999999999989\n"
     ]
    },
    {
     "name": "stderr",
     "output_type": "stream",
     "text": [
      " 85%|█████████████████████████████████████████████████████▎         | 266/314 [14:37<02:30,  3.13s/it]"
     ]
    },
    {
     "name": "stdout",
     "output_type": "stream",
     "text": [
      "0 0.9999999999999991 -0.9949999999999991\n"
     ]
    },
    {
     "name": "stderr",
     "output_type": "stream",
     "text": [
      " 85%|█████████████████████████████████████████████████████▌         | 267/314 [14:40<02:26,  3.12s/it]"
     ]
    },
    {
     "name": "stdout",
     "output_type": "stream",
     "text": [
      "0 0.9999999999999992 -1.004999999999999\n"
     ]
    },
    {
     "name": "stderr",
     "output_type": "stream",
     "text": [
      " 85%|█████████████████████████████████████████████████████▊         | 268/314 [14:44<02:24,  3.14s/it]"
     ]
    },
    {
     "name": "stdout",
     "output_type": "stream",
     "text": [
      "0 0.9999999999999992 -1.0043528309180372\n"
     ]
    },
    {
     "name": "stderr",
     "output_type": "stream",
     "text": [
      " 86%|█████████████████████████████████████████████████████▉         | 269/314 [14:47<02:21,  3.15s/it]"
     ]
    },
    {
     "name": "stdout",
     "output_type": "stream",
     "text": [
      "0 0.9999999999999991 -1.0019999999999991\n"
     ]
    },
    {
     "name": "stderr",
     "output_type": "stream",
     "text": [
      " 86%|██████████████████████████████████████████████████████▏        | 270/314 [14:50<02:19,  3.17s/it]"
     ]
    },
    {
     "name": "stdout",
     "output_type": "stream",
     "text": [
      "0 0.9999999999999991 -0.9988898255166061\n"
     ]
    },
    {
     "name": "stderr",
     "output_type": "stream",
     "text": [
      " 86%|██████████████████████████████████████████████████████▎        | 271/314 [14:53<02:16,  3.18s/it]"
     ]
    },
    {
     "name": "stdout",
     "output_type": "stream",
     "text": [
      "0 0.9999999999999991 -0.995299247830292\n"
     ]
    },
    {
     "name": "stderr",
     "output_type": "stream",
     "text": [
      " 87%|██████████████████████████████████████████████████████▌        | 272/314 [14:56<02:14,  3.20s/it]"
     ]
    },
    {
     "name": "stdout",
     "output_type": "stream",
     "text": [
      "0 0.9999999999999991 -0.9979263393390567\n"
     ]
    },
    {
     "name": "stderr",
     "output_type": "stream",
     "text": [
      " 87%|██████████████████████████████████████████████████████▊        | 273/314 [15:00<02:10,  3.18s/it]"
     ]
    },
    {
     "name": "stdout",
     "output_type": "stream",
     "text": [
      "0 0.9999999999999992 -0.9949999999999992\n"
     ]
    },
    {
     "name": "stderr",
     "output_type": "stream",
     "text": [
      " 87%|██████████████████████████████████████████████████████▉        | 274/314 [15:03<02:07,  3.18s/it]"
     ]
    },
    {
     "name": "stdout",
     "output_type": "stream",
     "text": [
      "0 0.9999999999999992 -1.0026331861676288\n"
     ]
    },
    {
     "name": "stderr",
     "output_type": "stream",
     "text": [
      " 88%|███████████████████████████████████████████████████████▏       | 275/314 [15:06<02:03,  3.18s/it]"
     ]
    },
    {
     "name": "stdout",
     "output_type": "stream",
     "text": [
      "0 0.9999999999999991 -0.9958472870894641\n"
     ]
    },
    {
     "name": "stderr",
     "output_type": "stream",
     "text": [
      " 88%|███████████████████████████████████████████████████████▍       | 276/314 [15:09<02:00,  3.16s/it]"
     ]
    },
    {
     "name": "stdout",
     "output_type": "stream",
     "text": [
      "0 0.8203925961667335 -0.8220000000000001\n"
     ]
    },
    {
     "name": "stderr",
     "output_type": "stream",
     "text": [
      " 88%|███████████████████████████████████████████████████████▌       | 277/314 [15:12<01:56,  3.15s/it]"
     ]
    },
    {
     "name": "stdout",
     "output_type": "stream",
     "text": [
      "0 0.8576654192351771 -0.8588327096175885\n"
     ]
    },
    {
     "name": "stderr",
     "output_type": "stream",
     "text": [
      " 89%|███████████████████████████████████████████████████████▊       | 278/314 [15:15<01:53,  3.14s/it]"
     ]
    },
    {
     "name": "stdout",
     "output_type": "stream",
     "text": [
      "0 0.8180000000000001 -0.8186231124256952\n"
     ]
    },
    {
     "name": "stderr",
     "output_type": "stream",
     "text": [
      " 89%|███████████████████████████████████████████████████████▉       | 279/314 [15:19<01:50,  3.14s/it]"
     ]
    },
    {
     "name": "stdout",
     "output_type": "stream",
     "text": [
      "0 0.8729266360187939 -0.8759999999999999\n"
     ]
    },
    {
     "name": "stderr",
     "output_type": "stream",
     "text": [
      " 89%|████████████████████████████████████████████████████████▏      | 280/314 [15:22<01:46,  3.14s/it]"
     ]
    },
    {
     "name": "stdout",
     "output_type": "stream",
     "text": [
      "0 0.8719999999999999 -0.8730474318121082\n"
     ]
    },
    {
     "name": "stderr",
     "output_type": "stream",
     "text": [
      " 89%|████████████████████████████████████████████████████████▍      | 281/314 [15:25<01:44,  3.16s/it]"
     ]
    },
    {
     "name": "stdout",
     "output_type": "stream",
     "text": [
      "0 0.808 -0.8059999999999999\n"
     ]
    },
    {
     "name": "stderr",
     "output_type": "stream",
     "text": [
      " 90%|████████████████████████████████████████████████████████▌      | 282/314 [15:28<01:41,  3.17s/it]"
     ]
    },
    {
     "name": "stdout",
     "output_type": "stream",
     "text": [
      "0 0.8241663454907737 -0.8260000000000001\n"
     ]
    },
    {
     "name": "stderr",
     "output_type": "stream",
     "text": [
      " 90%|████████████████████████████████████████████████████████▊      | 283/314 [15:31<01:38,  3.19s/it]"
     ]
    },
    {
     "name": "stdout",
     "output_type": "stream",
     "text": [
      "0 0.8480000000000001 -0.8472111926896252\n"
     ]
    },
    {
     "name": "stderr",
     "output_type": "stream",
     "text": [
      " 90%|████████████████████████████████████████████████████████▉      | 284/314 [15:34<01:35,  3.20s/it]"
     ]
    },
    {
     "name": "stdout",
     "output_type": "stream",
     "text": [
      "0 0.7930000000000001 -0.798\n"
     ]
    },
    {
     "name": "stderr",
     "output_type": "stream",
     "text": [
      " 91%|█████████████████████████████████████████████████████████▏     | 285/314 [15:38<01:32,  3.20s/it]"
     ]
    },
    {
     "name": "stdout",
     "output_type": "stream",
     "text": [
      "0 0.7946517582977868 -0.798\n"
     ]
    },
    {
     "name": "stderr",
     "output_type": "stream",
     "text": [
      " 91%|█████████████████████████████████████████████████████████▍     | 286/314 [15:41<01:29,  3.20s/it]"
     ]
    },
    {
     "name": "stdout",
     "output_type": "stream",
     "text": [
      "0 0.8127900100512079 -0.8175800201024157\n"
     ]
    },
    {
     "name": "stderr",
     "output_type": "stream",
     "text": [
      " 91%|█████████████████████████████████████████████████████████▌     | 287/314 [15:44<01:27,  3.22s/it]"
     ]
    },
    {
     "name": "stdout",
     "output_type": "stream",
     "text": [
      "0 0.8850697556577871 -0.8879999999999999\n"
     ]
    },
    {
     "name": "stderr",
     "output_type": "stream",
     "text": [
      " 92%|█████████████████████████████████████████████████████████▊     | 288/314 [15:48<01:25,  3.28s/it]"
     ]
    },
    {
     "name": "stdout",
     "output_type": "stream",
     "text": [
      "0 0.806 -0.8109999999999999\n"
     ]
    },
    {
     "name": "stderr",
     "output_type": "stream",
     "text": [
      " 92%|█████████████████████████████████████████████████████████▉     | 289/314 [15:51<01:24,  3.37s/it]"
     ]
    },
    {
     "name": "stdout",
     "output_type": "stream",
     "text": [
      "0 0.8620000000000001 -0.867\n"
     ]
    },
    {
     "name": "stderr",
     "output_type": "stream",
     "text": [
      " 92%|██████████████████████████████████████████████████████████▏    | 290/314 [15:55<01:21,  3.41s/it]"
     ]
    },
    {
     "name": "stdout",
     "output_type": "stream",
     "text": [
      "0 0.825 -0.8300000000000001\n"
     ]
    },
    {
     "name": "stderr",
     "output_type": "stream",
     "text": [
      " 93%|██████████████████████████████████████████████████████████▍    | 291/314 [15:58<01:18,  3.42s/it]"
     ]
    },
    {
     "name": "stdout",
     "output_type": "stream",
     "text": [
      "0 0.764 -0.7685586643666309\n"
     ]
    },
    {
     "name": "stderr",
     "output_type": "stream",
     "text": [
      " 93%|██████████████████████████████████████████████████████████▌    | 292/314 [16:02<01:15,  3.45s/it]"
     ]
    },
    {
     "name": "stdout",
     "output_type": "stream",
     "text": [
      "0 0.75 -0.755\n"
     ]
    },
    {
     "name": "stderr",
     "output_type": "stream",
     "text": [
      " 93%|██████████████████████████████████████████████████████████▊    | 293/314 [16:05<01:12,  3.43s/it]"
     ]
    },
    {
     "name": "stdout",
     "output_type": "stream",
     "text": [
      "0 0.7409282485831806 -0.7438564971663613\n"
     ]
    },
    {
     "name": "stderr",
     "output_type": "stream",
     "text": [
      " 94%|██████████████████████████████████████████████████████████▉    | 294/314 [16:09<01:09,  3.46s/it]"
     ]
    },
    {
     "name": "stdout",
     "output_type": "stream",
     "text": [
      "0 0.7983822229668377 -0.802\n"
     ]
    },
    {
     "name": "stderr",
     "output_type": "stream",
     "text": [
      " 94%|███████████████████████████████████████████████████████████▏   | 295/314 [16:12<01:06,  3.49s/it]"
     ]
    },
    {
     "name": "stdout",
     "output_type": "stream",
     "text": [
      "0 0.8473780637904764 -0.846\n"
     ]
    },
    {
     "name": "stderr",
     "output_type": "stream",
     "text": [
      " 94%|███████████████████████████████████████████████████████████▍   | 296/314 [16:15<01:01,  3.43s/it]"
     ]
    },
    {
     "name": "stdout",
     "output_type": "stream",
     "text": [
      "0 0.837 -0.8420000000000001\n"
     ]
    },
    {
     "name": "stderr",
     "output_type": "stream",
     "text": [
      " 95%|███████████████████████████████████████████████████████████▌   | 297/314 [16:19<00:58,  3.41s/it]"
     ]
    },
    {
     "name": "stdout",
     "output_type": "stream",
     "text": [
      "0 0.8548627996626065 -0.8539999999999999\n"
     ]
    },
    {
     "name": "stderr",
     "output_type": "stream",
     "text": [
      " 95%|███████████████████████████████████████████████████████████▊   | 298/314 [16:22<00:54,  3.40s/it]"
     ]
    },
    {
     "name": "stdout",
     "output_type": "stream",
     "text": [
      "0 0.8650000000000001 -0.8699999999999999\n"
     ]
    },
    {
     "name": "stderr",
     "output_type": "stream",
     "text": [
      " 95%|███████████████████████████████████████████████████████████▉   | 299/314 [16:26<00:50,  3.39s/it]"
     ]
    },
    {
     "name": "stdout",
     "output_type": "stream",
     "text": [
      "0 0.8789999999999999 -0.8839999999999999\n"
     ]
    },
    {
     "name": "stderr",
     "output_type": "stream",
     "text": [
      " 96%|████████████████████████████████████████████████████████████▏  | 300/314 [16:29<00:47,  3.41s/it]"
     ]
    },
    {
     "name": "stdout",
     "output_type": "stream",
     "text": [
      "0 0.8659999999999999 -0.8709999999999999\n"
     ]
    },
    {
     "name": "stderr",
     "output_type": "stream",
     "text": [
      " 96%|████████████████████████████████████████████████████████████▍  | 301/314 [16:33<00:45,  3.51s/it]"
     ]
    },
    {
     "name": "stdout",
     "output_type": "stream",
     "text": [
      "0 0.919 -0.9239999999999999\n"
     ]
    },
    {
     "name": "stderr",
     "output_type": "stream",
     "text": [
      " 96%|████████████████████████████████████████████████████████████▌  | 302/314 [16:36<00:42,  3.57s/it]"
     ]
    },
    {
     "name": "stdout",
     "output_type": "stream",
     "text": [
      "0 0.831 -0.8359999999999999\n"
     ]
    },
    {
     "name": "stderr",
     "output_type": "stream",
     "text": [
      " 96%|████████████████████████████████████████████████████████████▊  | 303/314 [16:40<00:39,  3.63s/it]"
     ]
    },
    {
     "name": "stdout",
     "output_type": "stream",
     "text": [
      "0 0.8519999999999999 -0.857\n"
     ]
    },
    {
     "name": "stderr",
     "output_type": "stream",
     "text": [
      " 97%|████████████████████████████████████████████████████████████▉  | 304/314 [16:44<00:36,  3.63s/it]"
     ]
    },
    {
     "name": "stdout",
     "output_type": "stream",
     "text": [
      "0 0.867 -0.8719999999999999\n"
     ]
    },
    {
     "name": "stderr",
     "output_type": "stream",
     "text": [
      " 97%|█████████████████████████████████████████████████████████████▏ | 305/314 [16:48<00:32,  3.66s/it]"
     ]
    },
    {
     "name": "stdout",
     "output_type": "stream",
     "text": [
      "0 0.7738793717427135 -0.778\n"
     ]
    },
    {
     "name": "stderr",
     "output_type": "stream",
     "text": [
      " 97%|█████████████████████████████████████████████████████████████▍ | 306/314 [16:51<00:29,  3.70s/it]"
     ]
    },
    {
     "name": "stdout",
     "output_type": "stream",
     "text": [
      "0 0.7000786376809224 -0.7\n"
     ]
    },
    {
     "name": "stderr",
     "output_type": "stream",
     "text": [
      " 98%|█████████████████████████████████████████████████████████████▌ | 307/314 [16:55<00:26,  3.72s/it]"
     ]
    },
    {
     "name": "stdout",
     "output_type": "stream",
     "text": [
      "0 0.776604461730479 -0.778\n"
     ]
    },
    {
     "name": "stderr",
     "output_type": "stream",
     "text": [
      " 98%|█████████████████████████████████████████████████████████████▊ | 308/314 [16:59<00:22,  3.73s/it]"
     ]
    },
    {
     "name": "stdout",
     "output_type": "stream",
     "text": [
      "0 0.7879989999645437 -0.792\n"
     ]
    },
    {
     "name": "stderr",
     "output_type": "stream",
     "text": [
      " 98%|█████████████████████████████████████████████████████████████▉ | 309/314 [17:02<00:18,  3.69s/it]"
     ]
    },
    {
     "name": "stdout",
     "output_type": "stream",
     "text": [
      "0 0.6896388522039187 -0.6898194261019595\n"
     ]
    },
    {
     "name": "stderr",
     "output_type": "stream",
     "text": [
      " 99%|██████████████████████████████████████████████████████████████▏| 310/314 [17:06<00:14,  3.72s/it]"
     ]
    },
    {
     "name": "stdout",
     "output_type": "stream",
     "text": [
      "0 0.8501629040025669 -0.852\n"
     ]
    },
    {
     "name": "stderr",
     "output_type": "stream",
     "text": [
      " 99%|██████████████████████████████████████████████████████████████▍| 311/314 [17:10<00:11,  3.74s/it]"
     ]
    },
    {
     "name": "stdout",
     "output_type": "stream",
     "text": [
      "0 0.8480000000000001 -0.8499612586368999\n"
     ]
    },
    {
     "name": "stderr",
     "output_type": "stream",
     "text": [
      " 99%|██████████████████████████████████████████████████████████████▌| 312/314 [17:14<00:07,  3.73s/it]"
     ]
    },
    {
     "name": "stdout",
     "output_type": "stream",
     "text": [
      "0 0.9999999999999992 -1.0005755997198496\n"
     ]
    },
    {
     "name": "stderr",
     "output_type": "stream",
     "text": [
      "100%|██████████████████████████████████████████████████████████████▊| 313/314 [17:18<00:03,  3.88s/it]"
     ]
    },
    {
     "name": "stdout",
     "output_type": "stream",
     "text": [
      "0 0.9770000000000001 -0.9819999999999998\n"
     ]
    },
    {
     "name": "stderr",
     "output_type": "stream",
     "text": [
      "100%|███████████████████████████████████████████████████████████████| 314/314 [17:22<00:00,  3.32s/it]"
     ]
    },
    {
     "name": "stdout",
     "output_type": "stream",
     "text": [
      "0 0.9522273677534159 -0.956\n"
     ]
    },
    {
     "name": "stderr",
     "output_type": "stream",
     "text": [
      "\n"
     ]
    }
   ],
   "source": [
    "valid_stock_dict = {}\n",
    "pre_amt_dict = {}\n",
    "# pre_amt_dict = pkl.load(open(r'/home/datamake8/data0/底仓T0股票/stk_dict_update20240701_0/20240325.pkl','rb'))\n",
    "date_list_all = get_datelist_all()\n",
    "date_list = get_datelist('20230103','20240430')\n",
    "# dl = DataLoaderX(SDataset(date_list[6:],get_target_stock_ratio),collate_fn=lambda x:x[0],batch_size=1,num_workers=0,shuffle=False,drop_last=False)\n",
    "path = r'/home/datamake8/data0/底仓T0股票/stk_dict_update20240703_5'\n",
    "os.makedirs(path,exist_ok=True)\n",
    "params_dict = {\n",
    "    'citic_share_limit':params.citic_share_limit,\n",
    "    'cmvg_share_limit':params.cmvg_share_limit,\n",
    "    'turnover_limit':params.turnover_limit,\n",
    "    'hold_limit_ratio_long':params.hold_limit_ratio_long,\n",
    "    'hold_limit_ratio_short':params.hold_limit_ratio_short,\n",
    "    't0_score_ratio':params.t0_score_ratio,\n",
    "}\n",
    "with open(os.path.join(path, 'params.pkl'),'wb') as f:\n",
    "    pkl.dump(params_dict,f)\n",
    "for date in tqdm(date_list[6:]):\n",
    "    date,valid_stock_list = get_target_stock_ratio(date, pre_amt_dict)\n",
    "    valid_stock_dict[date] = valid_stock_list\n",
    "    if len(valid_stock_list)!=0: pre_amt_dict = valid_stock_list\n",
    "    with open(os.path.join(path, date+'.pkl'),'wb') as f:\n",
    "        pkl.dump(valid_stock_list,f)"
   ]
  },
  {
   "cell_type": "code",
   "execution_count": 8,
   "metadata": {},
   "outputs": [
    {
     "name": "stderr",
     "output_type": "stream",
     "text": [
      "100%|███████████████████████████████████████████████████████████████| 272/272 [00:10<00:00, 25.86it/s]\n"
     ]
    }
   ],
   "source": [
    "#检验融券是否有问题\n",
    "path = r'/home/datamake8/data0/底仓T0股票/stk_dict_update20240626_1'\n",
    "\n",
    "for date in tqdm(date_list[7:]):\n",
    "    pre_date = date_list_all[date_list_all.index(date) - 1]\n",
    "    with open(os.path.join(path, date+'.pkl'),'rb') as f:\n",
    "        holdamt = pd.Series(pkl.load(f))\n",
    "    with open(os.path.join(path, pre_date+'.pkl'),'rb') as f:\n",
    "        preamt = pd.Series(pkl.load(f))\n",
    "    stock_list = list(set(holdamt.index) | set(preamt.index))\n",
    "    holdamt = holdamt.reindex(stock_list).fillna(0)\n",
    "    preamt = preamt.reindex(stock_list).fillna(0)\n",
    "    total_rq = holdamt * (holdamt<0).astype(int)\n",
    "    pre_rq = preamt * (preamt<0).astype(int)\n",
    "\n",
    "    #筛选融券名单\n",
    "    period_date_list = date_list_all[date_list_all.index(date)-params.assume_rq_time:date_list_all.index(date)]\n",
    "    total_rq_stock = []\n",
    "    for dt in period_date_list:\n",
    "        daily_rq_stock_df = pd.read_pickle(r'/home/datamake8/data0/海通券单_新/%s.pkl'%dt)\n",
    "        daily_rq_stock_df = daily_rq_stock_df[~pd.isnull(daily_rq_stock_df['code'])].copy()\n",
    "        daily_rq_stock_df['code'] = daily_rq_stock_df['code'].astype(int)\n",
    "        daily_rq_stock = sorted(daily_rq_stock_df['code'].drop_duplicates().tolist())\n",
    "        daily_rq_stock = [x for x in daily_rq_stock if x in stock_list]\n",
    "        total_rq_stock.extend(daily_rq_stock)\n",
    "    total_rq_stock = sorted(list(set(total_rq_stock)))\n",
    "    if len([x for x in stock_list if total_rq[x] < 0 and x not in total_rq_stock]):\n",
    "        print(date, 'warning1')\n",
    "    if len([x for x in stock_list if total_rq[x] - pre_rq[x] < 0 and abs(total_rq[x] - pre_rq[x]) > 1e-5 and x not in daily_rq_stock]):\n",
    "        print(date, 'warning2')"
   ]
  },
  {
   "cell_type": "code",
   "execution_count": null,
   "metadata": {},
   "outputs": [],
   "source": []
  },
  {
   "cell_type": "code",
   "execution_count": 57,
   "metadata": {},
   "outputs": [
    {
     "name": "stderr",
     "output_type": "stream",
     "text": [
      "100%|██████████████████████████████████████████████████████████████| 275/275 [00:00<00:00, 333.45it/s]\n"
     ]
    },
    {
     "data": {
      "text/plain": [
       "<Axes: >"
      ]
     },
     "execution_count": 57,
     "metadata": {},
     "output_type": "execute_result"
    },
    {
     "data": {
      "image/png": "[encoded data removed]",
      "text/plain": [
       "<Figure size 640x480 with 1 Axes>"
      ]
     },
     "metadata": {},
     "output_type": "display_data"
    }
   ],
   "source": [
    "OPEN = pd.read_feather(os.path.join(ohlc_path, 'OPEN_PRICE_2.fea')).set_index('TRADE_DATE')\n",
    "OPEN.index = pd.to_datetime(OPEN.index).strftime('%Y%m%d')\n",
    "OPEN = OPEN.pct_change().shift(-1).replace([np.inf, -np.inf], np.nan)\n",
    "\n",
    "#计算组合框架的收益和指数收益\n",
    "dt_list = list(valid_stock_dict.keys())\n",
    "agg_se = pd.Series(index=dt_list)\n",
    "idx_se = pd.Series(index=dt_list)\n",
    "for date in tqdm(dt_list):\n",
    "    # with open(os.path.join(r'/home/datamake8/data0/底仓T0股票/stk_dict_update20240622',date+'.pkl'),'rb') as f:\n",
    "    #     all_stock = pd.Series(pkl.load(f))\n",
    "    all_stock = pd.Series(valid_stock_dict[date])\n",
    "    all_stock.index = ['%06d'%x for x in all_stock.index]\n",
    "    target_stock = all_stock[all_stock>0].copy()\n",
    "    rq_stock = -all_stock[all_stock<0].copy()\n",
    "    agg_ret = OPEN.loc[date].reindex(target_stock.index).fillna(0).mul(target_stock).sum()\n",
    "    idx_ret = OPEN.loc[date].reindex(rq_stock.index).fillna(0).mul(rq_stock).sum()\n",
    "    agg_se[date] = agg_ret\n",
    "    idx_se[date] = idx_ret\n",
    "total_df = pd.DataFrame({'agg':agg_se,'idx':idx_se})\n",
    "total_df['exret'] = total_df['agg'] - total_df['idx']\n",
    "(total_df+1).cumprod().plot()"
   ]
  },
  {
   "cell_type": "code",
   "execution_count": null,
   "metadata": {},
   "outputs": [],
   "source": [
    "with open(r'/home/datamake8/data0/底仓T0股票/test20240619_allstk_long_0.01_update20240620.pkl','wb') as f:\n",
    "    pkl.dump(valid_stock_dict,f)"
   ]
  },
  {
   "cell_type": "code",
   "execution_count": null,
   "metadata": {},
   "outputs": [],
   "source": []
  },
  {
   "cell_type": "code",
   "execution_count": null,
   "metadata": {},
   "outputs": [
    {
     "name": "stderr",
     "output_type": "stream",
     "text": [
      "100%|██████████████████████████████████████████████████████████████| 236/236 [00:00<00:00, 568.75it/s]\n"
     ]
    },
    {
     "data": {
      "text/plain": [
       "<Axes: >"
      ]
     },
     "execution_count": 54,
     "metadata": {},
     "output_type": "execute_result"
    },
    {
     "data": {
      "image/png": "[encoded data removed]",
      "text/plain": [
       "<Figure size 640x480 with 1 Axes>"
      ]
     },
     "metadata": {},
     "output_type": "display_data"
    }
   ],
   "source": [
    "OPEN = pd.read_feather(os.path.join(ohlc_path, 'OPEN_PRICE_2.fea')).set_index('TRADE_DATE')\n",
    "OPEN.index = pd.to_datetime(OPEN.index).strftime('%Y%m%d')\n",
    "OPEN = OPEN.pct_change().shift(-1).replace([np.inf, -np.inf], np.nan)\n",
    "\n",
    "#计算组合框架的收益和指数收益\n",
    "dt_list = list(valid_stock_dict.keys())\n",
    "agg_se = pd.Series(index=dt_list)\n",
    "idx_se = pd.Series(index=dt_list)\n",
    "for date in tqdm(dt_list):\n",
    "    if dt_list.index(date)%5==0:\n",
    "        all_stock = pd.Series(valid_stock_dict[date])\n",
    "        all_stock.index = ['%06d'%x for x in all_stock.index]\n",
    "        target_stock = all_stock[all_stock>0].copy()\n",
    "        rq_stock = -all_stock[all_stock<0].copy()\n",
    "    agg_ret = OPEN.loc[date].reindex(target_stock.index).fillna(0).mul(target_stock).sum()\n",
    "    idx_ret = OPEN.loc[date].reindex(rq_stock.index).fillna(0).mul(rq_stock).sum()\n",
    "    agg_se[date] = agg_ret\n",
    "    idx_se[date] = idx_ret\n",
    "total_df = pd.DataFrame({'agg':agg_se,'idx':idx_se})\n",
    "total_df['exret'] = total_df['agg'] - total_df['idx']\n",
    "(total_df+1).cumprod().plot()"
   ]
  },
  {
   "cell_type": "code",
   "execution_count": null,
   "metadata": {},
   "outputs": [],
   "source": []
  },
  {
   "cell_type": "code",
   "execution_count": null,
   "metadata": {},
   "outputs": [
    {
     "data": {
      "text/plain": [
       "{6: 0.0015,\n",
       " 25: 0.0015,\n",
       " 32: 0.0015,\n",
       " 34: 0.0015,\n",
       " 35: 0.0015,\n",
       " 40: 0.0015,\n",
       " 49: 0.0015,\n",
       " 58: 0.0015,\n",
       " 60: 0.0015,\n",
       " 400: 0.0015,\n",
       " 403: 0.0015,\n",
       " 537: 0.0015,\n",
       " 560: 0.0015,\n",
       " 561: 0.0015,\n",
       " 563: 0.0015,\n",
       " 567: 0.0015,\n",
       " 576: 0.0015,\n",
       " 591: 0.0015,\n",
       " 593: 0.0004348802009875776,\n",
       " 597: 0.0015,\n",
       " 603: 0.0015,\n",
       " 610: 0.0009374258332409216,\n",
       " 615: 0.0015,\n",
       " 629: 0.0015,\n",
       " 630: 0.0015,\n",
       " 657: 0.0015,\n",
       " 666: 0.0015,\n",
       " 681: 0.0015,\n",
       " 683: 0.0015,\n",
       " 690: 0.0015,\n",
       " 698: 0.0015,\n",
       " 721: 0.0015,\n",
       " 729: 0.0015,\n",
       " 736: 0.00023330874760570108,\n",
       " 737: 0.0015,\n",
       " 739: 0.0015,\n",
       " 762: 0.0015,\n",
       " 807: 0.0015,\n",
       " 815: 0.0015,\n",
       " 818: 0.0015,\n",
       " 848: 0.0015,\n",
       " 860: 0.0015,\n",
       " 887: 0.0015,\n",
       " 909: 0.0015,\n",
       " 913: 0.0015,\n",
       " 915: 0.0015,\n",
       " 921: 0.0015,\n",
       " 923: 0.0015,\n",
       " 935: 0.0015,\n",
       " 951: 0.0015,\n",
       " 961: 0.0015,\n",
       " 970: 0.0015,\n",
       " 975: 0.0015,\n",
       " 998: 0.0015,\n",
       " 999: 0.0015,\n",
       " 1217: 0.0015,\n",
       " 1258: 0.0015,\n",
       " 1270: 0.0015,\n",
       " 1301: 0.0015,\n",
       " 1338: 0.0015,\n",
       " 1914: 0.0015,\n",
       " 2002: 0.0015,\n",
       " 2006: 0.0015,\n",
       " 2010: 0.0015,\n",
       " 2011: 0.0015,\n",
       " 2015: 0.0015,\n",
       " 2020: 0.0015,\n",
       " 2025: 0.0015,\n",
       " 2028: 0.0015,\n",
       " 2043: 0.0015,\n",
       " 2044: 0.0015,\n",
       " 2056: 0.0015,\n",
       " 2063: 0.0015,\n",
       " 2077: 0.0015,\n",
       " 2079: 0.0015,\n",
       " 2085: 0.0015,\n",
       " 2093: 0.0015,\n",
       " 2095: 0.0008513420174358199,\n",
       " 2096: 0.0015,\n",
       " 2100: 0.0015,\n",
       " 2126: 0.0015,\n",
       " 2137: 0.0015,\n",
       " 2138: 0.0015,\n",
       " 2145: 0.0015,\n",
       " 2153: 0.0015,\n",
       " 2156: 0.0015,\n",
       " 2158: 0.0015,\n",
       " 2159: 0.0015,\n",
       " 2174: 0.0015,\n",
       " 2183: 0.0015,\n",
       " 2184: 0.0015,\n",
       " 2188: 0.0015,\n",
       " 2192: 0.0015,\n",
       " 2193: 0.0015,\n",
       " 2195: 0.0015,\n",
       " 2216: 0.0015,\n",
       " 2218: 0.0015,\n",
       " 2221: 0.0015,\n",
       " 2223: 0.0015,\n",
       " 2231: 0.0015,\n",
       " 2234: 0.0015,\n",
       " 2235: 0.0015,\n",
       " 2242: 0.0015,\n",
       " 2244: 0.0015,\n",
       " 2251: 0.0015,\n",
       " 2254: 0.0015,\n",
       " 2262: 0.0015,\n",
       " 2268: 0.0015,\n",
       " 2291: 0.0015,\n",
       " 2299: 0.0015,\n",
       " 2317: 0.0015,\n",
       " 2324: 0.0015,\n",
       " 2332: 0.0015,\n",
       " 2335: 0.0015,\n",
       " 2336: 9.493639941188584e-05,\n",
       " 2343: 0.0015,\n",
       " 2351: 0.0015,\n",
       " 2357: 0.0015,\n",
       " 2368: 0.0015,\n",
       " 2372: 0.0015,\n",
       " 2373: 0.0015,\n",
       " 2384: 0.0015,\n",
       " 2385: 0.0015,\n",
       " 2411: 0.0009398801970693857,\n",
       " 2416: 0.0015,\n",
       " 2422: 0.0015,\n",
       " 2423: 0.0015,\n",
       " 2428: 0.0015,\n",
       " 2434: 0.0015,\n",
       " 2436: 0.0015,\n",
       " 2441: 0.0015,\n",
       " 2446: 0.0015,\n",
       " 2449: 0.0015,\n",
       " 2453: 0.0015,\n",
       " 2456: 0.0015,\n",
       " 2467: 0.0015,\n",
       " 2472: 0.0015,\n",
       " 2484: 0.0015,\n",
       " 2487: 0.0015,\n",
       " 2508: 0.0015,\n",
       " 2511: 0.0015,\n",
       " 2516: 0.0015,\n",
       " 2517: 0.0015,\n",
       " 2518: 0.0015,\n",
       " 2519: 0.0011660338329027714,\n",
       " 2528: 0.0015,\n",
       " 2531: 0.0015,\n",
       " 2532: 0.0015,\n",
       " 2534: 0.0015,\n",
       " 2541: 0.0015,\n",
       " 2549: 0.0015,\n",
       " 2550: 0.0015,\n",
       " 2557: 0.0015,\n",
       " 2558: 0.0015,\n",
       " 2568: 0.0015,\n",
       " 2572: 0.0015,\n",
       " 2585: 0.0015,\n",
       " 2591: 0.0015,\n",
       " 2603: 0.0015,\n",
       " 2605: 0.0015,\n",
       " 2610: 0.0015,\n",
       " 2612: 0.0015,\n",
       " 2614: 0.0015,\n",
       " 2617: 0.0015,\n",
       " 2624: 0.0015,\n",
       " 2626: 0.0015,\n",
       " 2645: 0.0015,\n",
       " 2646: 0.0015,\n",
       " 2653: 0.0015,\n",
       " 2664: 0.0015,\n",
       " 2675: 0.0015,\n",
       " 2683: 0.0015,\n",
       " 2695: 0.0015,\n",
       " 2701: 0.0015,\n",
       " 2706: 0.0015,\n",
       " 2727: 0.0015,\n",
       " 2733: 0.0015,\n",
       " 2737: 0.0010267452098587787,\n",
       " 2738: 0.0015,\n",
       " 2739: 0.0015,\n",
       " 2745: 0.0015,\n",
       " 2756: 0.0015,\n",
       " 2762: 0.0015,\n",
       " 2768: 0.0015,\n",
       " 2782: 0.0015,\n",
       " 2803: 0.0015,\n",
       " 2807: 0.0015,\n",
       " 2824: 0.00030258381438267104,\n",
       " 2829: 0.0015,\n",
       " 2832: 0.0015,\n",
       " 2833: 0.0015,\n",
       " 2837: 0.0015,\n",
       " 2839: 0.0015,\n",
       " 2845: 0.0015,\n",
       " 2850: 0.0015,\n",
       " 2851: 0.0015,\n",
       " 2858: 0.0015,\n",
       " 2865: 0.0015,\n",
       " 2867: 0.0015,\n",
       " 2875: 0.0015,\n",
       " 2895: 0.0015,\n",
       " 2901: 0.0015,\n",
       " 2906: 0.0015,\n",
       " 2911: 0.0015,\n",
       " 2918: 0.0015,\n",
       " 2928: 0.0015,\n",
       " 2929: 0.0015,\n",
       " 2933: 0.0015,\n",
       " 2953: 0.0015,\n",
       " 2959: 0.0015,\n",
       " 2960: 0.0015,\n",
       " 2987: 0.0015,\n",
       " 2990: 0.0015,\n",
       " 2991: 0.0015,\n",
       " 2995: 0.0015,\n",
       " 2999: 0.0015,\n",
       " 3006: 0.0015,\n",
       " 3021: 0.0015,\n",
       " 3022: 0.0015,\n",
       " 3025: 0.0015,\n",
       " 3026: 0.0015,\n",
       " 3027: 0.0015,\n",
       " 3031: 0.0015,\n",
       " 3032: 0.0015,\n",
       " 3035: 0.0015,\n",
       " 3038: 0.0015,\n",
       " 3040: 0.0015,\n",
       " 3042: 0.0015,\n",
       " 300009: 0.0015,\n",
       " 300012: 0.0015,\n",
       " 300026: 0.0015,\n",
       " 300034: 0.0015,\n",
       " 300035: 0.0015,\n",
       " 300036: 0.0015,\n",
       " 300037: 0.0015,\n",
       " 300039: 0.0015,\n",
       " 300051: 0.0015,\n",
       " 300054: 0.0015,\n",
       " 300058: 0.0015,\n",
       " 300065: 0.0015,\n",
       " 300068: 0.0015,\n",
       " 300072: 0.0015,\n",
       " 300075: 0.0015,\n",
       " 300085: 0.00013729273980637655,\n",
       " 300087: 0.0015,\n",
       " 300109: 0.0015,\n",
       " 300115: 0.0015,\n",
       " 300118: 0.0015,\n",
       " 300123: 0.0015,\n",
       " 300144: 0.0015,\n",
       " 300146: 0.0015,\n",
       " 300151: 0.0015,\n",
       " 300158: 0.0015,\n",
       " 300203: 0.0015,\n",
       " 300204: 0.0015,\n",
       " 300205: 0.0015,\n",
       " 300212: 0.0015,\n",
       " 300226: 0.0015,\n",
       " 300251: 0.0015,\n",
       " 300253: 0.0015,\n",
       " 300261: 0.0015,\n",
       " 300263: 0.0015,\n",
       " 300271: 0.0015,\n",
       " 300294: 0.0015,\n",
       " 300298: 0.0015,\n",
       " 300315: 0.0015,\n",
       " 300327: 0.0015,\n",
       " 300328: 0.0015,\n",
       " 300339: 0.0015,\n",
       " 300357: 0.0015,\n",
       " 300363: 0.0015,\n",
       " 300366: 0.0015,\n",
       " 300373: 0.0015,\n",
       " 300376: 0.0015,\n",
       " 300379: 0.0015,\n",
       " 300382: 0.0015,\n",
       " 300390: 0.0015,\n",
       " 300393: 0.0015,\n",
       " 300394: 0.0006653914193996985,\n",
       " 300395: 0.0015,\n",
       " 300428: 0.0015,\n",
       " 300432: 0.0015,\n",
       " 300438: 0.0015,\n",
       " 300443: 0.0015,\n",
       " 300451: 0.0015,\n",
       " 300456: 0.0015,\n",
       " 300459: 0.0015,\n",
       " 300487: 0.0015,\n",
       " 300525: 0.0015,\n",
       " 300558: 0.0015,\n",
       " 300567: 0.0015,\n",
       " 300568: 0.0015,\n",
       " 300573: 0.0015,\n",
       " 300587: 0.0015,\n",
       " 300593: 0.0015,\n",
       " 300596: 0.0015,\n",
       " 300598: 0.0015,\n",
       " 300604: 0.0015,\n",
       " 300616: 0.0015,\n",
       " 300633: 0.0015,\n",
       " 300634: 0.0015,\n",
       " 300649: 0.0009341629024121568,\n",
       " 300657: 0.0015,\n",
       " 300659: 0.0015,\n",
       " 300662: 0.0015,\n",
       " 300666: 0.0015,\n",
       " 300672: 0.0015,\n",
       " 300679: 0.0015,\n",
       " 300682: 0.0015,\n",
       " 300685: 0.0015,\n",
       " 300687: 0.0015,\n",
       " 300699: 0.0015,\n",
       " 300723: 0.0015,\n",
       " 300724: 0.0015,\n",
       " 300725: 0.0015,\n",
       " 300737: 0.0015,\n",
       " 300740: 0.0015,\n",
       " 300747: 0.0015,\n",
       " 300755: 0.0015,\n",
       " 300761: 0.0015,\n",
       " 300767: 0.0015,\n",
       " 300772: 0.0015,\n",
       " 300773: 0.0015,\n",
       " 300776: 0.0015,\n",
       " 300791: 0.0015,\n",
       " 300799: 0.0015,\n",
       " 300803: 0.0015,\n",
       " 300812: 0.0005651197990124046,\n",
       " 300827: 0.0015,\n",
       " 300832: 0.0015,\n",
       " 300835: 0.0015,\n",
       " 300841: 0.0015,\n",
       " 300842: 0.0015,\n",
       " 300850: 0.0015,\n",
       " 300855: 0.0015,\n",
       " 300856: 0.0015,\n",
       " 300860: 0.0015,\n",
       " 300861: 0.0015,\n",
       " 300863: 0.0015,\n",
       " 300869: 0.0015,\n",
       " 300887: 0.0015,\n",
       " 300894: 0.0015,\n",
       " 300910: 0.0015,\n",
       " 300917: 0.0015,\n",
       " 300953: 0.0015,\n",
       " 300957: 0.0015,\n",
       " 300967: 0.0015,\n",
       " 300973: 0.0015,\n",
       " 301015: 0.0015,\n",
       " 301026: 0.0015,\n",
       " 301029: 0.0015,\n",
       " 301031: 0.0015,\n",
       " 301035: 0.0015,\n",
       " 301046: 0.0015,\n",
       " 301071: 0.0015,\n",
       " 301078: 0.0015,\n",
       " 301080: 0.0015,\n",
       " 301089: 0.0015,\n",
       " 301155: 0.0015,\n",
       " 301177: 0.0015,\n",
       " 301207: 0.0015,\n",
       " 301236: 0.0015,\n",
       " 301268: 0.0015,\n",
       " 301278: 0.0015,\n",
       " 301349: 0.0015,\n",
       " 600006: 0.0015,\n",
       " 600021: 0.0015,\n",
       " 600026: 0.0015,\n",
       " 600027: 0.0015,\n",
       " 600038: 0.0015,\n",
       " 600056: 0.0015,\n",
       " 600062: 0.0015,\n",
       " 600066: 0.0015,\n",
       " 600079: 0.0015,\n",
       " 600095: 0.0015,\n",
       " 600100: 0.0014753674361233093,\n",
       " 600109: 0.0015,\n",
       " 600114: 0.0015,\n",
       " 600129: 0.0015,\n",
       " 600131: 0.0015,\n",
       " 600153: 0.0015,\n",
       " 600157: 0.0015,\n",
       " 600161: 0.0015,\n",
       " 600179: 0.0015,\n",
       " 600185: 0.0015,\n",
       " 600187: 0.0015,\n",
       " 600188: 0.0015,\n",
       " 600195: 0.0015,\n",
       " 600197: 0.0015,\n",
       " 600201: 0.0015,\n",
       " 600223: 0.0015,\n",
       " 600246: 0.0015,\n",
       " 600258: 0.0015,\n",
       " 600277: 0.0015,\n",
       " 600315: 0.0015,\n",
       " 600325: 0.0015,\n",
       " 600329: 0.0015,\n",
       " 600335: 0.0015,\n",
       " 600366: 0.0015,\n",
       " 600376: 0.0015,\n",
       " 600378: 0.0015,\n",
       " 600389: 0.0015,\n",
       " 600390: 0.0011507215793430912,\n",
       " 600399: 0.0015,\n",
       " 600415: 0.0015,\n",
       " 600416: 0.0015,\n",
       " 600418: 0.0015,\n",
       " 600422: 0.0015,\n",
       " 600435: 0.0015,\n",
       " 600446: 0.0015,\n",
       " 600452: 0.0015,\n",
       " 600458: 0.0015,\n",
       " 600477: 0.0015,\n",
       " 600478: 0.0015,\n",
       " 600481: 0.0015,\n",
       " 600483: 0.0015,\n",
       " 600487: 0.0015,\n",
       " 600491: 0.0015,\n",
       " 600497: 0.0015,\n",
       " 600520: 0.0015,\n",
       " 600521: 0.0015,\n",
       " 600529: 0.0015,\n",
       " 600546: 0.0015,\n",
       " 600556: 0.0015,\n",
       " 600557: 0.0015,\n",
       " 600559: 0.0015,\n",
       " 600563: 0.0015,\n",
       " 600572: 0.0015,\n",
       " 600580: 0.0015,\n",
       " 600583: 0.0015,\n",
       " 600586: 0.0015,\n",
       " 600602: 0.0015,\n",
       " 600610: 0.0015,\n",
       " 600612: 0.0015,\n",
       " 600657: 0.0015,\n",
       " 600696: 0.0015,\n",
       " 600706: 0.0015,\n",
       " 600729: 0.0015,\n",
       " 600765: 0.0015,\n",
       " 600777: 0.0015,\n",
       " 600821: 0.0015,\n",
       " 600859: 0.0015,\n",
       " 600872: 0.0015,\n",
       " 600882: 0.0015,\n",
       " 600901: 0.0015,\n",
       " 600906: 0.0015,\n",
       " 600908: 0.0015,\n",
       " 600909: 0.0015,\n",
       " 600916: 0.0015,\n",
       " 600933: 0.0015,\n",
       " 600958: 0.0015,\n",
       " 600963: 0.0015,\n",
       " 600970: 0.0015,\n",
       " 600977: 0.0015,\n",
       " 600988: 0.0015,\n",
       " 600996: 0.0015,\n",
       " 601015: 0.0015,\n",
       " 601022: 0.0015,\n",
       " 601028: 0.0015,\n",
       " 601058: 0.0015,\n",
       " 601099: 0.0015,\n",
       " 601126: 0.0015,\n",
       " 601136: 0.0015,\n",
       " 601137: 0.0015,\n",
       " 601139: 0.0015,\n",
       " 601208: 0.0015,\n",
       " 601212: 0.0015,\n",
       " 601222: 0.0015,\n",
       " 601231: 0.0014446774264262495,\n",
       " 601369: 0.0015,\n",
       " 601375: 0.0015,\n",
       " 601456: 0.0015,\n",
       " 601519: 0.0015,\n",
       " 601636: 0.0015,\n",
       " 601677: 0.0015,\n",
       " 601700: 0.0015,\n",
       " 601702: 0.0015,\n",
       " 601717: 0.0015,\n",
       " 601777: 0.0015,\n",
       " 601778: 0.0015,\n",
       " 601860: 0.0015,\n",
       " 601872: 0.0015,\n",
       " 601882: 0.0015,\n",
       " 601886: 0.0015,\n",
       " 601908: 0.0015,\n",
       " 601918: 4.704173550735755e-06,\n",
       " 601958: 0.0015,\n",
       " 601965: 0.0015,\n",
       " 601975: 0.0015,\n",
       " 603000: 0.0015,\n",
       " 603008: 0.0015,\n",
       " 603029: 0.0015,\n",
       " 603032: 0.0015,\n",
       " 603043: 0.0015,\n",
       " 603055: 0.0015,\n",
       " 603056: 0.0015,\n",
       " 603063: 0.0015,\n",
       " 603105: 0.0015,\n",
       " 603123: 0.0015,\n",
       " 603127: 0.0015,\n",
       " 603128: 0.0015,\n",
       " 603129: 0.0015,\n",
       " 603171: 0.0015,\n",
       " 603179: 0.0015,\n",
       " 603191: 0.0015,\n",
       " 603197: 0.0015,\n",
       " 603200: 0.0015,\n",
       " 603208: 0.0015,\n",
       " 603212: 0.0015,\n",
       " 603213: 0.0015,\n",
       " 603218: 0.0015,\n",
       " 603225: 0.0015,\n",
       " 603229: 0.0015,\n",
       " 603233: 0.0015,\n",
       " 603236: 0.0015,\n",
       " 603267: 0.0015,\n",
       " 603279: 0.0015,\n",
       " 603297: 0.0015,\n",
       " 603298: 0.0015,\n",
       " 603305: 0.0015,\n",
       " 603306: 0.0015,\n",
       " 603308: 0.0015,\n",
       " 603338: 0.0015,\n",
       " 603345: 0.0015,\n",
       " 603348: 0.0015,\n",
       " 603355: 0.0015,\n",
       " 603396: 0.0015,\n",
       " 603416: 0.0015,\n",
       " 603429: 0.0015,\n",
       " 603439: 0.0015,\n",
       " 603444: 0.0015,\n",
       " 603456: 0.0015,\n",
       " 603466: 0.0015,\n",
       " 603489: 0.0015,\n",
       " 603517: 0.0015,\n",
       " 603520: 0.0015,\n",
       " 603529: 0.0015,\n",
       " 603530: 0.0015,\n",
       " 603566: 0.0015,\n",
       " 603567: 0.0015,\n",
       " 603589: 0.0015,\n",
       " 603596: 0.0015,\n",
       " 603606: 0.0015,\n",
       " 603612: 0.0015,\n",
       " 603613: 0.0015,\n",
       " 603650: 0.0015,\n",
       " 603658: 0.0015,\n",
       " 603666: 0.0015,\n",
       " 603688: 0.0015,\n",
       " 603690: 0.0015,\n",
       " 603707: 0.0015,\n",
       " 603713: 0.0015,\n",
       " 603719: 0.0015,\n",
       " 603721: 0.0015,\n",
       " 603728: 0.0015,\n",
       " 603737: 0.0015,\n",
       " 603786: 0.0015,\n",
       " 603799: 0.0015,\n",
       " 603801: 0.0015,\n",
       " 603816: 0.0015,\n",
       " 603866: 0.0015,\n",
       " 603868: 0.0015,\n",
       " 603876: 0.0015,\n",
       " 603881: 0.0015,\n",
       " 603883: 0.0015,\n",
       " 603885: 0.0015,\n",
       " 603893: 0.0015,\n",
       " 603912: 0.0009744891579508263,\n",
       " 603916: 0.0015,\n",
       " 603919: 0.0015,\n",
       " 603936: 0.0015,\n",
       " 603939: 0.0015,\n",
       " 603979: 0.0015,\n",
       " 603982: 6.58370976477471e-05,\n",
       " 603985: 0.0015,\n",
       " 603986: 0.0015,\n",
       " 603995: 0.0015,\n",
       " 603997: 0.0015,\n",
       " 605009: 0.0015,\n",
       " 605111: 0.0015,\n",
       " 605123: 0.0015,\n",
       " 605136: 0.0015,\n",
       " 605168: 0.0015,\n",
       " 605222: 0.0015,\n",
       " 605338: 0.0015,\n",
       " 605369: 0.0015,\n",
       " 605376: 0.0015,\n",
       " 605388: 0.0010951000154490326,\n",
       " 688002: 0.0015,\n",
       " 688006: 0.0015,\n",
       " 688007: 0.0015,\n",
       " 688012: 0.0015,\n",
       " 688016: 0.0015,\n",
       " 688017: 0.0015,\n",
       " 688018: 0.0015,\n",
       " 688019: 0.0015,\n",
       " 688023: 0.0015,\n",
       " 688029: 0.0015,\n",
       " 688033: 0.0015,\n",
       " 688037: 0.0015,\n",
       " 688050: 0.0015,\n",
       " 688063: 0.0015,\n",
       " 688066: 0.0015,\n",
       " 688077: 0.0015,\n",
       " 688083: 0.0015,\n",
       " 688085: 0.0015,\n",
       " 688099: 0.0015,\n",
       " 688100: 0.0015,\n",
       " 688106: 0.0015,\n",
       " 688116: 0.0015,\n",
       " 688122: 0.0015,\n",
       " 688131: 0.0015,\n",
       " 688133: 0.0015,\n",
       " 688139: 0.0015,\n",
       " 688148: 0.0015,\n",
       " 688158: 0.0015,\n",
       " 688161: 0.0015,\n",
       " 688185: 0.0015,\n",
       " 688188: 0.0015,\n",
       " 688198: 0.0015,\n",
       " 688200: 0.0015,\n",
       " 688202: 0.0015,\n",
       " 688208: 0.0015,\n",
       " 688233: 0.0015,\n",
       " 688239: 0.0015,\n",
       " 688266: 0.0015,\n",
       " 688268: 0.0015,\n",
       " 688276: 0.0015,\n",
       " 688278: 0.0015,\n",
       " 688286: 0.0015,\n",
       " 688301: 0.0015,\n",
       " 688315: 0.0015,\n",
       " 688318: 0.0015,\n",
       " 688333: 0.0015,\n",
       " 688339: 0.0015,\n",
       " 688356: 0.0015,\n",
       " 688366: 0.0015,\n",
       " 688368: 0.0015,\n",
       " 688372: 0.0015,\n",
       " 688383: 0.0015,\n",
       " 688385: 0.0015,\n",
       " 688390: 0.0015,\n",
       " 688408: 0.0015,\n",
       " 688439: 0.0015,\n",
       " 688499: 0.0015,\n",
       " 688503: 0.0015,\n",
       " 688508: 0.0015,\n",
       " 688516: 0.0015,\n",
       " 688518: 0.0015,\n",
       " 688520: 0.0015,\n",
       " 688526: 0.0015,\n",
       " 688556: 0.0015,\n",
       " 688559: 0.0015,\n",
       " 688567: 0.0015,\n",
       " 688575: 0.0015,\n",
       " 688578: 0.0015,\n",
       " 688598: 0.0015,\n",
       " 688608: 0.0015,\n",
       " 688617: 0.0015,\n",
       " 688636: 0.0015,\n",
       " 688639: 0.0015,\n",
       " 688676: 0.0015,\n",
       " 688680: 0.0015,\n",
       " 688686: 0.0015,\n",
       " 688690: 0.0015,\n",
       " 688696: 0.0015,\n",
       " 688699: 0.0015,\n",
       " 688700: 0.0015,\n",
       " 688707: 0.0015,\n",
       " 688711: 0.0015,\n",
       " 688733: 0.0015,\n",
       " 688772: 0.0015,\n",
       " 688777: 0.0015,\n",
       " 688778: 0.0015,\n",
       " 688798: 0.0015,\n",
       " 688800: 0.0015,\n",
       " 688819: 0.0015}"
      ]
     },
     "execution_count": 31,
     "metadata": {},
     "output_type": "execute_result"
    }
   ],
   "source": [
    "valid_stock_dict['20230112']"
   ]
  },
  {
   "cell_type": "code",
   "execution_count": null,
   "metadata": {},
   "outputs": [],
   "source": []
  }
 ],
 "metadata": {
  "kernelspec": {
   "display_name": "Python 3 (ipykernel)",
   "language": "python",
   "name": "python3"
  }
 },
 "nbformat": 4,
 "nbformat_minor": 2
}
