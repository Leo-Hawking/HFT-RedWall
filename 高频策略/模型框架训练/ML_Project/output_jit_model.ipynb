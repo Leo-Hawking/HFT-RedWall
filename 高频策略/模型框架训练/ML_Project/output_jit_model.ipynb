{
 "cells": [
  {
   "cell_type": "code",
   "execution_count": 1,
   "metadata": {},
   "outputs": [],
   "source": [
    "import sys\n",
    "import os\n",
    "import warnings\n",
    "import glob\n",
    "import re\n",
    "from argparse import ArgumentParser\n",
    "from tqdm.notebook import tqdm\n",
    "sys.path.append(r'/home/datamake94/秒级高频策略/ML_Project')\n",
    "from model_training_20240814 import *\n",
    "\n",
    "os.environ['CUDA_VISIBLE_DEVICES'] = '8'"
   ]
  },
  {
   "cell_type": "code",
   "execution_count": 3,
   "metadata": {},
   "outputs": [],
   "source": [
    "class UMPDataset_out(torch.utils.data.Dataset):  #读日内全部的数据\n",
    "    def __init__(self, date, valid_dict) -> None:\n",
    "        self.date = date\n",
    "        self.valid_dict=valid_dict\n",
    "        self.sec_list = params.sec_list_dict[future_ret]\n",
    "        factor_stock_list=get_default_stock_list(date)   #所有因子固定的个股\n",
    "        self.stock_list=sorted(list(set(factor_stock_list)))\n",
    "\n",
    "        pre_date = get_pre_date(date)\n",
    "        industry_slice = Dataset.industry_table.loc[pre_date]\n",
    "        self.industry_dummy = torch.from_numpy(pd.get_dummies(industry_slice).reindex(self.stock_list).fillna(False).values).float()\n",
    "    \n",
    "    def __getitem__(self, index):\n",
    "        sec = self.sec_list[index]\n",
    "        if sec<100000:\n",
    "            period=93000\n",
    "        else:\n",
    "            period=100000\n",
    "        min_se,max_se,valid_ind=self.valid_dict[period]\n",
    "        factor_data = load_all_data(self.date,self.stock_list, sec, model_training=True,valid_ind=valid_ind,max_se=max_se,min_se=min_se,import_se=True)\n",
    "        return [factor_data,self.industry_dummy],sec\n",
    "\n",
    "    def __len__(self):\n",
    "        return len(self.sec_list)\n",
    "\n",
    "def get_best_model(args,store_date):\n",
    "    model_path=os.path.join(params._model_path,get_model_name(args, store_date))\n",
    "    version=len(os.listdir(model_path))\n",
    "    ckpt_all=glob.glob(model_path+'/version_%s/**/*[0-9].ckpt'%(version-1),recursive=True) #最新的模型\n",
    "\n",
    "    result_df=pd.DataFrame([[int(re.findall('epoch=(\\d+)',i)[0]),float(re.findall('val_rankic=(-?[0-9].\\d*)',i)[0]),\n",
    "                             float(re.findall('val_ls=(-?[0-9].\\d*)',i)[0])]  for i in ckpt_all],columns=['epoch','ic','ls'])\n",
    "    best_ind=(result_df['ls']*0.6+result_df['ic']*0.4).idxmax()\n",
    "    #model_p='/epoch=%s-val_rankic=%.4f-val_ls=%.4f.ckpt'%(result_df.loc[best_ind,'epoch'],result_df.loc[best_ind,'ic'],result_df.loc[best_ind,'ls'])\n",
    "    return ckpt_all[best_ind], model_path\n",
    "\n",
    "def calc_args_model_dict(store_date, period_list, future_ret_list):\n",
    "    args_dict = {}\n",
    "    info_dict = {}\n",
    "    model_dict = {}\n",
    "    for future_ret in future_ret_list:\n",
    "        for period in period_list:\n",
    "            params.period = period\n",
    "            params.future_ret = future_ret\n",
    "            args = parse_args()\n",
    "            best_model_path, model_file_path = get_best_model(args,store_date)\n",
    "            print(future_ret, period, best_model_path)\n",
    "\n",
    "            load_file_path = os.path.join(model_file_path, 'version_0')\n",
    "            min_se = torch.load(rf\"{load_file_path}/min_tensor.pt\")\n",
    "            max_se = torch.load(rf\"{load_file_path}/max_tensor.pt\")\n",
    "            all_factor_list = torch.load(rf\"{load_file_path}/all_factor_list.pt\")\n",
    "            valid_ind = torch.load(rf\"{load_file_path}/valid_ind.pt\")\n",
    "\n",
    "            factor_num = valid_ind.int().sum()\n",
    "            model = UMPLitModule.load_from_checkpoint(best_model_path, args=args, factor_num=factor_num)\n",
    "            model.cpu().eval()\n",
    "            args_dict[(future_ret, period)] = args\n",
    "            info_dict[(future_ret, period)] = (min_se, max_se, valid_ind, all_factor_list, factor_num)\n",
    "            model_dict[(future_ret, period)] = model\n",
    "\n",
    "    return args_dict, info_dict, model_dict\n",
    "\n",
    "def get_out_factor_list(factor_list):\n",
    "    '''实盘命名规则'''\n",
    "    factor_prefix_dict= {\n",
    "            'ysw_orderbook1':'ob1',\n",
    "            'ysw_pv_a':'sec2',\n",
    "            'ysw_pv_b':'sec2',\n",
    "            'ysw_graph':'graph1',\n",
    "            'ysw_orderbook2':'ob2',\n",
    "            'ysw_pv2':'sec1',\n",
    "            'yy_order_basic':'order_basic',\n",
    "            'yy_order_ls1':'order_ls1',\n",
    "            'yy_trans_basic':'trans_basic',\n",
    "            'yy_trans_ls1':'trans_ls1',\n",
    "            'yy_orderbook3':'ob3',\n",
    "            'yy_pv4':'sec4',\n",
    "            }\n",
    "    static_factor=[]\n",
    "    with open('/home/intern1/hft_factor_comb/backup_test/factor_list_update20231204.txt', 'r', encoding='utf-8') as file:\n",
    "        # 逐行读取文件\n",
    "        lines = file.readlines()  # 这会将所有行读入一个列表\n",
    "        # 遍历每一行\n",
    "        for line in lines:\n",
    "            if int(line.strip().split('=')[1])>=764:\n",
    "                static_factor.append(line.strip().split('=')[0])\n",
    "\n",
    "    factor_list_daily = factor_list[:-len(static_factor)]\n",
    "    factor_list_daily = [x.lower() for x in factor_list_daily]\n",
    "    for i in range(len(factor_list_daily)):\n",
    "        for key in factor_prefix_dict.keys():\n",
    "            if factor_list_daily[i].startswith(key):\n",
    "                factor_list_daily[i]=factor_prefix_dict[key]+factor_list_daily[i][len(key):]\n",
    "    return factor_list_daily+[x.upper() for x in static_factor]\n",
    "\n",
    "def output_jit_model(period_list, future_ret_list, store_date, save_score_name, info_dict, model_dict):\n",
    "    print('正在输出jit模型和基础数据')\n",
    "    save_file_path = os.path.join(jit_model_output_path, rf\"{store_date}:{save_score_name}\")\n",
    "    if not os.path.exists(save_file_path):\n",
    "        os.makedirs(save_file_path)\n",
    "    for period in period_list:\n",
    "        for future_ret in future_ret_list:\n",
    "            min_se, max_se, valid_ind, all_factor_list, factor_num = info_dict[(future_ret, period)]\n",
    "            test_data = torch.randn([5000, factor_num])\n",
    "            #生成一个随机的0-1矩阵，shape为5000*200\n",
    "            industry_dummy = torch.randint(0, 1, [5000, 200])\n",
    "            model = model_dict[(future_ret, period)].model.eval()\n",
    "            jit_model = torch.jit.trace(model, (test_data, industry_dummy))\n",
    "\n",
    "            #测试模型结果，生成三个随机的结果要求都能对上\n",
    "            for i in range(3):\n",
    "                test_data = torch.randn([5000, factor_num])\n",
    "                industry_dummy = torch.randint(0, 1, [5000, 200])\n",
    "                score = model(test_data, industry_dummy)\n",
    "                score_jit = jit_model(test_data, industry_dummy)\n",
    "                assert (score == score_jit).float().mean() == 1.\n",
    "\n",
    "            model_idx = {'1m':1, '5m':2, '15s':3}[future_ret]\n",
    "            torch.jit.save(jit_model, rf\"{save_file_path}/model{model_idx}_{period}.pt\")\n",
    "\n",
    "            #输出基础数据\n",
    "            IT_all_factor = get_out_factor_list(all_factor_list)\n",
    "            min_se_output = pd.Series(min_se.numpy(), index=IT_all_factor)\n",
    "            max_se_output = pd.Series(max_se.numpy(), index=IT_all_factor)\n",
    "            min_se_output.to_csv(rf\"{save_file_path}/min_tensor.csv\")\n",
    "            max_se_output.to_csv(rf\"{save_file_path}/max_tensor.csv\")\n",
    "\n",
    "            valid_factor_list = [IT_all_factor[i] for i in range(len(IT_all_factor)) if valid_ind[i] == True]\n",
    "            file = open(rf'{save_file_path}/factor_list_{period}_model{model_idx}.txt','w')\n",
    "            for i in range(len(valid_factor_list)):\n",
    "                file.write(valid_factor_list[i]+'='+str(i)+'\\n')\n",
    "            file.close()\n",
    "\n",
    "    return"
   ]
  },
  {
   "cell_type": "code",
   "execution_count": 4,
   "metadata": {},
   "outputs": [
    {
     "name": "stdout",
     "output_type": "stream",
     "text": [
      "训练集数据起始日为20220505，模型样本外预测期为20240506——20240701\n",
      "1m 93000 /home/datamake94/data_nb7/sec_model_all_final/20240506-yy_test-update0828-DCN+BERT-ob_ret_1m-93000-minmax-citic_2-NN256x64-pLabelTrue-graphTrue-cross3-thre0.2-decorrTrue-noiseFalse-gpus4-maxepch15-btch1-accu_btch64-drop0-schdstep_lr-losswccc-lr0.001-lr_gamma0.95-lr_stepsz2-wd0.0001/version_0/checkpoints/epoch=13-val_rankic=0.2381-val_ls=0.2482.ckpt\n",
      "1m 100000 /home/datamake94/data_nb7/sec_model_all_final/20240506-yy_test-update0828-DCN+BERT-ob_ret_1m-100000-minmax-citic_2-NN256x64-pLabelTrue-graphTrue-cross3-thre0.2-decorrTrue-noiseFalse-gpus4-maxepch15-btch1-accu_btch64-drop0-schdstep_lr-losswccc-lr0.001-lr_gamma0.95-lr_stepsz2-wd0.0001/version_0/checkpoints/epoch=11-val_rankic=0.2559-val_ls=0.1230.ckpt\n",
      "5m 93000 /home/datamake94/data_nb7/sec_model_all_final/20240506-yy_test-update0828-DCN+BERT-ob_ret_5m-93000-minmax-citic_2-NN256x64-pLabelTrue-graphTrue-cross3-thre0.2-decorrTrue-noiseFalse-gpus4-maxepch15-btch1-accu_btch64-drop0-schdstep_lr-losswccc-lr0.001-lr_gamma0.95-lr_stepsz2-wd0.0001/version_0/checkpoints/epoch=8-val_rankic=0.1379-val_ls=0.2882.ckpt\n",
      "5m 100000 /home/datamake94/data_nb7/sec_model_all_final/20240506-yy_test-update0828-DCN+BERT-ob_ret_5m-100000-minmax-citic_2-NN256x64-pLabelTrue-graphTrue-cross3-thre0.2-decorrTrue-noiseFalse-gpus4-maxepch15-btch1-accu_btch64-drop0-schdstep_lr-losswccc-lr0.001-lr_gamma0.95-lr_stepsz2-wd0.0001/version_0/checkpoints/epoch=14-val_rankic=0.1725-val_ls=0.1868.ckpt\n",
      "15s 93000 /home/datamake94/data_nb7/sec_model_all_final/20240506-yy_test-update0828-DCN+BERT-ob_ret_15s-93000-minmax-citic_2-NN256x64-pLabelTrue-graphTrue-cross3-thre0.2-decorrTrue-noiseFalse-gpus4-maxepch15-btch1-accu_btch64-drop0-schdstep_lr-losswccc-lr0.001-lr_gamma0.95-lr_stepsz2-wd0.0001/version_0/checkpoints/epoch=8-val_rankic=0.2637-val_ls=0.1027.ckpt\n",
      "15s 100000 /home/datamake94/data_nb7/sec_model_all_final/20240506-yy_test-update0828-DCN+BERT-ob_ret_15s-100000-minmax-citic_2-NN256x64-pLabelTrue-graphTrue-cross3-thre0.2-decorrTrue-noiseFalse-gpus4-maxepch15-btch1-accu_btch64-drop0-schdstep_lr-losswccc-lr0.001-lr_gamma0.95-lr_stepsz2-wd0.0001/version_0/checkpoints/epoch=10-val_rankic=0.2328-val_ls=0.0373.ckpt\n",
      "正在输出jit模型和基础数据\n"
     ]
    },
    {
     "data": {
      "application/vnd.jupyter.widget-view+json": {
       "model_id": "0cccc72b4ce541afa198951e8f24c9e1",
       "version_major": 2,
       "version_minor": 0
      },
      "text/plain": [
       "202405:   0%|          | 0/39 [00:00<?, ?it/s]"
      ]
     },
     "metadata": {},
     "output_type": "display_data"
    },
    {
     "data": {
      "application/vnd.jupyter.widget-view+json": {
       "model_id": "018c24542a8f411d8378bbb0d5206ad9",
       "version_major": 2,
       "version_minor": 0
      },
      "text/plain": [
       "20240506,1m:   0%|          | 0/2736 [00:00<?, ?it/s]"
      ]
     },
     "metadata": {},
     "output_type": "display_data"
    },
    {
     "data": {
      "application/vnd.jupyter.widget-view+json": {
       "model_id": "aaf0adbbe7e5422da4a1739c8bdc4914",
       "version_major": 2,
       "version_minor": 0
      },
      "text/plain": [
       "20240506,5m:   0%|          | 0/2736 [00:00<?, ?it/s]"
      ]
     },
     "metadata": {},
     "output_type": "display_data"
    },
    {
     "data": {
      "application/vnd.jupyter.widget-view+json": {
       "model_id": "f6f47d39116e42319df18c1fe56a53b2",
       "version_major": 2,
       "version_minor": 0
      },
      "text/plain": [
       "20240506,15s:   0%|          | 0/2736 [00:00<?, ?it/s]"
      ]
     },
     "metadata": {},
     "output_type": "display_data"
    },
    {
     "data": {
      "application/vnd.jupyter.widget-view+json": {
       "model_id": "ae62ac3b89014628aca092bffed20611",
       "version_major": 2,
       "version_minor": 0
      },
      "text/plain": [
       "20240507,1m:   0%|          | 0/2736 [00:00<?, ?it/s]"
      ]
     },
     "metadata": {},
     "output_type": "display_data"
    },
    {
     "data": {
      "application/vnd.jupyter.widget-view+json": {
       "model_id": "31424c76a87f4c21877633de4af1e62f",
       "version_major": 2,
       "version_minor": 0
      },
      "text/plain": [
       "20240507,5m:   0%|          | 0/2736 [00:00<?, ?it/s]"
      ]
     },
     "metadata": {},
     "output_type": "display_data"
    },
    {
     "data": {
      "application/vnd.jupyter.widget-view+json": {
       "model_id": "73028d38cbab4fbfbb09c9487906a9b5",
       "version_major": 2,
       "version_minor": 0
      },
      "text/plain": [
       "20240507,15s:   0%|          | 0/2736 [00:00<?, ?it/s]"
      ]
     },
     "metadata": {},
     "output_type": "display_data"
    },
    {
     "data": {
      "application/vnd.jupyter.widget-view+json": {
       "model_id": "48901415437a4d7ca68db81c341a3b4b",
       "version_major": 2,
       "version_minor": 0
      },
      "text/plain": [
       "20240508,1m:   0%|          | 0/2736 [00:00<?, ?it/s]"
      ]
     },
     "metadata": {},
     "output_type": "display_data"
    },
    {
     "data": {
      "application/vnd.jupyter.widget-view+json": {
       "model_id": "7f1922fdcdcf4d21976b38554a5d5139",
       "version_major": 2,
       "version_minor": 0
      },
      "text/plain": [
       "20240508,5m:   0%|          | 0/2736 [00:00<?, ?it/s]"
      ]
     },
     "metadata": {},
     "output_type": "display_data"
    },
    {
     "data": {
      "application/vnd.jupyter.widget-view+json": {
       "model_id": "a69ce837568740b1819d6d3f0a1ba9cb",
       "version_major": 2,
       "version_minor": 0
      },
      "text/plain": [
       "20240508,15s:   0%|          | 0/2736 [00:00<?, ?it/s]"
      ]
     },
     "metadata": {},
     "output_type": "display_data"
    },
    {
     "data": {
      "application/vnd.jupyter.widget-view+json": {
       "model_id": "3901f131e62c415c845e42b4c6b9aa16",
       "version_major": 2,
       "version_minor": 0
      },
      "text/plain": [
       "20240509,1m:   0%|          | 0/2736 [00:00<?, ?it/s]"
      ]
     },
     "metadata": {},
     "output_type": "display_data"
    },
    {
     "data": {
      "application/vnd.jupyter.widget-view+json": {
       "model_id": "cf2adb67ad1d4b25b1929c6632f9f557",
       "version_major": 2,
       "version_minor": 0
      },
      "text/plain": [
       "20240509,5m:   0%|          | 0/2736 [00:00<?, ?it/s]"
      ]
     },
     "metadata": {},
     "output_type": "display_data"
    },
    {
     "data": {
      "application/vnd.jupyter.widget-view+json": {
       "model_id": "e4f7c48f5df24dcf994bd396c7ff8be2",
       "version_major": 2,
       "version_minor": 0
      },
      "text/plain": [
       "20240509,15s:   0%|          | 0/2736 [00:00<?, ?it/s]"
      ]
     },
     "metadata": {},
     "output_type": "display_data"
    },
    {
     "data": {
      "application/vnd.jupyter.widget-view+json": {
       "model_id": "3c28bca77ebb4ca09dd34f75e14c2b40",
       "version_major": 2,
       "version_minor": 0
      },
      "text/plain": [
       "20240510,1m:   0%|          | 0/2736 [00:00<?, ?it/s]"
      ]
     },
     "metadata": {},
     "output_type": "display_data"
    },
    {
     "data": {
      "application/vnd.jupyter.widget-view+json": {
       "model_id": "4c1bd967247940b89beda399b27cd44c",
       "version_major": 2,
       "version_minor": 0
      },
      "text/plain": [
       "20240510,5m:   0%|          | 0/2736 [00:00<?, ?it/s]"
      ]
     },
     "metadata": {},
     "output_type": "display_data"
    },
    {
     "data": {
      "application/vnd.jupyter.widget-view+json": {
       "model_id": "03af5bbae9bb4ca18bc0c4d6f65930dc",
       "version_major": 2,
       "version_minor": 0
      },
      "text/plain": [
       "20240510,15s:   0%|          | 0/2736 [00:00<?, ?it/s]"
      ]
     },
     "metadata": {},
     "output_type": "display_data"
    },
    {
     "data": {
      "application/vnd.jupyter.widget-view+json": {
       "model_id": "927fde1907c6438a9011e31768c3b7f2",
       "version_major": 2,
       "version_minor": 0
      },
      "text/plain": [
       "20240513,1m:   0%|          | 0/2736 [00:00<?, ?it/s]"
      ]
     },
     "metadata": {},
     "output_type": "display_data"
    },
    {
     "data": {
      "application/vnd.jupyter.widget-view+json": {
       "model_id": "90881c8546ab40788799215130d1bda1",
       "version_major": 2,
       "version_minor": 0
      },
      "text/plain": [
       "20240513,5m:   0%|          | 0/2736 [00:00<?, ?it/s]"
      ]
     },
     "metadata": {},
     "output_type": "display_data"
    },
    {
     "data": {
      "application/vnd.jupyter.widget-view+json": {
       "model_id": "a921f2fafb1e4039b9e7f8e535f00b97",
       "version_major": 2,
       "version_minor": 0
      },
      "text/plain": [
       "20240513,15s:   0%|          | 0/2736 [00:00<?, ?it/s]"
      ]
     },
     "metadata": {},
     "output_type": "display_data"
    },
    {
     "data": {
      "application/vnd.jupyter.widget-view+json": {
       "model_id": "79570ca8c4f3405b8dec4311bde7ba1a",
       "version_major": 2,
       "version_minor": 0
      },
      "text/plain": [
       "20240514,1m:   0%|          | 0/2736 [00:00<?, ?it/s]"
      ]
     },
     "metadata": {},
     "output_type": "display_data"
    },
    {
     "data": {
      "application/vnd.jupyter.widget-view+json": {
       "model_id": "422128f054e54a68996c40460f018bc7",
       "version_major": 2,
       "version_minor": 0
      },
      "text/plain": [
       "20240514,5m:   0%|          | 0/2736 [00:00<?, ?it/s]"
      ]
     },
     "metadata": {},
     "output_type": "display_data"
    },
    {
     "data": {
      "application/vnd.jupyter.widget-view+json": {
       "model_id": "8d72ca2a7d82410ba0f859d09045a596",
       "version_major": 2,
       "version_minor": 0
      },
      "text/plain": [
       "20240514,15s:   0%|          | 0/2736 [00:00<?, ?it/s]"
      ]
     },
     "metadata": {},
     "output_type": "display_data"
    },
    {
     "data": {
      "application/vnd.jupyter.widget-view+json": {
       "model_id": "ec5b2ea1dc9646c1a563a39599479079",
       "version_major": 2,
       "version_minor": 0
      },
      "text/plain": [
       "20240515,1m:   0%|          | 0/2736 [00:00<?, ?it/s]"
      ]
     },
     "metadata": {},
     "output_type": "display_data"
    },
    {
     "data": {
      "application/vnd.jupyter.widget-view+json": {
       "model_id": "ac5fa0bf468341a099c264819fea4b56",
       "version_major": 2,
       "version_minor": 0
      },
      "text/plain": [
       "20240515,5m:   0%|          | 0/2736 [00:00<?, ?it/s]"
      ]
     },
     "metadata": {},
     "output_type": "display_data"
    },
    {
     "data": {
      "application/vnd.jupyter.widget-view+json": {
       "model_id": "8569a32cc11345899f7eb9a3e4b8703a",
       "version_major": 2,
       "version_minor": 0
      },
      "text/plain": [
       "20240515,15s:   0%|          | 0/2736 [00:00<?, ?it/s]"
      ]
     },
     "metadata": {},
     "output_type": "display_data"
    },
    {
     "data": {
      "application/vnd.jupyter.widget-view+json": {
       "model_id": "fa6abd10f1674b14994dfa041cef7c4e",
       "version_major": 2,
       "version_minor": 0
      },
      "text/plain": [
       "20240516,1m:   0%|          | 0/2736 [00:00<?, ?it/s]"
      ]
     },
     "metadata": {},
     "output_type": "display_data"
    },
    {
     "data": {
      "application/vnd.jupyter.widget-view+json": {
       "model_id": "9614e91d2c804f7b80b85780090a9ed5",
       "version_major": 2,
       "version_minor": 0
      },
      "text/plain": [
       "20240516,5m:   0%|          | 0/2736 [00:00<?, ?it/s]"
      ]
     },
     "metadata": {},
     "output_type": "display_data"
    },
    {
     "data": {
      "application/vnd.jupyter.widget-view+json": {
       "model_id": "f47b34c1f62046038c643b672c8b8666",
       "version_major": 2,
       "version_minor": 0
      },
      "text/plain": [
       "20240516,15s:   0%|          | 0/2736 [00:00<?, ?it/s]"
      ]
     },
     "metadata": {},
     "output_type": "display_data"
    },
    {
     "data": {
      "application/vnd.jupyter.widget-view+json": {
       "model_id": "e15eaf96b7b24d3ab30b924f66bc93ef",
       "version_major": 2,
       "version_minor": 0
      },
      "text/plain": [
       "20240517,1m:   0%|          | 0/2736 [00:00<?, ?it/s]"
      ]
     },
     "metadata": {},
     "output_type": "display_data"
    },
    {
     "data": {
      "application/vnd.jupyter.widget-view+json": {
       "model_id": "ac78145dd9734cb9a2ae8c00069e5f63",
       "version_major": 2,
       "version_minor": 0
      },
      "text/plain": [
       "20240517,5m:   0%|          | 0/2736 [00:00<?, ?it/s]"
      ]
     },
     "metadata": {},
     "output_type": "display_data"
    },
    {
     "data": {
      "application/vnd.jupyter.widget-view+json": {
       "model_id": "5950427c21d540c287af7f6ff6c623da",
       "version_major": 2,
       "version_minor": 0
      },
      "text/plain": [
       "20240517,15s:   0%|          | 0/2736 [00:00<?, ?it/s]"
      ]
     },
     "metadata": {},
     "output_type": "display_data"
    },
    {
     "data": {
      "application/vnd.jupyter.widget-view+json": {
       "model_id": "c977cb7c3217435687cb3cfcfc141a67",
       "version_major": 2,
       "version_minor": 0
      },
      "text/plain": [
       "20240520,1m:   0%|          | 0/2736 [00:00<?, ?it/s]"
      ]
     },
     "metadata": {},
     "output_type": "display_data"
    },
    {
     "data": {
      "application/vnd.jupyter.widget-view+json": {
       "model_id": "7d9717c770164186bd7becabcc8c9df8",
       "version_major": 2,
       "version_minor": 0
      },
      "text/plain": [
       "20240520,5m:   0%|          | 0/2736 [00:00<?, ?it/s]"
      ]
     },
     "metadata": {},
     "output_type": "display_data"
    },
    {
     "data": {
      "application/vnd.jupyter.widget-view+json": {
       "model_id": "4342fa93957542eb82c4371de614cc7a",
       "version_major": 2,
       "version_minor": 0
      },
      "text/plain": [
       "20240520,15s:   0%|          | 0/2736 [00:00<?, ?it/s]"
      ]
     },
     "metadata": {},
     "output_type": "display_data"
    },
    {
     "data": {
      "application/vnd.jupyter.widget-view+json": {
       "model_id": "ee60363ebf20492b8edfb5cfd3999c73",
       "version_major": 2,
       "version_minor": 0
      },
      "text/plain": [
       "20240521,1m:   0%|          | 0/2736 [00:00<?, ?it/s]"
      ]
     },
     "metadata": {},
     "output_type": "display_data"
    },
    {
     "data": {
      "application/vnd.jupyter.widget-view+json": {
       "model_id": "5f89f9f234b14f1da723151c4c26989d",
       "version_major": 2,
       "version_minor": 0
      },
      "text/plain": [
       "20240521,5m:   0%|          | 0/2736 [00:00<?, ?it/s]"
      ]
     },
     "metadata": {},
     "output_type": "display_data"
    },
    {
     "data": {
      "application/vnd.jupyter.widget-view+json": {
       "model_id": "e2f14b244b524a3fbfb141aa8ec0898e",
       "version_major": 2,
       "version_minor": 0
      },
      "text/plain": [
       "20240521,15s:   0%|          | 0/2736 [00:00<?, ?it/s]"
      ]
     },
     "metadata": {},
     "output_type": "display_data"
    },
    {
     "data": {
      "application/vnd.jupyter.widget-view+json": {
       "model_id": "e33db69d2646426e830d27cf8fb026dd",
       "version_major": 2,
       "version_minor": 0
      },
      "text/plain": [
       "20240522,1m:   0%|          | 0/2736 [00:00<?, ?it/s]"
      ]
     },
     "metadata": {},
     "output_type": "display_data"
    },
    {
     "data": {
      "application/vnd.jupyter.widget-view+json": {
       "model_id": "8240e4ea28e841dea955e11e4fa1dbb3",
       "version_major": 2,
       "version_minor": 0
      },
      "text/plain": [
       "20240522,5m:   0%|          | 0/2736 [00:00<?, ?it/s]"
      ]
     },
     "metadata": {},
     "output_type": "display_data"
    },
    {
     "data": {
      "application/vnd.jupyter.widget-view+json": {
       "model_id": "e55cd4c626904bb0bf3ee3976d0c80fc",
       "version_major": 2,
       "version_minor": 0
      },
      "text/plain": [
       "20240522,15s:   0%|          | 0/2736 [00:00<?, ?it/s]"
      ]
     },
     "metadata": {},
     "output_type": "display_data"
    },
    {
     "data": {
      "application/vnd.jupyter.widget-view+json": {
       "model_id": "03f9a040c2344e39bebec4578c9f1d40",
       "version_major": 2,
       "version_minor": 0
      },
      "text/plain": [
       "20240523,1m:   0%|          | 0/2736 [00:00<?, ?it/s]"
      ]
     },
     "metadata": {},
     "output_type": "display_data"
    },
    {
     "data": {
      "application/vnd.jupyter.widget-view+json": {
       "model_id": "1d47ba10cab24e1fa47fba7e34897f0f",
       "version_major": 2,
       "version_minor": 0
      },
      "text/plain": [
       "20240523,5m:   0%|          | 0/2736 [00:00<?, ?it/s]"
      ]
     },
     "metadata": {},
     "output_type": "display_data"
    },
    {
     "data": {
      "application/vnd.jupyter.widget-view+json": {
       "model_id": "237943a2fc704e70b90234b25c2e0c1e",
       "version_major": 2,
       "version_minor": 0
      },
      "text/plain": [
       "20240523,15s:   0%|          | 0/2736 [00:00<?, ?it/s]"
      ]
     },
     "metadata": {},
     "output_type": "display_data"
    },
    {
     "data": {
      "application/vnd.jupyter.widget-view+json": {
       "model_id": "fddd94186870426a82ed5b3b229aa3eb",
       "version_major": 2,
       "version_minor": 0
      },
      "text/plain": [
       "20240524,1m:   0%|          | 0/2736 [00:00<?, ?it/s]"
      ]
     },
     "metadata": {},
     "output_type": "display_data"
    },
    {
     "data": {
      "application/vnd.jupyter.widget-view+json": {
       "model_id": "58eeb3d4930e4e34a513e2011ce062ae",
       "version_major": 2,
       "version_minor": 0
      },
      "text/plain": [
       "20240524,5m:   0%|          | 0/2736 [00:00<?, ?it/s]"
      ]
     },
     "metadata": {},
     "output_type": "display_data"
    },
    {
     "data": {
      "application/vnd.jupyter.widget-view+json": {
       "model_id": "40e290ef7e3f4cc599b047919b6f1297",
       "version_major": 2,
       "version_minor": 0
      },
      "text/plain": [
       "20240524,15s:   0%|          | 0/2736 [00:00<?, ?it/s]"
      ]
     },
     "metadata": {},
     "output_type": "display_data"
    },
    {
     "data": {
      "application/vnd.jupyter.widget-view+json": {
       "model_id": "6ef75ef82b8d4ed58974bb90d3ce2ec8",
       "version_major": 2,
       "version_minor": 0
      },
      "text/plain": [
       "20240527,1m:   0%|          | 0/2736 [00:00<?, ?it/s]"
      ]
     },
     "metadata": {},
     "output_type": "display_data"
    },
    {
     "data": {
      "application/vnd.jupyter.widget-view+json": {
       "model_id": "6b194db50c0c4a0bb914919ef74f03c9",
       "version_major": 2,
       "version_minor": 0
      },
      "text/plain": [
       "20240527,5m:   0%|          | 0/2736 [00:00<?, ?it/s]"
      ]
     },
     "metadata": {},
     "output_type": "display_data"
    },
    {
     "data": {
      "application/vnd.jupyter.widget-view+json": {
       "model_id": "65e73a31ba584be2b9e2d8e093bd53c4",
       "version_major": 2,
       "version_minor": 0
      },
      "text/plain": [
       "20240527,15s:   0%|          | 0/2736 [00:00<?, ?it/s]"
      ]
     },
     "metadata": {},
     "output_type": "display_data"
    },
    {
     "data": {
      "application/vnd.jupyter.widget-view+json": {
       "model_id": "7d85edfb2e5b4298a9bb2b4174c514f2",
       "version_major": 2,
       "version_minor": 0
      },
      "text/plain": [
       "20240528,1m:   0%|          | 0/2736 [00:00<?, ?it/s]"
      ]
     },
     "metadata": {},
     "output_type": "display_data"
    },
    {
     "data": {
      "application/vnd.jupyter.widget-view+json": {
       "model_id": "887bd50084734924a0d7c49ad1545630",
       "version_major": 2,
       "version_minor": 0
      },
      "text/plain": [
       "20240528,5m:   0%|          | 0/2736 [00:00<?, ?it/s]"
      ]
     },
     "metadata": {},
     "output_type": "display_data"
    },
    {
     "data": {
      "application/vnd.jupyter.widget-view+json": {
       "model_id": "ea6c679eea4c496798a895cf78b114f1",
       "version_major": 2,
       "version_minor": 0
      },
      "text/plain": [
       "20240528,15s:   0%|          | 0/2736 [00:00<?, ?it/s]"
      ]
     },
     "metadata": {},
     "output_type": "display_data"
    },
    {
     "data": {
      "application/vnd.jupyter.widget-view+json": {
       "model_id": "7b1d24bbfa5e4893918e391053affde4",
       "version_major": 2,
       "version_minor": 0
      },
      "text/plain": [
       "20240529,1m:   0%|          | 0/2736 [00:00<?, ?it/s]"
      ]
     },
     "metadata": {},
     "output_type": "display_data"
    },
    {
     "data": {
      "application/vnd.jupyter.widget-view+json": {
       "model_id": "8fcc21f79e5440e3bf7b9961bb75a754",
       "version_major": 2,
       "version_minor": 0
      },
      "text/plain": [
       "20240529,5m:   0%|          | 0/2736 [00:00<?, ?it/s]"
      ]
     },
     "metadata": {},
     "output_type": "display_data"
    },
    {
     "data": {
      "application/vnd.jupyter.widget-view+json": {
       "model_id": "fb91cb576c3f4cfe8b6a5736ee76d959",
       "version_major": 2,
       "version_minor": 0
      },
      "text/plain": [
       "20240529,15s:   0%|          | 0/2736 [00:00<?, ?it/s]"
      ]
     },
     "metadata": {},
     "output_type": "display_data"
    },
    {
     "data": {
      "application/vnd.jupyter.widget-view+json": {
       "model_id": "41bc182e88654eeb8fc16eb05b7e980b",
       "version_major": 2,
       "version_minor": 0
      },
      "text/plain": [
       "20240530,1m:   0%|          | 0/2736 [00:00<?, ?it/s]"
      ]
     },
     "metadata": {},
     "output_type": "display_data"
    },
    {
     "data": {
      "application/vnd.jupyter.widget-view+json": {
       "model_id": "95e86e8bd45f473a88767614f9aca19c",
       "version_major": 2,
       "version_minor": 0
      },
      "text/plain": [
       "20240530,5m:   0%|          | 0/2736 [00:00<?, ?it/s]"
      ]
     },
     "metadata": {},
     "output_type": "display_data"
    },
    {
     "data": {
      "application/vnd.jupyter.widget-view+json": {
       "model_id": "1d3b7b95eb2345e391623fc97e5d1c64",
       "version_major": 2,
       "version_minor": 0
      },
      "text/plain": [
       "20240530,15s:   0%|          | 0/2736 [00:00<?, ?it/s]"
      ]
     },
     "metadata": {},
     "output_type": "display_data"
    },
    {
     "data": {
      "application/vnd.jupyter.widget-view+json": {
       "model_id": "bcdfd1828451483f9b7c8fd2543900fe",
       "version_major": 2,
       "version_minor": 0
      },
      "text/plain": [
       "20240531,1m:   0%|          | 0/2736 [00:00<?, ?it/s]"
      ]
     },
     "metadata": {},
     "output_type": "display_data"
    },
    {
     "data": {
      "application/vnd.jupyter.widget-view+json": {
       "model_id": "be1bbb6308384238a58eaa9a826e0367",
       "version_major": 2,
       "version_minor": 0
      },
      "text/plain": [
       "20240531,5m:   0%|          | 0/2736 [00:00<?, ?it/s]"
      ]
     },
     "metadata": {},
     "output_type": "display_data"
    },
    {
     "data": {
      "application/vnd.jupyter.widget-view+json": {
       "model_id": "554d562292784916bde95c665ad26fc1",
       "version_major": 2,
       "version_minor": 0
      },
      "text/plain": [
       "20240531,15s:   0%|          | 0/2736 [00:00<?, ?it/s]"
      ]
     },
     "metadata": {},
     "output_type": "display_data"
    },
    {
     "data": {
      "application/vnd.jupyter.widget-view+json": {
       "model_id": "475bffa539ce4f39a6a6a26d43a93545",
       "version_major": 2,
       "version_minor": 0
      },
      "text/plain": [
       "20240603,1m:   0%|          | 0/2736 [00:00<?, ?it/s]"
      ]
     },
     "metadata": {},
     "output_type": "display_data"
    },
    {
     "data": {
      "application/vnd.jupyter.widget-view+json": {
       "model_id": "793aca68d1724d15ae71fbd249ffeb0e",
       "version_major": 2,
       "version_minor": 0
      },
      "text/plain": [
       "20240603,5m:   0%|          | 0/2736 [00:00<?, ?it/s]"
      ]
     },
     "metadata": {},
     "output_type": "display_data"
    },
    {
     "data": {
      "application/vnd.jupyter.widget-view+json": {
       "model_id": "1418c7a05f2d4b0c8acde8a54b46cada",
       "version_major": 2,
       "version_minor": 0
      },
      "text/plain": [
       "20240603,15s:   0%|          | 0/2736 [00:00<?, ?it/s]"
      ]
     },
     "metadata": {},
     "output_type": "display_data"
    },
    {
     "data": {
      "application/vnd.jupyter.widget-view+json": {
       "model_id": "f3046337b35c4f678df07c81b8161503",
       "version_major": 2,
       "version_minor": 0
      },
      "text/plain": [
       "20240604,1m:   0%|          | 0/2736 [00:00<?, ?it/s]"
      ]
     },
     "metadata": {},
     "output_type": "display_data"
    },
    {
     "data": {
      "application/vnd.jupyter.widget-view+json": {
       "model_id": "32c873080dfe4f01b61bad0e632e835f",
       "version_major": 2,
       "version_minor": 0
      },
      "text/plain": [
       "20240604,5m:   0%|          | 0/2736 [00:00<?, ?it/s]"
      ]
     },
     "metadata": {},
     "output_type": "display_data"
    },
    {
     "data": {
      "application/vnd.jupyter.widget-view+json": {
       "model_id": "a53f86951c3444deafb734682734a404",
       "version_major": 2,
       "version_minor": 0
      },
      "text/plain": [
       "20240604,15s:   0%|          | 0/2736 [00:00<?, ?it/s]"
      ]
     },
     "metadata": {},
     "output_type": "display_data"
    },
    {
     "data": {
      "application/vnd.jupyter.widget-view+json": {
       "model_id": "2b65014e1900465195dda4e9d2c073b9",
       "version_major": 2,
       "version_minor": 0
      },
      "text/plain": [
       "20240605,1m:   0%|          | 0/2736 [00:00<?, ?it/s]"
      ]
     },
     "metadata": {},
     "output_type": "display_data"
    },
    {
     "data": {
      "application/vnd.jupyter.widget-view+json": {
       "model_id": "894aef92974f433ea93b394af01d2a32",
       "version_major": 2,
       "version_minor": 0
      },
      "text/plain": [
       "20240605,5m:   0%|          | 0/2736 [00:00<?, ?it/s]"
      ]
     },
     "metadata": {},
     "output_type": "display_data"
    },
    {
     "data": {
      "application/vnd.jupyter.widget-view+json": {
       "model_id": "ee39b78aaf294205b04c1f684b99375b",
       "version_major": 2,
       "version_minor": 0
      },
      "text/plain": [
       "20240605,15s:   0%|          | 0/2736 [00:00<?, ?it/s]"
      ]
     },
     "metadata": {},
     "output_type": "display_data"
    }
   ],
   "source": [
    "#先生成jit模型\n",
    "period_list=[93000,100000]\n",
    "future_ret_list=['1m','5m','15s']\n",
    "save_score_name = 'yy_industry_94calc_2'\n",
    "\n",
    "score_output_path = r'/home/datamake94/data_nb7/sec_score_output_final'\n",
    "jit_model_output_path = r'/home/datamake94/data_nb7/jit_model_output_final'\n",
    "year_month_list=get_year_month(params.date_list_all)\n",
    "month_list= year_month_list[year_month_list.index('202405'):year_month_list.index('202406')][::2]\n",
    "\n",
    "for month in month_list:\n",
    "    store_date=get_first_date(month,params.date_list_all)\n",
    "    begin_date=get_first_date(year_month_list[year_month_list.index(month)-24],params.date_list_all)\n",
    "    begin_date=begin_date if begin_date>='20200430' else '20200430'\n",
    "    end_date=get_first_date(year_month_list[year_month_list.index(month)+2],params.date_list_all)\n",
    "    print('训练集数据起始日为{}，模型样本外预测期为{}——{}'.format(begin_date,store_date,end_date))\n",
    "\n",
    "    date_list = get_date_list(begin_date,store_date)\n",
    "    test_date_list = get_date_list(store_date, end_date)\n",
    "\n",
    "    args_dict, info_dict, model_dict = calc_args_model_dict(store_date, period_list, future_ret_list)\n",
    "    tmp_min_all = [info_dict[(future_ret, period)][0].unsqueeze(dim=1) for future_ret in future_ret_list for period in period_list]\n",
    "    tmp_max_all = [info_dict[(future_ret, period)][1].unsqueeze(dim=1) for future_ret in future_ret_list for period in period_list]\n",
    "    min_all, max_all = torch.cat(tmp_min_all, dim=1), torch.cat(tmp_max_all, dim=1)\n",
    "    #检查min_all和max_all各行的值是否都相等\n",
    "    assert (min_all.T == min_all.T[0]).float().mean() == 1.\n",
    "\n",
    "    #1.输出jit模型和基础数据\n",
    "    output_jit_model(period_list, future_ret_list, store_date, save_score_name, info_dict, model_dict)\n",
    "\n",
    "    #2.输出因子打分\n",
    "    for future_ret in future_ret_list:\n",
    "        for period in period_list:\n",
    "            model_dict[(future_ret, period)].to('cuda:0')\n",
    "    for date in tqdm(test_date_list[:], desc=month):\n",
    "        for future_ret in future_ret_list:\n",
    "            save_score_path = os.path.join(score_output_path, rf\"{future_ret}:{save_score_name}\")\n",
    "            if not os.path.exists(save_score_path):\n",
    "                os.makedirs(save_score_path)\n",
    "            out_all=[]\n",
    "            valid_dict = {period: (info_dict[(future_ret, period)][0], info_dict[(future_ret, period)][1], info_dict[(future_ret, period)][2]) for period in period_list}\n",
    "            dm = UMPDataset_out(date,valid_dict)\n",
    "            factor_stock_list=dm.stock_list\n",
    "            test_dataloader=DataLoaderX(dm,batch_size=1,collate_fn=lambda x:x[0],num_workers=20,shuffle=False,drop_last=False)\n",
    "            for batch in tqdm(test_dataloader, desc=rf\"{date},{future_ret}\"):\n",
    "                data,sec=batch\n",
    "                if sec<100000:\n",
    "                    period=93000\n",
    "                else:\n",
    "                    period=100000\n",
    "                factor_data,industry_dummy = data\n",
    "                factor_data=factor_data.to('cuda:0')\n",
    "                industry_dummy=industry_dummy.to('cuda:0')\n",
    "                out_list=model_dict[(future_ret, period)](factor_data,industry_dummy).cpu().detach().numpy()[:,0]\n",
    "                out_series=pd.Series(out_list,index=factor_stock_list,name=sec)\n",
    "                out_all.append(out_series)\n",
    "\n",
    "            all_factor=pd.concat(out_all,axis=1).T\n",
    "            all_factor.columns=all_factor.columns.astype(str)\n",
    "            all_factor.index.name='second'\n",
    "            all_factor.reset_index(drop=False).to_feather(save_score_path+'/%s.fea'%date)"
   ]
  },
  {
   "cell_type": "code",
   "execution_count": 5,
   "metadata": {},
   "outputs": [],
   "source": [
    "date = '20240506'\n",
    "#         if date<'20240510':continue\n",
    "future_ret = '5m'\n",
    "valid_dict = {period: (info_dict[(future_ret, period)][0], info_dict[(future_ret, period)][1], info_dict[(future_ret, period)][2]) for period in period_list}\n",
    "out_all=[]\n",
    "factor_stock_list=get_default_stock_list(date) \n",
    "test_dataloader=UMPDataset_out(date,valid_dict)\n",
    "test = test_dataloader[0]"
   ]
  },
  {
   "cell_type": "code",
   "execution_count": 6,
   "metadata": {},
   "outputs": [
    {
     "data": {
      "text/plain": [
       "tensor([[-0.0085, -0.0881, -0.0552,  ..., -0.5000,  0.3966, -0.1000],\n",
       "        [-0.4988,  0.0726,  0.0608,  ..., -0.5000,  0.3621, -0.1000],\n",
       "        [ 0.0099,  0.1244,  0.1722,  ..., -0.5000,  0.1897, -0.1000],\n",
       "        ...,\n",
       "        [-0.2046, -0.0056,  0.0082,  ..., -0.5000,  0.2241,  0.5000],\n",
       "        [ 0.1572, -0.0461, -0.0273,  ..., -0.5000,  0.1552,  0.5000],\n",
       "        [ 0.1071, -0.0707, -0.0373,  ..., -0.5000, -0.3621,  0.5000]])"
      ]
     },
     "execution_count": 6,
     "metadata": {},
     "output_type": "execute_result"
    }
   ],
   "source": [
    "test[0][0] - 0.5"
   ]
  },
  {
   "cell_type": "code",
   "execution_count": 20,
   "metadata": {},
   "outputs": [
    {
     "data": {
      "text/plain": [
       "(tensor([-4.0576e-01, -6.1621e-01, -6.4307e-01, -9.3213e-01, -4.4727e+00,\n",
       "         -4.4727e+00, -2.3450e-01, -3.3813e-01, -5.7520e-01, -8.5498e-01,\n",
       "         -7.7461e+00, -7.7461e+00, -1.6809e-01, -2.3816e-01, -5.2588e-01,\n",
       "         -7.6318e-01, -1.0945e+01, -1.0953e+01, -1.3354e-01, -1.8668e-01,\n",
       "         -5.1416e-01, -6.9336e-01, -1.5000e+01, -1.5133e+01, -9.0137e-01,\n",
       "         -6.7062e-03, -1.5135e-03, -4.4727e+00, -8.9453e-01, -6.3515e-03,\n",
       "         -1.9045e-03, -6.0078e+00, -8.8770e-01, -5.9891e-03, -2.2106e-03,\n",
       "         -6.4961e+00, -8.7646e-01, -5.5618e-03, -2.5101e-03, -7.0938e+00,\n",
       "         -1.1279e+00, -1.1719e+00, -1.2703e+01, -1.0293e+00, -1.1631e+00,\n",
       "         -1.3516e+01, -9.2822e-01, -1.1182e+00, -1.4031e+01, -8.6279e-01,\n",
       "         -1.0859e+00, -1.4336e+01, -1.6055e+00, -1.6553e+00, -3.6912e+00,\n",
       "         -1.2734e+00, -1.2988e+00, -1.3691e+00, -1.4404e+00, -3.4375e+00,\n",
       "         -1.2373e+00, -1.2861e+00, -1.1338e+00, -1.2119e+00, -3.1191e+00,\n",
       "         -1.2070e+00, -1.2656e+00, -9.2529e-01, -1.0312e+00, -2.6816e+00,\n",
       "         -1.1631e+00, -1.2383e+00, -8.0872e-03, -2.0000e+00, -9.3213e-01,\n",
       "         -7.7438e-03, -2.0000e+00, -9.2236e-01, -7.4005e-03, -1.9961e+00,\n",
       "         -9.1162e-01, -6.9081e-03, -1.9268e+00, -8.9795e-01,  0.0000e+00,\n",
       "         -4.0016e-03, -2.7637e-01,  0.0000e+00, -1.0000e+00,  0.0000e+00,\n",
       "          0.0000e+00, -3.5706e-03, -4.7632e-01,  0.0000e+00, -1.0000e+00,\n",
       "          0.0000e+00,  0.0000e+00, -2.5501e-03, -1.9092e+00,  0.0000e+00,\n",
       "         -8.5156e-01,  0.0000e+00,  0.0000e+00, -2.3079e-03, -3.4785e+00,\n",
       "          0.0000e+00, -7.2900e-01,  0.0000e+00, -2.4492e+00, -3.3340e+00,\n",
       "         -7.2754e-02, -1.4954e-01,  0.0000e+00,  0.0000e+00, -2.4492e+00,\n",
       "         -3.3340e+00, -5.1056e-02,  0.0000e+00, -2.4492e+00, -3.3340e+00,\n",
       "         -3.4648e+00, -3.0000e+00, -5.5603e-02, -1.4014e-01,  0.0000e+00,\n",
       "          0.0000e+00, -8.1250e-01, -3.0000e+00, -4.5105e-02,  0.0000e+00,\n",
       "         -3.4648e+00, -3.0000e+00, -7.7461e+00, -3.0000e+00, -3.9520e-02,\n",
       "         -1.3352e-01,  0.0000e+00,  0.0000e+00,  0.0000e+00, -3.0000e+00,\n",
       "         -4.1748e-02,  0.0000e+00, -7.7461e+00, -3.0000e+00, -7.2734e+00,\n",
       "         -3.0000e+00, -4.9408e-02, -1.8005e-01,  0.0000e+00,  0.0000e+00,\n",
       "          0.0000e+00, -3.0000e+00, -6.0822e-02,  0.0000e+00, -1.0820e+01,\n",
       "         -3.0000e+00, -2.2620e-01, -1.3623e-01, -2.4492e+00, -9.3125e+00,\n",
       "         -9.9951e-01, -2.2180e-01, -1.1656e-01, -3.4648e+00, -1.5000e+01,\n",
       "         -7.9883e-01, -1.4185e-01, -7.2327e-02, -7.7461e+00, -6.3000e+01,\n",
       "         -5.0000e-01, -1.1005e-01, -5.8075e-02, -5.8516e+00, -8.3438e+01,\n",
       "         -5.0000e-01, -5.4760e+03, -5.0000e+03, -2.4492e+00, -9.3359e+00,\n",
       "         -1.9385e-01, -2.1094e-01, -4.8984e+00, -9.0000e+00, -5.1480e+03,\n",
       "         -4.1680e+03, -3.0762e+00, -1.4266e+01, -1.4062e-01, -1.4499e-01,\n",
       "         -6.9297e+00, -1.5000e+01, -2.7420e+03, -2.6660e+03, -5.9102e+00,\n",
       "         -5.8594e+01, -6.9444e-02, -5.8075e-02, -1.1688e+01, -5.6625e+01,\n",
       "         -2.3100e+03, -2.3340e+03, -8.3984e+00, -1.1544e+02, -5.5328e-02,\n",
       "         -4.3762e-02, -1.3625e+01, -1.1344e+02,  1.8005e-01, -1.3906e+00,\n",
       "         -3.3177e+00, -1.0000e+00, -2.4492e+00, -2.4492e+00, -9.0000e+00,\n",
       "          0.0000e+00,  2.5537e-01, -6.3086e-01, -3.0000e+00, -1.0000e+00,\n",
       "         -3.4648e+00, -3.4648e+00, -1.5000e+01,  0.0000e+00,  3.6499e-01,\n",
       "          0.0000e+00, -1.7803e+00, -7.1436e-01, -4.4922e+00, -7.7461e+00,\n",
       "         -6.3000e+01,  0.0000e+00,  3.9380e-01,  6.2988e-01, -3.1982e-02,\n",
       "         -5.6250e-01, -4.4219e+00, -6.4414e+00, -9.0250e+01,  0.0000e+00,\n",
       "         -3.4375e-01,  0.0000e+00,  0.0000e+00,  3.5303e-01, -3.0273e-01,\n",
       "          0.0000e+00,  0.0000e+00,  3.1179e-01, -2.1692e-01,  0.0000e+00,\n",
       "          0.0000e+00,  9.2428e-02, -1.8677e-01,  0.0000e+00,  0.0000e+00,\n",
       "          7.0529e-03,  0.0000e+00,  0.0000e+00, -6.5269e-03, -1.6160e+03,\n",
       "          0.0000e+00,  1.9912e+00,  0.0000e+00,  0.0000e+00, -9.6359e-03,\n",
       "         -1.6672e+04,  0.0000e+00,  1.9873e+00,  0.0000e+00,  0.0000e+00,\n",
       "         -2.6520e-02, -2.1140e+03,  0.0000e+00,  1.9697e+00,  0.0000e+00,\n",
       "          0.0000e+00, -3.9459e-02, -1.8540e+03,  0.0000e+00,  1.9590e+00,\n",
       "         -4.4897e-01, -6.2744e-01, -3.3740e-01, -9.0918e-01, -5.3320e-01,\n",
       "         -7.5879e-01, -3.7305e-01, -7.7100e-01, -5.0977e-01, -4.6338e-01,\n",
       "         -6.0938e-01, -4.8359e+00, -5.3672e+00, -4.3408e-01, -5.4443e-01,\n",
       "         -1.3320e+00, -6.6943e-01, -6.1865e-01, -9.3213e-01, -4.7168e-01,\n",
       "         -1.0791e+00, -6.6016e-01, -1.0703e+00, -5.2295e-01, -1.1592e+00,\n",
       "         -6.6113e-01, -6.6748e-01, -1.5330e+00, -6.8164e+00, -7.5505e+00,\n",
       "         -5.4541e-01, -1.1211e+00, -2.1191e+00, -1.1318e+00, -1.5107e+00,\n",
       "         -1.9072e+00, -2.6895e+00, -2.0508e+00, -1.3176e+00, -2.2402e+00,\n",
       "         -3.0273e+00, -2.4473e+00, -1.2430e+00, -1.8877e+00, -3.5250e+01,\n",
       "         -1.2125e+01, -1.2203e+01, -9.7363e-01, -1.0891e+01, -6.8672e+00,\n",
       "         -4.3516e+00, -3.7956e-03, -3.6316e-03, -3.7689e-03, -2.2363e+00,\n",
       "         -3.4599e-03, -3.3226e-03, -3.4370e-03, -3.8730e+00, -3.1147e-03,\n",
       "         -2.9869e-03, -3.0956e-03, -5.4766e+00, -2.6588e-03, -2.5387e-03,\n",
       "         -2.6417e-03, -5.3320e+00, -1.5801e+00, -1.1338e+00, -8.3545e-01,\n",
       "         -8.3154e-01, -3.0615e-01, -1.1543e+00, -8.6426e-01, -8.2520e-01,\n",
       "         -8.2031e-01, -2.9004e-01, -7.2559e-01, -5.9229e-01, -8.1543e-01,\n",
       "         -8.0859e-01, -2.7832e-01,  0.0000e+00, -3.7915e-01, -7.9834e-01,\n",
       "         -7.9053e-01, -2.6221e-01, -2.8781e+01, -3.2275e-01, -4.5375e+01,\n",
       "         -3.2129e-01, -5.3369e-01, -4.7150e-03, -6.6795e-03, -3.2349e-03,\n",
       "         -6.4767e-01, -6.2027e-03, -1.0132e-02, -4.6387e-03, -7.1415e-01,\n",
       "         -7.2212e-03, -1.3840e-02, -6.2843e-03, -7.6904e-01, -8.2855e-03,\n",
       "         -2.2263e-02, -1.0399e-02, -2.0000e+00, -2.0000e+00, -1.6299e+00,\n",
       "         -1.9111e+00, -1.4395e+00, -1.7432e+00, -1.2324e+00, -1.5381e+00,\n",
       "         -5.3711e-03, -5.8365e-03, -4.4926e-03, -4.8180e-03, -3.8776e-03,\n",
       "         -4.0512e-03, -3.2711e-03, -3.3340e-03,  0.0000e+00, -8.9941e-01,\n",
       "         -1.7695e+00,  0.0000e+00, -1.1602e+00,  0.0000e+00, -5.6836e-01,\n",
       "          0.0000e+00, -4.6021e-01, -4.4800e-01, -4.3335e-01, -3.8184e-01,\n",
       "         -4.2749e-01, -3.3008e-01,  0.0000e+00,  0.0000e+00, -1.0586e+00,\n",
       "          0.0000e+00,  0.0000e+00, -8.8770e-01,  0.0000e+00,  0.0000e+00,\n",
       "         -6.7776e-01, -2.1309e+00, -1.9507e-01, -3.4497e-01, -1.5381e+00,\n",
       "         -1.0518e+00, -2.4492e+00, -1.2122e-01, -2.2571e-01, -1.1514e+00,\n",
       "         -5.2930e-01, -3.4648e+00, -9.0332e-02, -1.6345e-01, -8.7646e-01,\n",
       "         -1.1407e-01, -2.1074e+00, -5.4413e-02, -9.1370e-02, -4.9170e-01,\n",
       "         -9.9951e-01, -7.3340e-01, -3.1000e+01, -7.8125e+00, -4.7305e+00,\n",
       "         -1.1455e+00, -5.8624e-02, -4.3304e-02, -2.8247e-01, -2.0166e-01,\n",
       "         -3.0100e+02, -1.0456e+02, -1.0640e+03, -2.9300e+02, -1.2810e+03,\n",
       "         -2.2900e+02, -7.5378e-02, -5.0507e-02, -4.4625e+01, -1.4664e+01,\n",
       "         -3.4125e+02, -9.2438e+01, -1.9100e+03, -3.9550e+02, -6.6650e-01,\n",
       "         -6.6650e-01, -5.0000e-01, -2.0000e+00, -1.5000e+00, -2.3086e+00,\n",
       "         -1.7324e+00, -3.3320e+00, -4.4414e+00, -5.8350e-01, -3.3325e-01,\n",
       "         -2.5000e-01, -2.0000e+00, -1.4170e+00, -4.0820e+00, -2.5352e+00,\n",
       "         -1.6660e+00, -3.3301e+00, -5.4150e-01, -1.6663e-01, -1.2500e-01,\n",
       "         -1.8330e+00, -1.3330e+00, -5.2930e+00, -3.1758e+00, -8.3301e-01,\n",
       "         -2.4961e+00, -3.6670e-01, -6.6650e-02, -6.6650e-02, -1.8662e+00,\n",
       "         -1.2334e+00, -9.2031e+00, -4.0977e+00, -3.3301e-01, -1.4990e+00,\n",
       "         -7.0664e+00, -4.5000e+00, -3.0781e+00, -1.0000e+00, -1.0000e+00,\n",
       "         -5.7852e+00, -1.0000e+00, -1.0000e+00, -4.9180e+00, -1.0000e+00,\n",
       "         -1.0000e+00, -2.9950e+00, -5.0391e+00, -2.9941e+00, -2.1348e+00,\n",
       "         -1.0000e+00, -1.0000e+00, -3.8359e+00, -1.0000e+00, -1.0000e+00,\n",
       "         -3.3379e+00, -1.0000e+00, -1.0000e+00, -2.1602e+00, -2.1074e+00,\n",
       "         -1.2930e+00, -7.4805e-01, -1.0000e+00, -1.0000e+00, -2.0293e+00,\n",
       "         -1.0000e+00, -1.0000e+00, -1.5439e+00, -1.0000e+00, -1.0000e+00,\n",
       "         -7.6514e-01, -7.9750e+01,  0.0000e+00,  1.7911e-02,  0.0000e+00,\n",
       "          0.0000e+00,  5.7129e-02,  0.0000e+00,  1.2835e-04,  0.0000e+00,\n",
       "          0.0000e+00,  2.0373e-04,  0.0000e+00,  5.7739e-02,  0.0000e+00,\n",
       "          0.0000e+00,  4.7760e-02, -7.9562e+01,  0.0000e+00,  5.7739e-02,\n",
       "          0.0000e+00,  0.0000e+00,  4.9805e-02, -7.9500e+01,  0.0000e+00,\n",
       "          1.6432e-03,  0.0000e+00,  0.0000e+00,  6.4659e-04,  0.0000e+00,\n",
       "          9.9609e-01,  0.0000e+00,  0.0000e+00,  1.0869e+00, -4.8218e-02,\n",
       "         -3.9459e-02, -4.8553e-02, -4.9744e-02, -3.0945e-02, -7.1411e-02,\n",
       "         -5.1056e-02, -5.0385e-02, -6.3599e-02, -4.0466e-02,  0.0000e+00,\n",
       "         -4.6551e-05, -4.6551e-05, -4.6551e-05,  0.0000e+00,  0.0000e+00,\n",
       "          0.0000e+00,  0.0000e+00,  0.0000e+00,  0.0000e+00,  0.0000e+00,\n",
       "          0.0000e+00,  0.0000e+00,  0.0000e+00,  0.0000e+00,  0.0000e+00,\n",
       "         -2.3305e-05, -2.9087e-05, -1.1623e-05, -3.4928e-05, -1.1623e-05,\n",
       "         -5.8413e-06,  0.0000e+00,  0.0000e+00, -5.8413e-06,  0.0000e+00,\n",
       "          0.0000e+00,  0.0000e+00, -1.1623e-05,  0.0000e+00,  0.0000e+00,\n",
       "          0.0000e+00, -2.3305e-05, -2.6166e-05,  0.0000e+00, -7.2718e-06,\n",
       "         -2.2531e-05, -1.1623e-05,  0.0000e+00,  0.0000e+00, -1.6034e-05,\n",
       "         -2.9206e-06,  0.0000e+00,  0.0000e+00, -2.3305e-05, -8.7023e-06,\n",
       "          0.0000e+00,  0.0000e+00, -1.1623e-05, -6.9141e-06,  1.1552e-03,\n",
       "          0.0000e+00, -1.1623e-05, -1.3113e-05,  1.8911e-03,  0.0000e+00,\n",
       "         -1.1623e-05, -5.8413e-06,  4.1629e-04,  0.0000e+00, -2.1790e-05,\n",
       "         -1.1623e-05,  5.2246e-02,  0.0000e+00, -2.3010e-02,  0.0000e+00,\n",
       "         -2.7283e-02, -7.2670e-04,  0.0000e+00,  0.0000e+00,  0.0000e+00,\n",
       "          0.0000e+00,  0.0000e+00,  0.0000e+00, -5.4588e-03,  0.0000e+00,\n",
       "         -5.8212e-03, -5.5695e-04,  0.0000e+00, -6.3753e-04,  0.0000e+00,\n",
       "         -1.4553e-03, -2.4438e-06,  0.0000e+00,  0.0000e+00,  0.0000e+00,\n",
       "          0.0000e+00,  0.0000e+00,  0.0000e+00,  0.0000e+00,  0.0000e+00,\n",
       "          0.0000e+00,  0.0000e+00,  0.0000e+00, -2.0008e-03,  7.1430e-04,\n",
       "         -3.2749e-03, -1.8537e-05,  6.5804e-04, -3.0000e+00,  3.6451e+00,\n",
       "         -3.3340e+00, -3.0000e+00,  1.4062e+01,  0.0000e+00,  1.9023e+00,\n",
       "         -5.7848e-01,  0.0000e+00,  3.2954e+00,  0.0000e+00,  5.7739e-02,\n",
       "          0.0000e+00,  0.0000e+00,  4.0137e-01, -4.2419e-03, -4.1161e-03,\n",
       "         -3.9252e-03, -4.4250e-03, -4.2267e-03, -4.4937e-03, -4.6959e-03,\n",
       "         -4.2000e-03, -4.9706e-03, -4.7493e-03, -1.7464e-05, -2.3305e-05,\n",
       "          0.0000e+00, -1.1623e-05, -1.1623e-05, -1.1981e-05,  0.0000e+00,\n",
       "         -4.3511e-06, -1.1623e-05, -6.1989e-06,  0.0000e+00,  0.0000e+00,\n",
       "         -2.1582e+00, -2.7676e+00, -1.1377e+00, -1.9248e+00, -1.1738e+00,\n",
       "         -1.8740e+00, -1.1748e+00, -1.8213e+00, -2.3305e-05, -1.1623e-05,\n",
       "          0.0000e+00, -1.7881e-07, -6.5565e-06, -6.3777e-06,  0.0000e+00,\n",
       "         -7.1526e-07, -8.7023e-06, -1.1623e-05,  0.0000e+00, -5.8413e-06,\n",
       "         -5.8413e-06, -5.8413e-06,  0.0000e+00, -5.3644e-07, -9.9609e-01,\n",
       "         -1.6455e+00, -7.2900e-01, -1.1289e+00, -2.5352e+00, -3.0078e+00,\n",
       "         -1.2773e+00, -2.0898e+00, -1.1623e-05, -1.1623e-05,  2.9206e-06,\n",
       "         -1.3620e-06, -8.7023e-06, -1.1623e-05,  0.0000e+00, -2.9206e-06,\n",
       "         -1.0192e-05, -1.1623e-05,  0.0000e+00, -2.9206e-06, -5.8413e-06,\n",
       "         -5.8413e-06,  0.0000e+00, -1.1921e-07, -2.7012e+00, -3.3008e+00,\n",
       "         -1.2754e+00, -2.2031e+00, -1.4993e+00, -1.9240e+00, -8.3154e-01,\n",
       "         -1.3643e+00, -1.1921e-05, -8.7023e-06,  0.0000e+00, -6.5565e-07,\n",
       "         -1.0757e-03, -1.0662e-03, -1.6718e-03, -1.5821e-03,  0.0000e+00,\n",
       "          0.0000e+00,  0.0000e+00,  0.0000e+00,  0.0000e+00,  0.0000e+00,\n",
       "          0.0000e+00,  0.0000e+00,  0.0000e+00,  0.0000e+00,  0.0000e+00,\n",
       "          0.0000e+00,  0.0000e+00,  0.0000e+00,  0.0000e+00,  0.0000e+00,\n",
       "          1.0000e+00,  1.0000e+00,  1.0000e+00,  1.0000e+00,  1.0000e+00,\n",
       "          0.0000e+00,  0.0000e+00,  0.0000e+00, -1.5519e+01, -4.1210e+02,\n",
       "          2.4796e-03,  1.6868e-05, -1.4662e+02, -1.9281e+01,  2.7523e-03,\n",
       "          1.6987e-05, -7.5378e-03,  8.6670e-01,  0.0000e+00,  8.2080e-01,\n",
       "         -6.5880e-03,  8.4082e-01,  0.0000e+00,  6.1084e-01, -4.7798e-03,\n",
       "          8.7500e-01,  0.0000e+00,  6.5234e-01,  0.0000e+00,  2.5293e+00,\n",
       "          1.8252e+00,  1.3223e+00, -9.1748e-01,  5.0439e-01,  0.0000e+00,\n",
       "          0.0000e+00, -7.9498e-03,  1.5414e-04, -3.5742e+00, -3.5742e+00,\n",
       "         -4.3594e+00, -1.4170e+00,  0.0000e+00,  0.0000e+00, -1.0000e+00,\n",
       "          0.0000e+00,  0.0000e+00, -1.0000e+00,  0.0000e+00,  0.0000e+00,\n",
       "         -1.0000e+00,  0.0000e+00,  0.0000e+00, -1.0000e+00,  1.9983e-01,\n",
       "          2.2607e-01, -6.0010e-01,  0.0000e+00,  2.1935e-03,  0.0000e+00,\n",
       "          5.3680e-02,  0.0000e+00,  2.1655e-01,  0.0000e+00,  7.0996e-01,\n",
       "          0.0000e+00,  9.4971e-01,  6.7969e-01, -1.0000e+00, -3.4637e-03,\n",
       "         -1.6736e-01,  9.0039e-01, -7.8711e-01, -4.5052e-03, -3.4452e-02,\n",
       "          1.0215e+00, -4.4360e-01, -7.4501e-03, -6.9160e-03,  1.0771e+00,\n",
       "         -2.6904e-01, -1.5099e-02, -1.4343e-03,  1.0547e+00, -2.4451e-01,\n",
       "         -2.8397e-02, -1.0281e-03,  1.0000e+00,  1.0000e+00,  1.0000e+00,\n",
       "          1.0000e+00,  1.0000e+00, -1.0000e+00, -9.9951e-01, -9.9756e-01,\n",
       "         -9.0234e-01, -3.4082e-01,  8.4900e-02,  1.1487e-01,  1.7447e-01,\n",
       "          1.9019e-01,  1.9507e-01,  0.0000e+00,  0.0000e+00,  0.0000e+00,\n",
       "          0.0000e+00,  0.0000e+00,  0.0000e+00,  0.0000e+00,  0.0000e+00,\n",
       "          0.0000e+00,  0.0000e+00,  0.0000e+00,  0.0000e+00,  0.0000e+00,\n",
       "          0.0000e+00,  0.0000e+00,  3.5882e+06,  4.8564e+06, -1.7627e+00,\n",
       "          6.1913e+06, -2.0120e+00,  7.8600e+06, -1.8014e+00,  6.7809e+06,\n",
       "          1.6870e+05,  2.1542e+05, -1.7650e+00,  2.7488e+05, -1.9930e+00,\n",
       "          3.1042e+05, -1.8013e+00,  9.0000e-04,  1.2400e-03, -1.7641e+00,\n",
       "          1.4381e-03, -2.0100e+00,  1.9095e-03, -1.8031e+00,  3.6500e+00,\n",
       "          3.8164e+00, -1.7812e+00,  4.0360e+00, -3.5243e+00,  4.2163e+00,\n",
       "         -4.6515e+00,  3.9200e+00,  4.0486e+00, -1.7754e+00,  4.1840e+00,\n",
       "         -3.6129e+00,  4.3741e+00, -4.8277e+00,  1.0000e-02,  1.0002e-02,\n",
       "         -1.7242e+00,  1.0004e-02, -2.1961e+00,  1.0006e-02, -2.1569e+00,\n",
       "         -1.9190e-01, -8.9800e-02, -1.7852e+00, -3.5105e-02, -3.5029e+00,\n",
       "         -1.3270e-02, -5.4003e+00,  3.3900e+02,  5.3760e+02, -1.7595e+00,\n",
       "          6.3043e+02, -2.2692e+00,  7.0671e+02, -1.9534e+00,  8.5888e-03,\n",
       "          1.0062e-01, -1.7763e+00,  2.9913e-01, -2.5286e+00,  3.9006e-01,\n",
       "         -2.2554e+00,  7.8623e-03,  5.4608e-03, -1.0000e+00,  1.0000e+00,\n",
       "         -5.0000e+00,  1.0000e+00, -3.0000e+00]),\n",
       " tensor([ 3.8110e-01,  5.9863e-01,  6.6895e-01,  9.3275e-01,  4.4727e+00,\n",
       "          4.4727e+00,  2.3560e-01,  3.4155e-01,  5.7422e-01,  8.3496e-01,\n",
       "          7.7461e+00,  7.7461e+00,  1.7151e-01,  2.4097e-01,  5.0586e-01,\n",
       "          7.3682e-01,  1.0945e+01,  1.0953e+01,  1.3745e-01,  1.8689e-01,\n",
       "          4.8169e-01,  6.6260e-01,  1.5016e+01,  1.5070e+01,  8.6230e-01,\n",
       "          7.1068e-03,  1.4484e-03,  4.4727e+00,  8.4717e-01,  6.8398e-03,\n",
       "          1.8282e-03,  5.8906e+00,  8.3252e-01,  6.5079e-03,  2.1439e-03,\n",
       "          6.4062e+00,  8.1299e-01,  6.0577e-03,  2.4815e-03,  7.0586e+00,\n",
       "          1.2373e+00,  1.2920e+00,  1.7109e+01,  1.1367e+00,  1.2803e+00,\n",
       "          1.8094e+01,  1.0195e+00,  1.2373e+00,  1.8797e+01,  9.2188e-01,\n",
       "          1.2119e+00,  1.9406e+01,  1.4717e+00,  1.5264e+00,  3.1719e+00,\n",
       "          1.3145e+00,  1.3428e+00,  1.2451e+00,  1.3066e+00,  2.8223e+00,\n",
       "          1.2764e+00,  1.3330e+00,  1.0352e+00,  1.0820e+00,  2.3438e+00,\n",
       "          1.2422e+00,  1.3145e+00,  8.7695e-01,  9.3018e-01,  1.7490e+00,\n",
       "          1.1934e+00,  1.2939e+00,  8.1177e-03,  2.0000e+00,  9.5703e-01,\n",
       "          7.8011e-03,  2.0000e+00,  9.5264e-01,  7.4425e-03,  1.9961e+00,\n",
       "          9.4727e-01,  6.8893e-03,  1.9346e+00,  9.3799e-01,  1.0000e+00,\n",
       "          4.0321e-03,  2.6514e-01,  1.0260e+03,  1.0000e+00,  2.1643e-01,\n",
       "          1.0000e+00,  3.6201e-03,  4.4922e-01,  1.3100e+03,  1.0000e+00,\n",
       "          1.8457e-01,  9.9951e-01,  2.7540e-03,  1.7656e+00,  2.1520e+03,\n",
       "          8.1396e-01,  1.5515e-01,  8.3350e-01,  2.4033e-03,  3.2246e+00,\n",
       "          2.4120e+03,  6.8701e-01,  1.5051e-01,  2.4492e+00,  6.0000e+00,\n",
       "          7.3914e-02,  1.5149e-01,  2.3120e-01,  3.3960e-01,  2.4492e+00,\n",
       "          6.0000e+00,  5.1941e-02,  3.4473e-01,  2.4492e+00,  6.0000e+00,\n",
       "          3.4648e+00,  1.2000e+01,  5.4779e-02,  1.3574e-01,  2.1167e-01,\n",
       "          3.7964e-01,  3.4648e+00,  1.2000e+01,  4.2572e-02,  4.3750e-01,\n",
       "          3.4648e+00,  1.2000e+01,  7.7461e+00,  6.0000e+01,  3.2379e-02,\n",
       "          1.1084e-01,  1.8652e-01,  4.7974e-01,  7.7461e+00,  6.0000e+01,\n",
       "          3.1888e-02,  7.4414e-01,  7.7461e+00,  6.0000e+01,  6.7305e+00,\n",
       "          1.0244e+02,  2.9861e-02,  1.1102e-01,  1.9591e-01,  5.4877e-01,\n",
       "          1.0891e+01,  1.1906e+02,  3.0273e-02,  1.0020e+00,  1.0828e+01,\n",
       "          1.1994e+02,  2.1103e-01,  1.2537e-01,  2.4492e+00,  9.3359e+00,\n",
       "          0.0000e+00,  2.0642e-01,  1.0500e-01,  3.4648e+00,  1.5000e+01,\n",
       "          0.0000e+00,  1.2048e-01,  5.8105e-02,  7.7461e+00,  6.3000e+01,\n",
       "          0.0000e+00,  8.8318e-02,  4.4067e-02,  6.1797e+00,  8.6750e+01,\n",
       "          0.0000e+00,  5.1640e+03,  5.0000e+03,  2.4492e+00,  9.3359e+00,\n",
       "          1.9104e-01,  3.3740e-01,  4.8984e+00,  9.0000e+00,  2.8860e+03,\n",
       "          3.3340e+03,  3.0762e+00,  1.4266e+01,  1.3867e-01,  2.8149e-01,\n",
       "          6.9297e+00,  1.5000e+01,  7.8200e+02,  1.1670e+03,  3.6445e+00,\n",
       "          3.8031e+01,  7.1167e-02,  1.9189e-01,  1.1320e+01,  6.3000e+01,\n",
       "          5.0475e+02,  7.5000e+02,  4.7930e+00,  6.8000e+01,  5.6854e-02,\n",
       "          1.6907e-01,  1.3500e+01,  1.0062e+02,  2.4492e+00,  2.4492e+00,\n",
       "          6.0000e+00,  1.0000e+00,  2.4492e+00,  2.4492e+00,  9.0000e+00,\n",
       "          5.1660e-01,  3.4648e+00,  3.4648e+00,  1.2000e+01,  1.0000e+00,\n",
       "          3.4648e+00,  3.4648e+00,  1.5000e+01,  3.7451e-01,  7.1641e+00,\n",
       "          7.7031e+00,  5.9531e+01,  6.6699e-01,  4.2109e+00,  7.7461e+00,\n",
       "          6.3000e+01,  3.0664e-01,  7.9336e+00,  1.0391e+01,  1.1112e+02,\n",
       "          5.0391e-01,  3.9473e+00,  6.2852e+00,  8.9500e+01,  2.9053e-01,\n",
       "          3.3398e-01,  1.0000e+00,  1.0000e+00,  6.4062e-01,  2.9321e-01,\n",
       "          1.0000e+00,  1.0000e+00,  6.7139e-01,  2.1619e-01,  1.0000e+00,\n",
       "          1.0000e+00,  7.7734e-01,  1.8774e-01,  1.0000e+00,  1.0000e+00,\n",
       "          8.2324e-01,  5.2032e-03,  1.0000e+00,  6.9885e-03,  1.4360e+03,\n",
       "          1.0000e+00,  2.0078e+00,  7.2174e-03,  1.0000e+00,  1.0597e-02,\n",
       "          1.6672e+04,  1.0000e+00,  2.0117e+00,  1.7136e-02,  1.0000e+00,\n",
       "          2.5635e-02,  1.8970e+03,  1.0000e+00,  2.0332e+00,  2.3727e-02,\n",
       "          1.0000e+00,  3.6957e-02,  1.9000e+03,  1.0000e+00,  2.0547e+00,\n",
       "          4.7021e-01,  5.4199e-01,  3.0554e-01,  8.9844e-01,  5.2930e-01,\n",
       "          7.8662e-01,  4.0234e-01,  7.0410e-01,  4.8999e-01,  4.9976e-01,\n",
       "          4.2993e-01,  4.9527e+00,  5.5273e+00,  4.3940e-01,  4.0430e-01,\n",
       "          1.1201e+00,  5.3271e-01,  6.5430e-01,  6.4990e-01,  3.7817e-01,\n",
       "          1.0039e+00,  6.5088e-01,  1.0725e+00,  5.0244e-01,  1.0693e+00,\n",
       "          6.1719e-01,  7.2852e-01,  1.2178e+00,  6.9062e+00,  7.6484e+00,\n",
       "          5.6299e-01,  6.6113e-01,  1.9033e+00,  9.4629e-01,  1.5078e+00,\n",
       "          1.1436e+00,  3.1641e+00,  1.5869e+00,  1.1533e+00,  1.1318e+00,\n",
       "          2.9180e+00,  1.9902e+00,  1.1123e+00,  1.8516e+00,  8.3984e+00,\n",
       "          1.2172e+01,  1.1961e+01,  1.1816e+00,  6.6367e+00,  4.2578e+00,\n",
       "          1.9199e+00,  3.7174e-03,  3.5591e-03,  3.6640e-03,  2.2363e+00,\n",
       "          3.3894e-03,  3.2387e-03,  3.3550e-03,  3.8730e+00,  3.0022e-03,\n",
       "          2.8744e-03,  2.9736e-03,  5.4766e+00,  2.5311e-03,  2.4281e-03,\n",
       "          2.5024e-03,  5.3320e+00,  1.5771e+00,  1.0430e+00,  8.7988e-01,\n",
       "          8.7451e-01,  3.3179e-01,  1.1533e+00,  7.9053e-01,  8.7500e-01,\n",
       "          8.6865e-01,  3.1250e-01,  7.2168e-01,  5.4053e-01,  8.7012e-01,\n",
       "          8.6279e-01,  2.9761e-01,  0.0000e+00,  3.4546e-01,  8.6230e-01,\n",
       "          8.5303e-01,  2.7588e-01,  2.9188e+01,  3.2739e-01,  4.6781e+01,\n",
       "          3.0029e-01,  5.3906e-01,  4.7264e-03,  7.1449e-03,  3.4466e-03,\n",
       "          6.5625e-01,  6.2637e-03,  1.1185e-02,  5.0964e-03,  7.1729e-01,\n",
       "          7.2021e-03,  1.5624e-02,  7.2060e-03,  7.8174e-01,  8.3466e-03,\n",
       "          2.3956e-02,  1.1444e-02,  2.0000e+00,  2.0000e+00,  2.0000e+00,\n",
       "          1.9590e+00,  1.9980e+00,  1.8051e+00,  1.9707e+00,  1.6064e+00,\n",
       "          5.8632e-03,  5.5885e-03,  4.8637e-03,  4.6147e-03,  4.0588e-03,\n",
       "          3.8757e-03,  3.3302e-03,  3.1273e-03,  6.7539e+00,  3.3031e+01,\n",
       "          1.7393e+00,  1.8682e+00,  1.0938e+00,  1.4590e+00,  5.3516e-01,\n",
       "          7.1973e-01,  5.1123e-01,  4.0601e-01,  4.2920e-01,  3.3008e-01,\n",
       "          3.6426e-01,  2.9785e-01,  1.3591e+00,  1.3242e+00,  1.1357e+00,\n",
       "          1.1406e+00,  1.1611e+00,  8.9600e-01,  8.5059e-01,  9.8535e-01,\n",
       "          5.2344e-01,  2.1172e+00,  1.9666e-01,  3.5059e-01,  1.5303e+00,\n",
       "          1.0547e+00,  2.4492e+00,  1.2769e-01,  2.2974e-01,  1.1619e+00,\n",
       "          5.2930e-01,  3.4648e+00,  9.5825e-02,  1.6319e-01,  8.7646e-01,\n",
       "          1.2598e-01,  2.0898e+00,  4.9927e-02,  8.6609e-02,  4.9292e-01,\n",
       "          9.9951e-01,  7.3438e-01,  3.1000e+01,  7.8125e+00,  4.7305e+00,\n",
       "          1.1455e+00,  5.8624e-02,  4.3304e-02,  2.8852e-01,  2.0175e-01,\n",
       "          3.0100e+02,  1.0531e+02,  1.0640e+03,  2.9700e+02,  1.2810e+03,\n",
       "          2.2575e+02,  7.5745e-02,  5.1514e-02,  4.5469e+01,  1.4969e+01,\n",
       "          3.4674e+02,  9.4938e+01,  1.9390e+03,  4.0725e+02,  6.6650e-01,\n",
       "          6.6650e-01,  5.0000e-01,  2.0000e+00,  1.5000e+00,  2.3086e+00,\n",
       "          1.7324e+00,  3.3320e+00,  4.7812e+00,  5.8350e-01,  3.3325e-01,\n",
       "          2.5000e-01,  2.0000e+00,  1.4170e+00,  4.0820e+00,  2.3906e+00,\n",
       "          1.6660e+00,  3.3301e+00,  5.0000e-01,  1.6663e-01,  1.2500e-01,\n",
       "          1.8330e+00,  1.3330e+00,  5.2930e+00,  3.1758e+00,  8.3301e-01,\n",
       "          2.4961e+00,  3.3325e-01,  6.6650e-02,  6.6650e-02,  1.9336e+00,\n",
       "          1.2666e+00,  9.8828e+00,  4.2734e+00,  3.3325e-01,  1.4277e+00,\n",
       "          7.1406e+00,  5.2266e+00,  3.6016e+00,  2.5094e+01,  2.2938e+01,\n",
       "          6.4369e+00,  2.4344e+01,  2.0734e+01,  5.9805e+00,  1.9844e+01,\n",
       "          1.5875e+01,  3.5020e+00,  4.8984e+00,  3.1328e+00,  2.0762e+00,\n",
       "          1.6859e+01,  1.6359e+01,  3.9883e+00,  1.5930e+01,  1.5367e+01,\n",
       "          3.5586e+00,  1.3188e+01,  1.2422e+01,  2.0254e+00,  2.0781e+00,\n",
       "          1.3145e+00,  7.7490e-01,  3.4434e+00,  3.6289e+00,  2.0000e+00,\n",
       "          3.2422e+00,  3.4199e+00,  1.5518e+00,  3.0898e+00,  3.2168e+00,\n",
       "          7.7979e-01,  7.9438e+01,  1.0000e+00,  9.4043e-01,  1.0000e+00,\n",
       "          1.0000e+00,  8.9648e-01,  1.0000e+00,  3.2397e-01,  1.0000e+00,\n",
       "          9.5117e-01,  1.4172e-01,  1.4795e+00,  8.3740e-01,  1.9922e+00,\n",
       "          1.0117e+00,  7.7588e-01,  7.9812e+01,  1.4229e+00,  7.9834e-01,\n",
       "          1.8369e+00,  9.7998e-01,  7.5146e-01,  7.9562e+01,  1.0000e+00,\n",
       "          4.7803e-01,  1.0000e+00,  1.0000e+00,  2.3035e-01,  3.1621e+00,\n",
       "          1.2336e+01,  2.2363e+00,  7.7461e+00,  1.5750e+01,  2.1814e-01,\n",
       "          6.1066e-02,  2.2025e-01,  9.7046e-02,  4.9591e-02,  1.5051e-01,\n",
       "          6.5125e-02,  1.8542e-01,  8.6670e-02,  5.5725e-02,  0.0000e+00,\n",
       "          1.0000e+00,  1.0000e+00,  1.0000e+00,  0.0000e+00,  7.2803e-01,\n",
       "          8.6230e-01,  9.2139e-01,  0.0000e+00,  5.6006e-01,  7.3291e-01,\n",
       "          8.1934e-01,  0.0000e+00,  7.4854e-01,  7.4365e-01,  8.3252e-01,\n",
       "          1.0000e+00,  1.0000e+00,  1.0000e+00,  1.0000e+00,  8.5693e-01,\n",
       "          9.5996e-01,  7.8125e-01,  9.0283e-01,  6.9641e-01,  8.8477e-01,\n",
       "          6.0742e-01,  7.5708e-01,  9.2920e-01,  9.2529e-01,  6.6260e-01,\n",
       "          8.1689e-01,  1.0000e+00,  1.0000e+00,  1.0000e+00,  1.0000e+00,\n",
       "          1.0000e+00,  1.0000e+00,  8.8428e-01,  9.9756e-01,  1.0000e+00,\n",
       "          9.8193e-01,  5.5029e-01,  8.0615e-01,  1.0000e+00,  1.0000e+00,\n",
       "          8.6182e-01,  9.4531e-01,  1.0000e+00,  1.0000e+00,  9.1895e-01,\n",
       "          1.0000e+00,  1.0000e+00,  1.0000e+00,  1.0000e+00,  1.0000e+00,\n",
       "          1.0000e+00,  1.0000e+00,  7.1289e-01,  1.0000e+00,  1.0000e+00,\n",
       "          1.0000e+00,  1.0000e+00,  1.0000e+00,  1.0000e+00,  1.0000e+00,\n",
       "          1.0000e+00,  1.0000e+00,  1.0000e+00,  1.0000e+00,  1.0000e+00,\n",
       "          1.0000e+00,  1.0000e+00,  1.0000e+00,  1.0000e+00,  1.0000e+00,\n",
       "          1.0000e+00,  1.0000e+00,  5.0146e-01,  1.0000e+00,  5.5273e-01,\n",
       "          1.0000e+00,  1.0000e+00,  2.5781e-01,  1.1934e+00,  6.3219e-01,\n",
       "          1.5225e+00,  8.1348e-01,  5.5713e-01,  9.8340e-01,  5.3418e-01,\n",
       "          1.2607e+00,  6.6260e-01,  5.0781e-01,  1.0000e+00,  6.6846e-01,\n",
       "          1.0000e+00,  1.0000e+00,  3.4892e-01,  1.0000e+01,  2.9875e+02,\n",
       "          5.0000e+00,  6.0000e+01,  8.3300e+02,  3.1621e+00,  1.7266e+01,\n",
       "          2.2363e+00,  7.7461e+00,  2.8406e+01,  3.7975e+02,  5.9200e+02,\n",
       "          3.5650e+02,  4.9375e+02,  6.4450e+02,  6.2084e-04,  2.7542e-03,\n",
       "          4.8733e-04,  1.5211e-03,  3.7193e-03,  6.6566e-04,  2.8439e-03,\n",
       "          5.1928e-04,  1.5917e-03,  4.0283e-03,  1.0000e+00,  1.0000e+00,\n",
       "          1.0000e+00,  1.0000e+00,  1.0000e+00,  1.0000e+00,  7.7637e-01,\n",
       "          1.0000e+00,  1.0000e+00,  8.8184e-01,  5.4980e-01,  7.1484e-01,\n",
       "          2.3887e+00,  2.7617e+00,  1.1875e+00,  1.9414e+00,  1.2100e+00,\n",
       "          1.9317e+00,  1.1094e+00,  1.7178e+00,  1.0000e+00,  1.0000e+00,\n",
       "          6.7139e-01,  8.5205e-01,  1.0000e+00,  1.0000e+00,  1.0000e+00,\n",
       "          1.0000e+00,  1.0000e+00,  1.0000e+00,  1.0000e+00,  1.0000e+00,\n",
       "          1.0000e+00,  1.0000e+00,  1.0000e+00,  1.0000e+00,  1.1475e+00,\n",
       "          1.7148e+00,  7.2607e-01,  1.1494e+00,  2.4062e+00,  3.0527e+00,\n",
       "          1.2480e+00,  2.0801e+00,  1.0000e+00,  1.0000e+00,  1.0000e+00,\n",
       "          1.0000e+00,  1.0000e+00,  1.0000e+00,  1.0000e+00,  1.0000e+00,\n",
       "          1.0000e+00,  1.0000e+00,  5.0049e-01,  8.6670e-01,  4.9976e-01,\n",
       "          4.6655e-01,  2.7710e-01,  3.9868e-01,  2.7246e+00,  3.1738e+00,\n",
       "          1.2354e+00,  2.1914e+00,  1.1074e+00,  1.7588e+00,  7.4854e-01,\n",
       "          1.2266e+00,  6.0010e-01,  5.5566e-01,  3.8210e-01,  5.0000e-01,\n",
       "          5.0330e-03,  4.9973e-03,  5.3825e-03,  5.4474e-03,  1.0000e+00,\n",
       "          1.0000e+00,  3.0000e+00,  3.0000e+00,  7.0000e+00,  7.0000e+00,\n",
       "          1.2000e+01,  1.2000e+01,  8.8125e+00,  8.5234e+00,  3.3312e+01,\n",
       "          2.9094e+01,  7.4812e+01,  7.2625e+01,  1.2319e+02,  1.3075e+02,\n",
       "          2.0000e+01,  2.0000e+01,  1.0000e+01,  2.0000e+01,  4.0000e+01,\n",
       "          3.0000e+00,  2.4720e+03,  3.6680e+03,  7.9697e+01,  4.1175e+02,\n",
       "          1.2050e+03,  6.9922e-01,  7.3945e+00,  2.0696e+03,  4.4338e+03,\n",
       "          7.4072e-01, -1.5092e-04,  1.1895e+00,  3.7375e+01,  1.0000e+00,\n",
       "         -1.3447e-04,  1.1729e+00,  1.1025e+02,  1.0000e+00, -1.7953e-04,\n",
       "          1.1904e+00,  2.0162e+02,  1.0000e+00,  1.2940e+03,  2.3203e+01,\n",
       "          5.8000e+02,  3.8875e+02,  3.7906e+01,  6.0938e+00,  1.4450e-02,\n",
       "          8.9417e-03, -1.3721e-04,  7.5951e-03,  1.9000e+01,  1.9000e+01,\n",
       "          1.0752e+00,  4.3594e+00,  1.0000e+00,  1.0000e+00,  1.0000e+00,\n",
       "          1.0000e+00,  1.0000e+00,  1.0000e+00,  1.0000e+00,  1.0000e+00,\n",
       "          1.0000e+00,  1.0000e+00,  1.0000e+00,  1.0000e+00,  7.7393e-01,\n",
       "          8.0029e-01,  5.4639e-01,  8.6594e-04,  2.8281e+00,  7.6199e-04,\n",
       "          3.3164e+00,  6.0987e-04,  3.6582e+00,  4.9210e-04,  3.4023e+00,\n",
       "          4.3053e-04,  3.8125e+00,  8.2188e+00,  1.0000e+00,  3.2802e-03,\n",
       "          1.6736e-01,  3.5508e+00,  7.1631e-01,  4.6501e-03,  3.4241e-02,\n",
       "          2.2129e+00,  4.1431e-01,  8.2474e-03,  6.8665e-03,  2.0020e+00,\n",
       "          2.6074e-01,  1.5808e-02,  1.4668e-03,  2.0000e+00,  3.0151e-01,\n",
       "          2.9144e-02,  1.1749e-03,  3.0000e+00,  2.5000e+00,  2.1787e+00,\n",
       "          2.0000e+00,  1.9570e+00,  1.0000e+00,  9.9951e-01,  9.9756e-01,\n",
       "          8.6963e-01,  3.1445e-01,  3.1621e+00,  5.4766e+00,  9.4844e+00,\n",
       "          1.2227e+01,  9.5000e+00,  2.2913e-01,  9.0283e-01,  6.0596e-01,\n",
       "          2.2129e+00,  1.5908e+00,  5.7227e+00,  5.0547e+00,  1.7250e+01,\n",
       "          1.2625e+01,  4.4875e+01,  3.3393e-01,  8.2617e-01,  2.1426e+00,\n",
       "          6.5543e+00,  1.6516e+01,  3.3586e+09,  2.9131e+09,  1.7859e+00,\n",
       "          2.5484e+09,  4.1519e+00,  2.1230e+09,  6.0555e+00,  2.3248e+09,\n",
       "          2.6885e+08,  2.2407e+08,  1.7857e+00,  1.6739e+08,  4.1464e+00,\n",
       "          1.4254e+08,  5.7538e+00,  3.8830e-01,  3.5382e-01,  1.7856e+00,\n",
       "          2.8169e-01,  4.1471e+00,  1.9838e-01,  5.6988e+00,  1.0992e+03,\n",
       "          1.0665e+03,  1.7823e+00,  1.0725e+03,  3.6106e+00,  1.0301e+03,\n",
       "          4.0474e+00,  1.1421e+03,  1.1242e+03,  1.7769e+00,  1.1202e+03,\n",
       "          3.4495e+00,  1.0747e+03,  4.1758e+00,  4.5079e-01,  4.2286e-01,\n",
       "          1.7828e+00,  4.0804e-01,  4.1707e+00,  3.9749e-01,  7.0198e+00,\n",
       "          2.0000e-01,  8.6900e-02,  1.7806e+00,  3.5443e-02,  3.6289e+00,\n",
       "          1.7143e-02,  5.1019e+00,  1.3787e+05,  1.2573e+05,  1.7834e+00,\n",
       "          1.1109e+05,  4.0686e+00,  1.0059e+05,  5.5341e+00,  9.9224e-01,\n",
       "          8.9727e-01,  1.7747e+00,  7.2487e-01,  2.4933e+00,  6.1927e-01,\n",
       "          2.1180e+00,  8.1325e-02,  9.2206e-02,  1.0000e+00,  5.0000e+00,\n",
       "         -1.0000e+00,  3.0000e+01,  2.0000e+00]),\n",
       " tensor([False,  True,  True,  True,  True, False, False,  True,  True,  True,\n",
       "          True, False, False,  True,  True,  True,  True, False,  True,  True,\n",
       "          True, False,  True, False, False,  True,  True,  True, False, False,\n",
       "          True,  True, False, False,  True,  True, False, False,  True,  True,\n",
       "          True,  True,  True, False,  True,  True, False, False, False, False,\n",
       "         False,  True,  True,  True,  True, False,  True, False, False,  True,\n",
       "         False,  True, False, False,  True, False, False, False, False,  True,\n",
       "         False, False, False, False, False, False, False, False, False, False,\n",
       "         False, False, False, False,  True,  True, False,  True, False, False,\n",
       "          True,  True, False, False, False,  True,  True,  True, False,  True,\n",
       "          True, False,  True,  True,  True, False,  True,  True, False,  True,\n",
       "          True, False,  True, False, False,  True, False, False,  True,  True,\n",
       "          True, False,  True, False,  True, False, False,  True, False, False,\n",
       "          True,  True,  True,  True,  True, False, False, False,  True, False,\n",
       "         False, False, False, False,  True,  True,  True, False,  True,  True,\n",
       "          True, False, False, False, False, False, False,  True, False, False,\n",
       "          True, False,  True, False, False,  True, False,  True,  True, False,\n",
       "          True, False,  True, False,  True,  True,  True, False, False, False,\n",
       "          True,  True,  True,  True,  True, False, False, False,  True,  True,\n",
       "          True,  True, False, False, False,  True,  True, False,  True,  True,\n",
       "          True, False, False,  True, False,  True,  True,  True,  True,  True,\n",
       "          True, False, False,  True, False,  True,  True,  True, False, False,\n",
       "         False,  True, False,  True,  True, False, False,  True, False,  True,\n",
       "         False, False,  True, False, False,  True, False,  True, False,  True,\n",
       "         False, False,  True,  True,  True, False,  True, False, False, False,\n",
       "          True, False, False,  True,  True, False, False, False,  True, False,\n",
       "          True,  True,  True,  True,  True, False,  True, False, False, False,\n",
       "          True,  True,  True, False,  True,  True, False,  True,  True, False,\n",
       "         False, False, False, False,  True, False, False, False,  True, False,\n",
       "          True, False,  True, False, False, False,  True, False, False, False,\n",
       "         False, False, False, False, False, False, False,  True, False, False,\n",
       "         False, False, False, False,  True, False, False,  True, False, False,\n",
       "         False,  True, False, False,  True, False,  True,  True, False,  True,\n",
       "         False,  True,  True,  True,  True, False, False, False,  True, False,\n",
       "         False, False,  True,  True, False, False,  True,  True, False,  True,\n",
       "         False,  True, False, False, False, False, False, False,  True, False,\n",
       "         False, False, False, False, False, False, False,  True,  True,  True,\n",
       "          True,  True, False,  True, False,  True, False,  True, False, False,\n",
       "          True,  True, False,  True, False,  True, False, False, False, False,\n",
       "         False, False, False,  True,  True,  True,  True, False, False, False,\n",
       "         False,  True, False,  True,  True,  True,  True, False,  True,  True,\n",
       "          True,  True,  True,  True,  True,  True,  True,  True, False,  True,\n",
       "          True, False,  True, False, False,  True,  True,  True,  True, False,\n",
       "          True,  True,  True,  True, False,  True,  True, False,  True,  True,\n",
       "          True,  True, False,  True,  True,  True, False, False, False, False,\n",
       "         False, False, False, False, False,  True, False,  True, False,  True,\n",
       "         False, False,  True,  True,  True,  True,  True, False,  True,  True,\n",
       "         False, False, False, False, False, False,  True, False, False, False,\n",
       "         False,  True, False,  True, False,  True, False,  True,  True,  True,\n",
       "         False, False, False,  True,  True, False,  True,  True,  True, False,\n",
       "          True, False,  True,  True, False,  True, False, False, False, False,\n",
       "         False, False, False, False, False, False, False,  True, False,  True,\n",
       "          True,  True, False, False, False, False,  True,  True,  True,  True,\n",
       "          True,  True,  True,  True,  True,  True,  True,  True,  True,  True,\n",
       "          True, False,  True,  True,  True,  True,  True,  True,  True,  True,\n",
       "          True,  True,  True, False, False, False, False, False,  True, False,\n",
       "         False, False, False, False,  True,  True,  True,  True,  True, False,\n",
       "         False, False, False, False, False,  True, False,  True,  True, False,\n",
       "         False, False,  True, False, False,  True, False,  True, False, False,\n",
       "         False, False, False, False,  True, False, False,  True,  True,  True,\n",
       "          True,  True, False, False, False, False, False, False, False, False,\n",
       "          True,  True,  True,  True,  True,  True,  True,  True,  True, False,\n",
       "         False, False, False, False, False, False,  True,  True,  True,  True,\n",
       "         False,  True,  True,  True,  True,  True, False,  True,  True,  True,\n",
       "         False,  True, False,  True,  True,  True, False,  True, False, False,\n",
       "         False, False, False, False, False,  True,  True,  True,  True,  True,\n",
       "          True,  True,  True, False,  True, False,  True,  True,  True, False,\n",
       "         False, False,  True,  True,  True, False, False,  True,  True,  True,\n",
       "          True,  True,  True, False, False, False, False, False,  True,  True,\n",
       "          True,  True,  True,  True, False, False,  True,  True, False,  True,\n",
       "         False,  True, False, False,  True, False,  True,  True, False, False,\n",
       "         False, False, False, False, False, False,  True,  True,  True,  True,\n",
       "         False, False,  True,  True,  True,  True,  True,  True,  True,  True,\n",
       "         False,  True,  True,  True, False, False, False,  True, False,  True,\n",
       "         False, False,  True,  True,  True,  True,  True,  True,  True,  True,\n",
       "          True,  True,  True,  True,  True, False, False, False, False, False,\n",
       "          True,  True,  True,  True,  True,  True,  True,  True, False, False,\n",
       "          True,  True,  True,  True,  True,  True,  True,  True,  True,  True,\n",
       "         False, False,  True,  True,  True,  True,  True,  True,  True, False,\n",
       "         False,  True,  True,  True,  True,  True,  True,  True,  True,  True,\n",
       "          True,  True,  True,  True,  True,  True, False, False,  True, False,\n",
       "          True,  True, False,  True,  True,  True, False,  True,  True, False,\n",
       "         False, False, False, False,  True,  True, False, False,  True,  True,\n",
       "         False,  True, False, False,  True,  True, False, False, False, False,\n",
       "          True, False, False, False,  True, False, False,  True,  True,  True,\n",
       "          True, False, False,  True, False, False,  True, False, False,  True,\n",
       "         False, False,  True, False, False,  True, False, False, False,  True,\n",
       "         False,  True, False,  True,  True, False,  True, False,  True,  True,\n",
       "          True, False,  True,  True,  True, False,  True, False, False, False,\n",
       "         False,  True, False, False, False, False, False, False,  True, False,\n",
       "          True, False, False, False, False, False, False, False,  True,  True,\n",
       "          True,  True,  True, False, False,  True, False,  True,  True,  True,\n",
       "          True,  True,  True,  True,  True,  True,  True,  True,  True,  True,\n",
       "          True,  True,  True,  True,  True,  True,  True,  True,  True,  True,\n",
       "          True,  True,  True,  True,  True,  True,  True,  True,  True,  True,\n",
       "          True,  True,  True,  True,  True,  True,  True,  True,  True,  True,\n",
       "          True,  True,  True,  True,  True,  True,  True,  True,  True,  True,\n",
       "          True,  True,  True,  True,  True,  True,  True,  True,  True,  True,\n",
       "          True,  True,  True,  True,  True,  True,  True,  True]))"
      ]
     },
     "execution_count": 20,
     "metadata": {},
     "output_type": "execute_result"
    }
   ],
   "source": [
    "sec = 93000\n",
    "if sec<100000:\n",
    "    period=93000\n",
    "else:\n",
    "    period=100000\n",
    "    \n",
    "valid_ind=test_dataloader.valid_dict[period]\n",
    "factor_data = load_all_data(date,test_dataloader.stock_list, sec, model_training=True,valid_ind=valid_ind)"
   ]
  },
  {
   "cell_type": "code",
   "execution_count": null,
   "metadata": {},
   "outputs": [],
   "source": []
  },
  {
   "cell_type": "code",
   "execution_count": null,
   "metadata": {},
   "outputs": [],
   "source": []
  },
  {
   "cell_type": "code",
   "execution_count": 11,
   "metadata": {},
   "outputs": [
    {
     "data": {
      "text/plain": [
       "count    2736.000000\n",
       "mean        0.999993\n",
       "std         0.000004\n",
       "min         0.999983\n",
       "25%         0.999990\n",
       "50%         0.999992\n",
       "75%         0.999995\n",
       "max         1.000003\n",
       "dtype: float64"
      ]
     },
     "execution_count": 11,
     "metadata": {},
     "output_type": "execute_result"
    }
   ],
   "source": [
    "score1 = pd.read_feather(r'/home/datamake94/data_nb7/sec_score_output_final/5m:yy_industry_test/20240506.fea').set_index('second')\n",
    "score2 = pd.read_feather(r'/home/datamake94/data_nb7/sec_score_output_final/5m:test2/20240506.fea').set_index('second')\n",
    "score1.T.corrwith(score2.T).describe()"
   ]
  },
  {
   "cell_type": "code",
   "execution_count": 9,
   "metadata": {},
   "outputs": [
    {
     "data": {
      "text/html": [
       "<div>\n",
       "<style scoped>\n",
       "    .dataframe tbody tr th:only-of-type {\n",
       "        vertical-align: middle;\n",
       "    }\n",
       "\n",
       "    .dataframe tbody tr th {\n",
       "        vertical-align: top;\n",
       "    }\n",
       "\n",
       "    .dataframe thead th {\n",
       "        text-align: right;\n",
       "    }\n",
       "</style>\n",
       "<table border=\"1\" class=\"dataframe\">\n",
       "  <thead>\n",
       "    <tr style=\"text-align: right;\">\n",
       "      <th></th>\n",
       "      <th>1</th>\n",
       "      <th>2</th>\n",
       "      <th>4</th>\n",
       "      <th>6</th>\n",
       "      <th>7</th>\n",
       "      <th>8</th>\n",
       "      <th>9</th>\n",
       "      <th>10</th>\n",
       "      <th>11</th>\n",
       "      <th>12</th>\n",
       "      <th>...</th>\n",
       "      <th>688787</th>\n",
       "      <th>688788</th>\n",
       "      <th>688789</th>\n",
       "      <th>688793</th>\n",
       "      <th>688798</th>\n",
       "      <th>688799</th>\n",
       "      <th>688800</th>\n",
       "      <th>688819</th>\n",
       "      <th>688981</th>\n",
       "      <th>689009</th>\n",
       "    </tr>\n",
       "    <tr>\n",
       "      <th>second</th>\n",
       "      <th></th>\n",
       "      <th></th>\n",
       "      <th></th>\n",
       "      <th></th>\n",
       "      <th></th>\n",
       "      <th></th>\n",
       "      <th></th>\n",
       "      <th></th>\n",
       "      <th></th>\n",
       "      <th></th>\n",
       "      <th></th>\n",
       "      <th></th>\n",
       "      <th></th>\n",
       "      <th></th>\n",
       "      <th></th>\n",
       "      <th></th>\n",
       "      <th></th>\n",
       "      <th></th>\n",
       "      <th></th>\n",
       "      <th></th>\n",
       "      <th></th>\n",
       "    </tr>\n",
       "  </thead>\n",
       "  <tbody>\n",
       "    <tr>\n",
       "      <th>93200</th>\n",
       "      <td>0.232280</td>\n",
       "      <td>0.695141</td>\n",
       "      <td>-0.804502</td>\n",
       "      <td>0.334179</td>\n",
       "      <td>-0.422321</td>\n",
       "      <td>-0.096884</td>\n",
       "      <td>0.753620</td>\n",
       "      <td>0.875685</td>\n",
       "      <td>0.255046</td>\n",
       "      <td>-0.560255</td>\n",
       "      <td>...</td>\n",
       "      <td>-0.817130</td>\n",
       "      <td>-0.404219</td>\n",
       "      <td>-0.641658</td>\n",
       "      <td>-0.817475</td>\n",
       "      <td>0.002067</td>\n",
       "      <td>-1.337756</td>\n",
       "      <td>-0.040318</td>\n",
       "      <td>0.078400</td>\n",
       "      <td>-0.903496</td>\n",
       "      <td>0.093498</td>\n",
       "    </tr>\n",
       "    <tr>\n",
       "      <th>93205</th>\n",
       "      <td>0.139143</td>\n",
       "      <td>1.107282</td>\n",
       "      <td>-0.816226</td>\n",
       "      <td>0.409033</td>\n",
       "      <td>0.016141</td>\n",
       "      <td>0.471355</td>\n",
       "      <td>0.517374</td>\n",
       "      <td>1.221308</td>\n",
       "      <td>0.305733</td>\n",
       "      <td>-0.018300</td>\n",
       "      <td>...</td>\n",
       "      <td>-0.740883</td>\n",
       "      <td>0.084808</td>\n",
       "      <td>-0.337551</td>\n",
       "      <td>-0.722563</td>\n",
       "      <td>0.129618</td>\n",
       "      <td>-0.232381</td>\n",
       "      <td>0.431011</td>\n",
       "      <td>0.887340</td>\n",
       "      <td>-0.829795</td>\n",
       "      <td>0.676262</td>\n",
       "    </tr>\n",
       "    <tr>\n",
       "      <th>93210</th>\n",
       "      <td>0.179563</td>\n",
       "      <td>0.860346</td>\n",
       "      <td>-1.049079</td>\n",
       "      <td>0.013632</td>\n",
       "      <td>-0.166536</td>\n",
       "      <td>-0.014878</td>\n",
       "      <td>-0.279685</td>\n",
       "      <td>0.886646</td>\n",
       "      <td>0.011624</td>\n",
       "      <td>-0.460517</td>\n",
       "      <td>...</td>\n",
       "      <td>-1.147584</td>\n",
       "      <td>-1.085817</td>\n",
       "      <td>-0.700030</td>\n",
       "      <td>-0.634275</td>\n",
       "      <td>-0.989253</td>\n",
       "      <td>-0.239495</td>\n",
       "      <td>-0.228274</td>\n",
       "      <td>0.825831</td>\n",
       "      <td>-1.140662</td>\n",
       "      <td>-0.009144</td>\n",
       "    </tr>\n",
       "    <tr>\n",
       "      <th>93215</th>\n",
       "      <td>0.127347</td>\n",
       "      <td>0.729137</td>\n",
       "      <td>-0.691090</td>\n",
       "      <td>0.872204</td>\n",
       "      <td>0.360820</td>\n",
       "      <td>0.065106</td>\n",
       "      <td>-0.100862</td>\n",
       "      <td>1.063529</td>\n",
       "      <td>0.075046</td>\n",
       "      <td>-0.456464</td>\n",
       "      <td>...</td>\n",
       "      <td>-0.881877</td>\n",
       "      <td>-1.172132</td>\n",
       "      <td>-0.684748</td>\n",
       "      <td>-0.579740</td>\n",
       "      <td>-0.562186</td>\n",
       "      <td>-0.013179</td>\n",
       "      <td>-0.273139</td>\n",
       "      <td>0.546679</td>\n",
       "      <td>-0.698112</td>\n",
       "      <td>-0.140301</td>\n",
       "    </tr>\n",
       "    <tr>\n",
       "      <th>93220</th>\n",
       "      <td>0.207856</td>\n",
       "      <td>0.687744</td>\n",
       "      <td>-0.067666</td>\n",
       "      <td>1.438583</td>\n",
       "      <td>0.298061</td>\n",
       "      <td>-0.148229</td>\n",
       "      <td>1.022386</td>\n",
       "      <td>0.621247</td>\n",
       "      <td>0.657221</td>\n",
       "      <td>-0.606849</td>\n",
       "      <td>...</td>\n",
       "      <td>-0.708593</td>\n",
       "      <td>-0.545180</td>\n",
       "      <td>-0.989314</td>\n",
       "      <td>-0.466911</td>\n",
       "      <td>-0.144159</td>\n",
       "      <td>0.434528</td>\n",
       "      <td>-0.733792</td>\n",
       "      <td>0.284400</td>\n",
       "      <td>-0.660327</td>\n",
       "      <td>0.621168</td>\n",
       "    </tr>\n",
       "    <tr>\n",
       "      <th>...</th>\n",
       "      <td>...</td>\n",
       "      <td>...</td>\n",
       "      <td>...</td>\n",
       "      <td>...</td>\n",
       "      <td>...</td>\n",
       "      <td>...</td>\n",
       "      <td>...</td>\n",
       "      <td>...</td>\n",
       "      <td>...</td>\n",
       "      <td>...</td>\n",
       "      <td>...</td>\n",
       "      <td>...</td>\n",
       "      <td>...</td>\n",
       "      <td>...</td>\n",
       "      <td>...</td>\n",
       "      <td>...</td>\n",
       "      <td>...</td>\n",
       "      <td>...</td>\n",
       "      <td>...</td>\n",
       "      <td>...</td>\n",
       "      <td>...</td>\n",
       "    </tr>\n",
       "    <tr>\n",
       "      <th>144935</th>\n",
       "      <td>-0.133726</td>\n",
       "      <td>-0.134836</td>\n",
       "      <td>-0.091653</td>\n",
       "      <td>-0.123519</td>\n",
       "      <td>-0.062173</td>\n",
       "      <td>-0.092499</td>\n",
       "      <td>-0.128157</td>\n",
       "      <td>-0.077646</td>\n",
       "      <td>-0.138444</td>\n",
       "      <td>-0.137554</td>\n",
       "      <td>...</td>\n",
       "      <td>-0.140876</td>\n",
       "      <td>-0.062219</td>\n",
       "      <td>-0.185193</td>\n",
       "      <td>-0.098493</td>\n",
       "      <td>-0.111295</td>\n",
       "      <td>0.010911</td>\n",
       "      <td>-0.036594</td>\n",
       "      <td>-0.112648</td>\n",
       "      <td>-0.212443</td>\n",
       "      <td>-0.043415</td>\n",
       "    </tr>\n",
       "    <tr>\n",
       "      <th>144940</th>\n",
       "      <td>-0.104626</td>\n",
       "      <td>-0.117472</td>\n",
       "      <td>-0.075552</td>\n",
       "      <td>-0.121455</td>\n",
       "      <td>-0.043340</td>\n",
       "      <td>-0.038483</td>\n",
       "      <td>-0.150223</td>\n",
       "      <td>-0.070940</td>\n",
       "      <td>-0.123162</td>\n",
       "      <td>-0.129446</td>\n",
       "      <td>...</td>\n",
       "      <td>-0.249141</td>\n",
       "      <td>-0.051889</td>\n",
       "      <td>-0.253959</td>\n",
       "      <td>-0.090285</td>\n",
       "      <td>-0.050867</td>\n",
       "      <td>0.267559</td>\n",
       "      <td>-0.041019</td>\n",
       "      <td>-0.105701</td>\n",
       "      <td>-0.232709</td>\n",
       "      <td>0.044137</td>\n",
       "    </tr>\n",
       "    <tr>\n",
       "      <th>144945</th>\n",
       "      <td>-0.198401</td>\n",
       "      <td>-0.094569</td>\n",
       "      <td>-0.048705</td>\n",
       "      <td>-0.128285</td>\n",
       "      <td>-0.016693</td>\n",
       "      <td>-0.088326</td>\n",
       "      <td>-0.152827</td>\n",
       "      <td>-0.076875</td>\n",
       "      <td>-0.179344</td>\n",
       "      <td>-0.134270</td>\n",
       "      <td>...</td>\n",
       "      <td>-0.119257</td>\n",
       "      <td>-0.046546</td>\n",
       "      <td>-0.321520</td>\n",
       "      <td>-0.087829</td>\n",
       "      <td>-0.075130</td>\n",
       "      <td>0.138740</td>\n",
       "      <td>-0.019911</td>\n",
       "      <td>-0.174609</td>\n",
       "      <td>-0.261208</td>\n",
       "      <td>-0.002931</td>\n",
       "    </tr>\n",
       "    <tr>\n",
       "      <th>144950</th>\n",
       "      <td>-0.168417</td>\n",
       "      <td>-0.119674</td>\n",
       "      <td>-0.083158</td>\n",
       "      <td>-0.126767</td>\n",
       "      <td>-0.058644</td>\n",
       "      <td>-0.087461</td>\n",
       "      <td>-0.133529</td>\n",
       "      <td>-0.056690</td>\n",
       "      <td>-0.206757</td>\n",
       "      <td>-0.100528</td>\n",
       "      <td>...</td>\n",
       "      <td>-0.033395</td>\n",
       "      <td>-0.039048</td>\n",
       "      <td>-0.425324</td>\n",
       "      <td>-0.068994</td>\n",
       "      <td>0.085918</td>\n",
       "      <td>0.226589</td>\n",
       "      <td>-0.042723</td>\n",
       "      <td>-0.117599</td>\n",
       "      <td>-0.256661</td>\n",
       "      <td>-0.041448</td>\n",
       "    </tr>\n",
       "    <tr>\n",
       "      <th>144955</th>\n",
       "      <td>-0.166889</td>\n",
       "      <td>-0.131225</td>\n",
       "      <td>-0.129593</td>\n",
       "      <td>-0.144234</td>\n",
       "      <td>-0.057649</td>\n",
       "      <td>-0.077319</td>\n",
       "      <td>-0.098316</td>\n",
       "      <td>-0.065704</td>\n",
       "      <td>-0.202751</td>\n",
       "      <td>-0.098487</td>\n",
       "      <td>...</td>\n",
       "      <td>-0.102323</td>\n",
       "      <td>-0.039529</td>\n",
       "      <td>-0.387013</td>\n",
       "      <td>0.022322</td>\n",
       "      <td>-0.129629</td>\n",
       "      <td>0.219423</td>\n",
       "      <td>-0.058366</td>\n",
       "      <td>-0.142347</td>\n",
       "      <td>-0.256901</td>\n",
       "      <td>-0.092104</td>\n",
       "    </tr>\n",
       "  </tbody>\n",
       "</table>\n",
       "<p>2736 rows × 5094 columns</p>\n",
       "</div>"
      ],
      "text/plain": [
       "               1         2         4         6         7         8         9  \\\n",
       "second                                                                         \n",
       "93200   0.232280  0.695141 -0.804502  0.334179 -0.422321 -0.096884  0.753620   \n",
       "93205   0.139143  1.107282 -0.816226  0.409033  0.016141  0.471355  0.517374   \n",
       "93210   0.179563  0.860346 -1.049079  0.013632 -0.166536 -0.014878 -0.279685   \n",
       "93215   0.127347  0.729137 -0.691090  0.872204  0.360820  0.065106 -0.100862   \n",
       "93220   0.207856  0.687744 -0.067666  1.438583  0.298061 -0.148229  1.022386   \n",
       "...          ...       ...       ...       ...       ...       ...       ...   \n",
       "144935 -0.133726 -0.134836 -0.091653 -0.123519 -0.062173 -0.092499 -0.128157   \n",
       "144940 -0.104626 -0.117472 -0.075552 -0.121455 -0.043340 -0.038483 -0.150223   \n",
       "144945 -0.198401 -0.094569 -0.048705 -0.128285 -0.016693 -0.088326 -0.152827   \n",
       "144950 -0.168417 -0.119674 -0.083158 -0.126767 -0.058644 -0.087461 -0.133529   \n",
       "144955 -0.166889 -0.131225 -0.129593 -0.144234 -0.057649 -0.077319 -0.098316   \n",
       "\n",
       "              10        11        12  ...    688787    688788    688789  \\\n",
       "second                                ...                                 \n",
       "93200   0.875685  0.255046 -0.560255  ... -0.817130 -0.404219 -0.641658   \n",
       "93205   1.221308  0.305733 -0.018300  ... -0.740883  0.084808 -0.337551   \n",
       "93210   0.886646  0.011624 -0.460517  ... -1.147584 -1.085817 -0.700030   \n",
       "93215   1.063529  0.075046 -0.456464  ... -0.881877 -1.172132 -0.684748   \n",
       "93220   0.621247  0.657221 -0.606849  ... -0.708593 -0.545180 -0.989314   \n",
       "...          ...       ...       ...  ...       ...       ...       ...   \n",
       "144935 -0.077646 -0.138444 -0.137554  ... -0.140876 -0.062219 -0.185193   \n",
       "144940 -0.070940 -0.123162 -0.129446  ... -0.249141 -0.051889 -0.253959   \n",
       "144945 -0.076875 -0.179344 -0.134270  ... -0.119257 -0.046546 -0.321520   \n",
       "144950 -0.056690 -0.206757 -0.100528  ... -0.033395 -0.039048 -0.425324   \n",
       "144955 -0.065704 -0.202751 -0.098487  ... -0.102323 -0.039529 -0.387013   \n",
       "\n",
       "          688793    688798    688799    688800    688819    688981    689009  \n",
       "second                                                                        \n",
       "93200  -0.817475  0.002067 -1.337756 -0.040318  0.078400 -0.903496  0.093498  \n",
       "93205  -0.722563  0.129618 -0.232381  0.431011  0.887340 -0.829795  0.676262  \n",
       "93210  -0.634275 -0.989253 -0.239495 -0.228274  0.825831 -1.140662 -0.009144  \n",
       "93215  -0.579740 -0.562186 -0.013179 -0.273139  0.546679 -0.698112 -0.140301  \n",
       "93220  -0.466911 -0.144159  0.434528 -0.733792  0.284400 -0.660327  0.621168  \n",
       "...          ...       ...       ...       ...       ...       ...       ...  \n",
       "144935 -0.098493 -0.111295  0.010911 -0.036594 -0.112648 -0.212443 -0.043415  \n",
       "144940 -0.090285 -0.050867  0.267559 -0.041019 -0.105701 -0.232709  0.044137  \n",
       "144945 -0.087829 -0.075130  0.138740 -0.019911 -0.174609 -0.261208 -0.002931  \n",
       "144950 -0.068994  0.085918  0.226589 -0.042723 -0.117599 -0.256661 -0.041448  \n",
       "144955  0.022322 -0.129629  0.219423 -0.058366 -0.142347 -0.256901 -0.092104  \n",
       "\n",
       "[2736 rows x 5094 columns]"
      ]
     },
     "execution_count": 9,
     "metadata": {},
     "output_type": "execute_result"
    }
   ],
   "source": [
    "pd.read_feather(r'/home/datamake94/data_nb7/sec_score_output_final/5m:test2/20240506.fea').set_index('second')"
   ]
  },
  {
   "cell_type": "code",
   "execution_count": null,
   "metadata": {},
   "outputs": [],
   "source": []
  },
  {
   "cell_type": "code",
   "execution_count": 38,
   "metadata": {},
   "outputs": [
    {
     "data": {
      "text/plain": [
       "array([ 0.25251997,  0.8065849 ,  0.08614143, -1.4189508 ,  0.08776984,\n",
       "       -0.9006066 ,  0.23149104,  1.6277778 , -1.6405615 ,  5.7395678 ],\n",
       "      dtype=float32)"
      ]
     },
     "execution_count": 38,
     "metadata": {},
     "output_type": "execute_result"
    }
   ],
   "source": [
    "jit_model = torch.jit.load(r'/home/datamake94/决策库/trade_strategy/秒频_yy实盘20240427_t0/实盘模型_测试/model3_100000.pt')\n",
    "jit_model(factor_data.cpu(),industry_dummy.cpu()).detach().numpy()[:,0][:10]"
   ]
  },
  {
   "cell_type": "code",
   "execution_count": 37,
   "metadata": {},
   "outputs": [
    {
     "data": {
      "text/plain": [
       "array([ 0.2524215 ,  0.80681264,  0.08562268, -1.4194442 ,  0.08741993,\n",
       "       -0.90110993,  0.23194721,  1.626204  , -1.6410867 ,  5.739192  ],\n",
       "      dtype=float32)"
      ]
     },
     "execution_count": 37,
     "metadata": {},
     "output_type": "execute_result"
    }
   ],
   "source": [
    "model = model_dict[(future_ret, period)]\n",
    "model.to('cuda:0')\n",
    "model(factor_data,industry_dummy).cpu().detach().numpy()[:,0][:10]"
   ]
  },
  {
   "cell_type": "code",
   "execution_count": 22,
   "metadata": {},
   "outputs": [
    {
     "data": {
      "text/plain": [
       "tensor(533)"
      ]
     },
     "execution_count": 22,
     "metadata": {},
     "output_type": "execute_result"
    }
   ],
   "source": [
    "params.factor_num"
   ]
  },
  {
   "cell_type": "code",
   "execution_count": null,
   "metadata": {},
   "outputs": [],
   "source": []
  },
  {
   "cell_type": "code",
   "execution_count": null,
   "metadata": {},
   "outputs": [],
   "source": []
  }
 ],
 "metadata": {
  "kernelspec": {
   "display_name": "Python 3 (ipykernel)",
   "language": "python",
   "name": "python3"
  }
 },
 "nbformat": 4,
 "nbformat_minor": 2
}
